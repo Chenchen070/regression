{
 "cells": [
  {
   "cell_type": "markdown",
   "id": "5f62bc9e",
   "metadata": {},
   "source": [
    "# Exercises\n",
    "\n",
    "### Do your work for this exercise in a jupyter notebook named modeling within the regression-exercises repo. Add, commit, and push your work.\n",
    "\n",
    "1. Select a dataset with a continuous target variable.\n",
    "\n",
    "2. Be sure your data is prepared (no missing values, numeric datatypes) and split into samples.\n",
    "\n",
    "3. Work through all of the steps outlined in the lesson, from setting the baseline to selected a model and evaluating the final model on your test data."
   ]
  },
  {
   "cell_type": "code",
   "execution_count": 73,
   "id": "3cc76668",
   "metadata": {},
   "outputs": [],
   "source": [
    "import numpy as np\n",
    "import pandas as pd\n",
    "import wrangle\n",
    "import matplotlib.pyplot as plt\n",
    "from sklearn.feature_selection import RFE\n",
    "from sklearn.metrics import mean_squared_error\n",
    "from sklearn.preprocessing import MinMaxScaler\n",
    "import sklearn.preprocessing\n",
    "import warnings\n",
    "warnings.filterwarnings('ignore')"
   ]
  },
  {
   "cell_type": "code",
   "execution_count": 38,
   "id": "5f27b5fa",
   "metadata": {},
   "outputs": [
    {
     "data": {
      "text/html": [
       "<div>\n",
       "<style scoped>\n",
       "    .dataframe tbody tr th:only-of-type {\n",
       "        vertical-align: middle;\n",
       "    }\n",
       "\n",
       "    .dataframe tbody tr th {\n",
       "        vertical-align: top;\n",
       "    }\n",
       "\n",
       "    .dataframe thead th {\n",
       "        text-align: right;\n",
       "    }\n",
       "</style>\n",
       "<table border=\"1\" class=\"dataframe\">\n",
       "  <thead>\n",
       "    <tr style=\"text-align: right;\">\n",
       "      <th></th>\n",
       "      <th>bedroomcnt</th>\n",
       "      <th>bathroomcnt</th>\n",
       "      <th>calculatedfinishedsquarefeet</th>\n",
       "      <th>taxvaluedollarcnt</th>\n",
       "      <th>yearbuilt</th>\n",
       "      <th>taxamount</th>\n",
       "      <th>fips</th>\n",
       "    </tr>\n",
       "  </thead>\n",
       "  <tbody>\n",
       "    <tr>\n",
       "      <th>0</th>\n",
       "      <td>4</td>\n",
       "      <td>2.0</td>\n",
       "      <td>3633</td>\n",
       "      <td>296425</td>\n",
       "      <td>2005</td>\n",
       "      <td>6941.39</td>\n",
       "      <td>6037</td>\n",
       "    </tr>\n",
       "    <tr>\n",
       "      <th>1</th>\n",
       "      <td>3</td>\n",
       "      <td>4.0</td>\n",
       "      <td>1620</td>\n",
       "      <td>847770</td>\n",
       "      <td>2011</td>\n",
       "      <td>10244.94</td>\n",
       "      <td>6037</td>\n",
       "    </tr>\n",
       "    <tr>\n",
       "      <th>2</th>\n",
       "      <td>3</td>\n",
       "      <td>2.0</td>\n",
       "      <td>2077</td>\n",
       "      <td>646760</td>\n",
       "      <td>1926</td>\n",
       "      <td>7924.68</td>\n",
       "      <td>6037</td>\n",
       "    </tr>\n",
       "    <tr>\n",
       "      <th>3</th>\n",
       "      <td>0</td>\n",
       "      <td>0.0</td>\n",
       "      <td>1200</td>\n",
       "      <td>5328</td>\n",
       "      <td>1972</td>\n",
       "      <td>91.60</td>\n",
       "      <td>6037</td>\n",
       "    </tr>\n",
       "    <tr>\n",
       "      <th>4</th>\n",
       "      <td>0</td>\n",
       "      <td>0.0</td>\n",
       "      <td>171</td>\n",
       "      <td>6920</td>\n",
       "      <td>1973</td>\n",
       "      <td>255.17</td>\n",
       "      <td>6037</td>\n",
       "    </tr>\n",
       "  </tbody>\n",
       "</table>\n",
       "</div>"
      ],
      "text/plain": [
       "   bedroomcnt  bathroomcnt  calculatedfinishedsquarefeet  taxvaluedollarcnt  \\\n",
       "0           4          2.0                          3633             296425   \n",
       "1           3          4.0                          1620             847770   \n",
       "2           3          2.0                          2077             646760   \n",
       "3           0          0.0                          1200               5328   \n",
       "4           0          0.0                           171               6920   \n",
       "\n",
       "   yearbuilt  taxamount  fips  \n",
       "0       2005    6941.39  6037  \n",
       "1       2011   10244.94  6037  \n",
       "2       1926    7924.68  6037  \n",
       "3       1972      91.60  6037  \n",
       "4       1973     255.17  6037  "
      ]
     },
     "execution_count": 38,
     "metadata": {},
     "output_type": "execute_result"
    }
   ],
   "source": [
    "import wrangle\n",
    "\n",
    "df = wrangle.wrangle_zillow()\n",
    "df.head()"
   ]
  },
  {
   "cell_type": "code",
   "execution_count": 40,
   "id": "5b994480",
   "metadata": {},
   "outputs": [
    {
     "data": {
      "text/html": [
       "<div>\n",
       "<style scoped>\n",
       "    .dataframe tbody tr th:only-of-type {\n",
       "        vertical-align: middle;\n",
       "    }\n",
       "\n",
       "    .dataframe tbody tr th {\n",
       "        vertical-align: top;\n",
       "    }\n",
       "\n",
       "    .dataframe thead th {\n",
       "        text-align: right;\n",
       "    }\n",
       "</style>\n",
       "<table border=\"1\" class=\"dataframe\">\n",
       "  <thead>\n",
       "    <tr style=\"text-align: right;\">\n",
       "      <th></th>\n",
       "      <th>bedroomcnt</th>\n",
       "      <th>bathroomcnt</th>\n",
       "      <th>square_feet</th>\n",
       "      <th>house_value</th>\n",
       "      <th>yearbuilt</th>\n",
       "      <th>taxamount</th>\n",
       "      <th>fips</th>\n",
       "    </tr>\n",
       "  </thead>\n",
       "  <tbody>\n",
       "    <tr>\n",
       "      <th>0</th>\n",
       "      <td>4</td>\n",
       "      <td>2.0</td>\n",
       "      <td>3633</td>\n",
       "      <td>296425</td>\n",
       "      <td>2005</td>\n",
       "      <td>6941.39</td>\n",
       "      <td>6037</td>\n",
       "    </tr>\n",
       "    <tr>\n",
       "      <th>1</th>\n",
       "      <td>3</td>\n",
       "      <td>4.0</td>\n",
       "      <td>1620</td>\n",
       "      <td>847770</td>\n",
       "      <td>2011</td>\n",
       "      <td>10244.94</td>\n",
       "      <td>6037</td>\n",
       "    </tr>\n",
       "    <tr>\n",
       "      <th>2</th>\n",
       "      <td>3</td>\n",
       "      <td>2.0</td>\n",
       "      <td>2077</td>\n",
       "      <td>646760</td>\n",
       "      <td>1926</td>\n",
       "      <td>7924.68</td>\n",
       "      <td>6037</td>\n",
       "    </tr>\n",
       "    <tr>\n",
       "      <th>3</th>\n",
       "      <td>0</td>\n",
       "      <td>0.0</td>\n",
       "      <td>1200</td>\n",
       "      <td>5328</td>\n",
       "      <td>1972</td>\n",
       "      <td>91.60</td>\n",
       "      <td>6037</td>\n",
       "    </tr>\n",
       "    <tr>\n",
       "      <th>4</th>\n",
       "      <td>0</td>\n",
       "      <td>0.0</td>\n",
       "      <td>171</td>\n",
       "      <td>6920</td>\n",
       "      <td>1973</td>\n",
       "      <td>255.17</td>\n",
       "      <td>6037</td>\n",
       "    </tr>\n",
       "  </tbody>\n",
       "</table>\n",
       "</div>"
      ],
      "text/plain": [
       "   bedroomcnt  bathroomcnt  square_feet  house_value  yearbuilt  taxamount  \\\n",
       "0           4          2.0         3633       296425       2005    6941.39   \n",
       "1           3          4.0         1620       847770       2011   10244.94   \n",
       "2           3          2.0         2077       646760       1926    7924.68   \n",
       "3           0          0.0         1200         5328       1972      91.60   \n",
       "4           0          0.0          171         6920       1973     255.17   \n",
       "\n",
       "   fips  \n",
       "0  6037  \n",
       "1  6037  \n",
       "2  6037  \n",
       "3  6037  \n",
       "4  6037  "
      ]
     },
     "execution_count": 40,
     "metadata": {},
     "output_type": "execute_result"
    }
   ],
   "source": [
    "df = df.rename(columns = {'calculatedfinishedsquarefeet':'square_feet', 'taxvaluedollarcnt': 'house_value'})\n",
    "df.head()"
   ]
  },
  {
   "cell_type": "code",
   "execution_count": null,
   "id": "5caff38c",
   "metadata": {},
   "outputs": [],
   "source": []
  },
  {
   "cell_type": "code",
   "execution_count": null,
   "id": "00053fe5",
   "metadata": {},
   "outputs": [],
   "source": [
    "df = pd.get_dummies(df, ['sex', 'smoker', 'day', 'time'], drop_first=True)"
   ]
  },
  {
   "cell_type": "code",
   "execution_count": null,
   "id": "7f1b997d",
   "metadata": {},
   "outputs": [],
   "source": []
  },
  {
   "cell_type": "code",
   "execution_count": 41,
   "id": "e9b9593b",
   "metadata": {},
   "outputs": [
    {
     "data": {
      "text/plain": [
       "((1178202, 7), (392735, 7), (523646, 7))"
      ]
     },
     "execution_count": 41,
     "metadata": {},
     "output_type": "execute_result"
    }
   ],
   "source": [
    "train, validate, test = wrangle.split_zillow(df)\n",
    "train.shape, validate.shape, test.shape"
   ]
  },
  {
   "cell_type": "code",
   "execution_count": 42,
   "id": "b23bb6f4",
   "metadata": {},
   "outputs": [
    {
     "data": {
      "text/html": [
       "<div>\n",
       "<style scoped>\n",
       "    .dataframe tbody tr th:only-of-type {\n",
       "        vertical-align: middle;\n",
       "    }\n",
       "\n",
       "    .dataframe tbody tr th {\n",
       "        vertical-align: top;\n",
       "    }\n",
       "\n",
       "    .dataframe thead th {\n",
       "        text-align: right;\n",
       "    }\n",
       "</style>\n",
       "<table border=\"1\" class=\"dataframe\">\n",
       "  <thead>\n",
       "    <tr style=\"text-align: right;\">\n",
       "      <th></th>\n",
       "      <th>bedroomcnt</th>\n",
       "      <th>bathroomcnt</th>\n",
       "      <th>square_feet</th>\n",
       "      <th>house_value</th>\n",
       "      <th>yearbuilt</th>\n",
       "      <th>taxamount</th>\n",
       "      <th>fips</th>\n",
       "      <th>baseline</th>\n",
       "    </tr>\n",
       "  </thead>\n",
       "  <tbody>\n",
       "    <tr>\n",
       "      <th>176880</th>\n",
       "      <td>3</td>\n",
       "      <td>2.0</td>\n",
       "      <td>1714</td>\n",
       "      <td>115157</td>\n",
       "      <td>1973</td>\n",
       "      <td>1282.32</td>\n",
       "      <td>6059</td>\n",
       "      <td>398683.705141</td>\n",
       "    </tr>\n",
       "    <tr>\n",
       "      <th>331975</th>\n",
       "      <td>3</td>\n",
       "      <td>3.0</td>\n",
       "      <td>1862</td>\n",
       "      <td>345618</td>\n",
       "      <td>1958</td>\n",
       "      <td>5530.82</td>\n",
       "      <td>6059</td>\n",
       "      <td>398683.705141</td>\n",
       "    </tr>\n",
       "    <tr>\n",
       "      <th>1753349</th>\n",
       "      <td>5</td>\n",
       "      <td>5.0</td>\n",
       "      <td>3959</td>\n",
       "      <td>1451000</td>\n",
       "      <td>1953</td>\n",
       "      <td>15884.95</td>\n",
       "      <td>6037</td>\n",
       "      <td>398683.705141</td>\n",
       "    </tr>\n",
       "    <tr>\n",
       "      <th>120218</th>\n",
       "      <td>3</td>\n",
       "      <td>3.0</td>\n",
       "      <td>2100</td>\n",
       "      <td>459187</td>\n",
       "      <td>1962</td>\n",
       "      <td>5619.06</td>\n",
       "      <td>6037</td>\n",
       "      <td>398683.705141</td>\n",
       "    </tr>\n",
       "    <tr>\n",
       "      <th>1991743</th>\n",
       "      <td>4</td>\n",
       "      <td>2.0</td>\n",
       "      <td>1954</td>\n",
       "      <td>403193</td>\n",
       "      <td>1980</td>\n",
       "      <td>5047.67</td>\n",
       "      <td>6037</td>\n",
       "      <td>398683.705141</td>\n",
       "    </tr>\n",
       "  </tbody>\n",
       "</table>\n",
       "</div>"
      ],
      "text/plain": [
       "         bedroomcnt  bathroomcnt  square_feet  house_value  yearbuilt  \\\n",
       "176880            3          2.0         1714       115157       1973   \n",
       "331975            3          3.0         1862       345618       1958   \n",
       "1753349           5          5.0         3959      1451000       1953   \n",
       "120218            3          3.0         2100       459187       1962   \n",
       "1991743           4          2.0         1954       403193       1980   \n",
       "\n",
       "         taxamount  fips       baseline  \n",
       "176880     1282.32  6059  398683.705141  \n",
       "331975     5530.82  6059  398683.705141  \n",
       "1753349   15884.95  6037  398683.705141  \n",
       "120218     5619.06  6037  398683.705141  \n",
       "1991743    5047.67  6037  398683.705141  "
      ]
     },
     "execution_count": 42,
     "metadata": {},
     "output_type": "execute_result"
    }
   ],
   "source": [
    "# set baseline\n",
    "\n",
    "train['baseline'] = train.house_value.mean()\n",
    "train.head()"
   ]
  },
  {
   "cell_type": "code",
   "execution_count": 56,
   "id": "d7b3aef7",
   "metadata": {},
   "outputs": [],
   "source": [
    "x_train = train.drop(columns=['house_value','baseline', 'taxamount'])\n",
    "y_train = train.house_value\n",
    "x_validate = validate.drop(columns=['house_value', 'taxamount'])\n",
    "y_validate = validate[['house_value']]\n",
    "x_test = test.drop(columns=['house_value', 'taxamount'])\n",
    "y_test = test.house_value"
   ]
  },
  {
   "cell_type": "code",
   "execution_count": 19,
   "id": "83df8156",
   "metadata": {},
   "outputs": [
    {
     "data": {
      "text/html": [
       "<div>\n",
       "<style scoped>\n",
       "    .dataframe tbody tr th:only-of-type {\n",
       "        vertical-align: middle;\n",
       "    }\n",
       "\n",
       "    .dataframe tbody tr th {\n",
       "        vertical-align: top;\n",
       "    }\n",
       "\n",
       "    .dataframe thead th {\n",
       "        text-align: right;\n",
       "    }\n",
       "</style>\n",
       "<table border=\"1\" class=\"dataframe\">\n",
       "  <thead>\n",
       "    <tr style=\"text-align: right;\">\n",
       "      <th></th>\n",
       "      <th>bedroomcnt</th>\n",
       "      <th>bathroomcnt</th>\n",
       "      <th>square_feet</th>\n",
       "      <th>yearbuilt</th>\n",
       "      <th>fips</th>\n",
       "    </tr>\n",
       "  </thead>\n",
       "  <tbody>\n",
       "    <tr>\n",
       "      <th>176880</th>\n",
       "      <td>3</td>\n",
       "      <td>2.0</td>\n",
       "      <td>1714</td>\n",
       "      <td>1973</td>\n",
       "      <td>6059</td>\n",
       "    </tr>\n",
       "    <tr>\n",
       "      <th>331975</th>\n",
       "      <td>3</td>\n",
       "      <td>3.0</td>\n",
       "      <td>1862</td>\n",
       "      <td>1958</td>\n",
       "      <td>6059</td>\n",
       "    </tr>\n",
       "    <tr>\n",
       "      <th>1753349</th>\n",
       "      <td>5</td>\n",
       "      <td>5.0</td>\n",
       "      <td>3959</td>\n",
       "      <td>1953</td>\n",
       "      <td>6037</td>\n",
       "    </tr>\n",
       "    <tr>\n",
       "      <th>120218</th>\n",
       "      <td>3</td>\n",
       "      <td>3.0</td>\n",
       "      <td>2100</td>\n",
       "      <td>1962</td>\n",
       "      <td>6037</td>\n",
       "    </tr>\n",
       "    <tr>\n",
       "      <th>1991743</th>\n",
       "      <td>4</td>\n",
       "      <td>2.0</td>\n",
       "      <td>1954</td>\n",
       "      <td>1980</td>\n",
       "      <td>6037</td>\n",
       "    </tr>\n",
       "  </tbody>\n",
       "</table>\n",
       "</div>"
      ],
      "text/plain": [
       "         bedroomcnt  bathroomcnt  square_feet  yearbuilt  fips\n",
       "176880            3          2.0         1714       1973  6059\n",
       "331975            3          3.0         1862       1958  6059\n",
       "1753349           5          5.0         3959       1953  6037\n",
       "120218            3          3.0         2100       1962  6037\n",
       "1991743           4          2.0         1954       1980  6037"
      ]
     },
     "execution_count": 19,
     "metadata": {},
     "output_type": "execute_result"
    }
   ],
   "source": [
    "x_train.head()"
   ]
  },
  {
   "cell_type": "code",
   "execution_count": 20,
   "id": "1dc18519",
   "metadata": {},
   "outputs": [
    {
     "data": {
      "text/html": [
       "<div>\n",
       "<style scoped>\n",
       "    .dataframe tbody tr th:only-of-type {\n",
       "        vertical-align: middle;\n",
       "    }\n",
       "\n",
       "    .dataframe tbody tr th {\n",
       "        vertical-align: top;\n",
       "    }\n",
       "\n",
       "    .dataframe thead th {\n",
       "        text-align: right;\n",
       "    }\n",
       "</style>\n",
       "<table border=\"1\" class=\"dataframe\">\n",
       "  <thead>\n",
       "    <tr style=\"text-align: right;\">\n",
       "      <th></th>\n",
       "      <th>house_value</th>\n",
       "      <th>baseline</th>\n",
       "    </tr>\n",
       "  </thead>\n",
       "  <tbody>\n",
       "    <tr>\n",
       "      <th>176880</th>\n",
       "      <td>115157</td>\n",
       "      <td>398683.705141</td>\n",
       "    </tr>\n",
       "    <tr>\n",
       "      <th>331975</th>\n",
       "      <td>345618</td>\n",
       "      <td>398683.705141</td>\n",
       "    </tr>\n",
       "    <tr>\n",
       "      <th>1753349</th>\n",
       "      <td>1451000</td>\n",
       "      <td>398683.705141</td>\n",
       "    </tr>\n",
       "    <tr>\n",
       "      <th>120218</th>\n",
       "      <td>459187</td>\n",
       "      <td>398683.705141</td>\n",
       "    </tr>\n",
       "    <tr>\n",
       "      <th>1991743</th>\n",
       "      <td>403193</td>\n",
       "      <td>398683.705141</td>\n",
       "    </tr>\n",
       "  </tbody>\n",
       "</table>\n",
       "</div>"
      ],
      "text/plain": [
       "         house_value       baseline\n",
       "176880        115157  398683.705141\n",
       "331975        345618  398683.705141\n",
       "1753349      1451000  398683.705141\n",
       "120218        459187  398683.705141\n",
       "1991743       403193  398683.705141"
      ]
     },
     "execution_count": 20,
     "metadata": {},
     "output_type": "execute_result"
    }
   ],
   "source": [
    "y_train.head()"
   ]
  },
  {
   "cell_type": "code",
   "execution_count": 57,
   "id": "677ef38b",
   "metadata": {},
   "outputs": [],
   "source": [
    "# scale the data\n",
    "\n",
    "scaler = sklearn.preprocessing.MinMaxScaler()\n",
    "scaler.fit(x_train)\n",
    "\n",
    "x_train_scaled = scaler.transform(x_train)\n",
    "x_validate_scaled = scaler.transform(x_validate)\n",
    "x_test_scaled = scaler.transform(x_test)\n",
    "\n",
    "x_train_scaled = pd.DataFrame(x_train_scaled)\n",
    "x_train_scaled = x_train_scaled.rename(columns = {0 :'bedroomcnt_scaled',1 :'bathroomcnt_scaled',\n",
    "                                                  2 : 'square_feet_scaled', 3 : 'yearbuilt_scaled', 4 : 'fips_scaled'})\n",
    "\n",
    "x_validate_scaled = pd.DataFrame(x_validate_scaled)\n",
    "x_validate_scaled = x_validate_scaled.rename(columns = {0 :'bedroomcnt_scaled',1 :'bathroomcnt_scaled',\n",
    "                                                        2 : 'square_feet_scaled', 3 : 'yearbuilt_scaled', 4 : 'fips_scaled'})\n",
    "\n",
    "x_test_scaled = pd.DataFrame(x_test_scaled)\n",
    "x_test_scaled = x_test_scaled.rename(columns = {0 :'bedroomcnt_scaled',1 :'bathroomcnt_scaled',\n",
    "                                                2 : 'square_feet_scaled', 3 : 'yearbuilt_scaled', 4 : 'fips_scaled'})\n"
   ]
  },
  {
   "cell_type": "code",
   "execution_count": 34,
   "id": "42acb8fb",
   "metadata": {},
   "outputs": [
    {
     "data": {
      "text/html": [
       "<div>\n",
       "<style scoped>\n",
       "    .dataframe tbody tr th:only-of-type {\n",
       "        vertical-align: middle;\n",
       "    }\n",
       "\n",
       "    .dataframe tbody tr th {\n",
       "        vertical-align: top;\n",
       "    }\n",
       "\n",
       "    .dataframe thead th {\n",
       "        text-align: right;\n",
       "    }\n",
       "</style>\n",
       "<table border=\"1\" class=\"dataframe\">\n",
       "  <thead>\n",
       "    <tr style=\"text-align: right;\">\n",
       "      <th></th>\n",
       "      <th>bedroomcnt_scaled</th>\n",
       "      <th>bathroomcnt_scaled</th>\n",
       "      <th>square_feet_scaled</th>\n",
       "      <th>yearbuilt_scaled</th>\n",
       "      <th>fips_scaled</th>\n",
       "    </tr>\n",
       "  </thead>\n",
       "  <tbody>\n",
       "    <tr>\n",
       "      <th>0</th>\n",
       "      <td>0.500000</td>\n",
       "      <td>0.333333</td>\n",
       "      <td>0.001798</td>\n",
       "      <td>0.800000</td>\n",
       "      <td>0.297297</td>\n",
       "    </tr>\n",
       "    <tr>\n",
       "      <th>1</th>\n",
       "      <td>0.500000</td>\n",
       "      <td>0.500000</td>\n",
       "      <td>0.001954</td>\n",
       "      <td>0.730233</td>\n",
       "      <td>0.297297</td>\n",
       "    </tr>\n",
       "    <tr>\n",
       "      <th>2</th>\n",
       "      <td>0.833333</td>\n",
       "      <td>0.833333</td>\n",
       "      <td>0.004155</td>\n",
       "      <td>0.706977</td>\n",
       "      <td>0.000000</td>\n",
       "    </tr>\n",
       "    <tr>\n",
       "      <th>3</th>\n",
       "      <td>0.500000</td>\n",
       "      <td>0.500000</td>\n",
       "      <td>0.002204</td>\n",
       "      <td>0.748837</td>\n",
       "      <td>0.000000</td>\n",
       "    </tr>\n",
       "    <tr>\n",
       "      <th>4</th>\n",
       "      <td>0.666667</td>\n",
       "      <td>0.333333</td>\n",
       "      <td>0.002050</td>\n",
       "      <td>0.832558</td>\n",
       "      <td>0.000000</td>\n",
       "    </tr>\n",
       "  </tbody>\n",
       "</table>\n",
       "</div>"
      ],
      "text/plain": [
       "   bedroomcnt_scaled  bathroomcnt_scaled  square_feet_scaled  \\\n",
       "0           0.500000            0.333333            0.001798   \n",
       "1           0.500000            0.500000            0.001954   \n",
       "2           0.833333            0.833333            0.004155   \n",
       "3           0.500000            0.500000            0.002204   \n",
       "4           0.666667            0.333333            0.002050   \n",
       "\n",
       "   yearbuilt_scaled  fips_scaled  \n",
       "0          0.800000     0.297297  \n",
       "1          0.730233     0.297297  \n",
       "2          0.706977     0.000000  \n",
       "3          0.748837     0.000000  \n",
       "4          0.832558     0.000000  "
      ]
     },
     "execution_count": 34,
     "metadata": {},
     "output_type": "execute_result"
    }
   ],
   "source": [
    "x_train_scaled.head()"
   ]
  },
  {
   "cell_type": "code",
   "execution_count": 58,
   "id": "6e623de0",
   "metadata": {},
   "outputs": [
    {
     "data": {
      "text/html": [
       "<div>\n",
       "<style scoped>\n",
       "    .dataframe tbody tr th:only-of-type {\n",
       "        vertical-align: middle;\n",
       "    }\n",
       "\n",
       "    .dataframe tbody tr th {\n",
       "        vertical-align: top;\n",
       "    }\n",
       "\n",
       "    .dataframe thead th {\n",
       "        text-align: right;\n",
       "    }\n",
       "</style>\n",
       "<table border=\"1\" class=\"dataframe\">\n",
       "  <thead>\n",
       "    <tr style=\"text-align: right;\">\n",
       "      <th></th>\n",
       "      <th>actual</th>\n",
       "    </tr>\n",
       "  </thead>\n",
       "  <tbody>\n",
       "    <tr>\n",
       "      <th>1253014</th>\n",
       "      <td>37842</td>\n",
       "    </tr>\n",
       "    <tr>\n",
       "      <th>174727</th>\n",
       "      <td>66105</td>\n",
       "    </tr>\n",
       "    <tr>\n",
       "      <th>1872959</th>\n",
       "      <td>47575</td>\n",
       "    </tr>\n",
       "    <tr>\n",
       "      <th>1921652</th>\n",
       "      <td>412296</td>\n",
       "    </tr>\n",
       "    <tr>\n",
       "      <th>636654</th>\n",
       "      <td>257421</td>\n",
       "    </tr>\n",
       "  </tbody>\n",
       "</table>\n",
       "</div>"
      ],
      "text/plain": [
       "         actual\n",
       "1253014   37842\n",
       "174727    66105\n",
       "1872959   47575\n",
       "1921652  412296\n",
       "636654   257421"
      ]
     },
     "execution_count": 58,
     "metadata": {},
     "output_type": "execute_result"
    }
   ],
   "source": [
    "predictions = pd.DataFrame({'actual': validate.house_value})\n",
    "predictions.head()"
   ]
  },
  {
   "cell_type": "markdown",
   "id": "fbead6ae",
   "metadata": {},
   "source": [
    "## Simple Model"
   ]
  },
  {
   "cell_type": "code",
   "execution_count": 59,
   "id": "e8f553df",
   "metadata": {},
   "outputs": [],
   "source": [
    "from sklearn.linear_model import LinearRegression\n",
    "\n",
    "x_train_simple_model = x_train_scaled[['square_feet_scaled']]\n",
    "y_train_simple_model = train.house_value\n",
    "\n",
    "# 1. make the thing\n",
    "lm = LinearRegression()\n",
    "\n",
    "# 2. fit the thing\n",
    "lm.fit(x_train_simple_model, y_train_simple_model)\n",
    "\n",
    "# 3. use the thing (make predictions)\n",
    "x_validate_simple_model = x_validate_scaled[['square_feet_scaled']]\n",
    "\n",
    "predictions['simple_lm'] = lm.predict(x_validate_simple_model)"
   ]
  },
  {
   "cell_type": "code",
   "execution_count": 48,
   "id": "8d6a2f75",
   "metadata": {},
   "outputs": [
    {
     "data": {
      "text/html": [
       "<div>\n",
       "<style scoped>\n",
       "    .dataframe tbody tr th:only-of-type {\n",
       "        vertical-align: middle;\n",
       "    }\n",
       "\n",
       "    .dataframe tbody tr th {\n",
       "        vertical-align: top;\n",
       "    }\n",
       "\n",
       "    .dataframe thead th {\n",
       "        text-align: right;\n",
       "    }\n",
       "</style>\n",
       "<table border=\"1\" class=\"dataframe\">\n",
       "  <thead>\n",
       "    <tr style=\"text-align: right;\">\n",
       "      <th></th>\n",
       "      <th>actual</th>\n",
       "      <th>simple_lm</th>\n",
       "    </tr>\n",
       "  </thead>\n",
       "  <tbody>\n",
       "    <tr>\n",
       "      <th>1253014</th>\n",
       "      <td>37842</td>\n",
       "      <td>331238.589470</td>\n",
       "    </tr>\n",
       "    <tr>\n",
       "      <th>174727</th>\n",
       "      <td>66105</td>\n",
       "      <td>333018.512416</td>\n",
       "    </tr>\n",
       "    <tr>\n",
       "      <th>1872959</th>\n",
       "      <td>47575</td>\n",
       "      <td>336756.350601</td>\n",
       "    </tr>\n",
       "    <tr>\n",
       "      <th>1921652</th>\n",
       "      <td>412296</td>\n",
       "      <td>364167.163958</td>\n",
       "    </tr>\n",
       "    <tr>\n",
       "      <th>636654</th>\n",
       "      <td>257421</td>\n",
       "      <td>371820.832623</td>\n",
       "    </tr>\n",
       "  </tbody>\n",
       "</table>\n",
       "</div>"
      ],
      "text/plain": [
       "         actual      simple_lm\n",
       "1253014   37842  331238.589470\n",
       "174727    66105  333018.512416\n",
       "1872959   47575  336756.350601\n",
       "1921652  412296  364167.163958\n",
       "636654   257421  371820.832623"
      ]
     },
     "execution_count": 48,
     "metadata": {},
     "output_type": "execute_result"
    }
   ],
   "source": [
    "predictions.head()"
   ]
  },
  {
   "cell_type": "code",
   "execution_count": 50,
   "id": "9e3da374",
   "metadata": {},
   "outputs": [
    {
     "data": {
      "text/plain": [
       "(array([84775504.98112516]), 238771.59246176435)"
      ]
     },
     "execution_count": 50,
     "metadata": {},
     "output_type": "execute_result"
    }
   ],
   "source": [
    "# Examine The Model\n",
    "\n",
    "lm.coef_, lm.intercept_"
   ]
  },
  {
   "cell_type": "code",
   "execution_count": 51,
   "id": "1b77d67d",
   "metadata": {},
   "outputs": [
    {
     "name": "stdout",
     "output_type": "stream",
     "text": [
      "house_value = 84775504.981 * square_feet + 238771.592\n"
     ]
    }
   ],
   "source": [
    "print('house_value = {:.3f} * square_feet + {:.3f}'.format(lm.coef_[0], lm.intercept_))"
   ]
  },
  {
   "cell_type": "markdown",
   "id": "4a3bed1e",
   "metadata": {},
   "source": [
    "## Multiple Regression + RFE"
   ]
  },
  {
   "cell_type": "code",
   "execution_count": 94,
   "id": "3d4632cb",
   "metadata": {},
   "outputs": [
    {
     "name": "stdout",
     "output_type": "stream",
     "text": [
      "selected top 2 features: Index(['bathroomcnt_scaled', 'square_feet_scaled'], dtype='object')\n"
     ]
    }
   ],
   "source": [
    "lm = LinearRegression()\n",
    "k = 2\n",
    "\n",
    "# 1. Transform our X\n",
    "rfe = RFE(lm, n_features_to_select=2)\n",
    "rfe.fit(x_train_scaled, y_train)\n",
    "\n",
    "print('selected top 2 features:', x_train_scaled.columns[rfe.support_])\n",
    "x_train_scaled_rfe = rfe.transform(x_train_scaled)"
   ]
  },
  {
   "cell_type": "code",
   "execution_count": 95,
   "id": "b34dec23",
   "metadata": {},
   "outputs": [
    {
     "data": {
      "text/plain": [
       "((1178202, 5), (1178202, 2))"
      ]
     },
     "execution_count": 95,
     "metadata": {},
     "output_type": "execute_result"
    }
   ],
   "source": [
    "x_train_scaled.shape, x_train_scaled_rfe.shape"
   ]
  },
  {
   "cell_type": "code",
   "execution_count": 96,
   "id": "a8681954",
   "metadata": {},
   "outputs": [
    {
     "data": {
      "text/html": [
       "<div>\n",
       "<style scoped>\n",
       "    .dataframe tbody tr th:only-of-type {\n",
       "        vertical-align: middle;\n",
       "    }\n",
       "\n",
       "    .dataframe tbody tr th {\n",
       "        vertical-align: top;\n",
       "    }\n",
       "\n",
       "    .dataframe thead th {\n",
       "        text-align: right;\n",
       "    }\n",
       "</style>\n",
       "<table border=\"1\" class=\"dataframe\">\n",
       "  <thead>\n",
       "    <tr style=\"text-align: right;\">\n",
       "      <th></th>\n",
       "      <th>actual</th>\n",
       "      <th>simple_lm</th>\n",
       "      <th>multiple_rfe</th>\n",
       "      <th>polynomial degree 2</th>\n",
       "      <th>polynomial only interaction</th>\n",
       "      <th>lasso_lars</th>\n",
       "      <th>glm</th>\n",
       "      <th>baseline</th>\n",
       "    </tr>\n",
       "  </thead>\n",
       "  <tbody>\n",
       "    <tr>\n",
       "      <th>1253014</th>\n",
       "      <td>37842</td>\n",
       "      <td>331238.589470</td>\n",
       "      <td>343826.628139</td>\n",
       "      <td>242092.197467</td>\n",
       "      <td>303907.790102</td>\n",
       "      <td>345226.714232</td>\n",
       "      <td>343813.031423</td>\n",
       "      <td>398683.705141</td>\n",
       "    </tr>\n",
       "    <tr>\n",
       "      <th>174727</th>\n",
       "      <td>66105</td>\n",
       "      <td>333018.512416</td>\n",
       "      <td>187094.295577</td>\n",
       "      <td>241911.641425</td>\n",
       "      <td>238715.716224</td>\n",
       "      <td>201509.188903</td>\n",
       "      <td>237868.250053</td>\n",
       "      <td>398683.705141</td>\n",
       "    </tr>\n",
       "    <tr>\n",
       "      <th>1872959</th>\n",
       "      <td>47575</td>\n",
       "      <td>336756.350601</td>\n",
       "      <td>345978.720983</td>\n",
       "      <td>242653.886203</td>\n",
       "      <td>283810.063700</td>\n",
       "      <td>324162.613859</td>\n",
       "      <td>337422.771320</td>\n",
       "      <td>398683.705141</td>\n",
       "    </tr>\n",
       "    <tr>\n",
       "      <th>1921652</th>\n",
       "      <td>412296</td>\n",
       "      <td>364167.163958</td>\n",
       "      <td>356669.762853</td>\n",
       "      <td>305999.876445</td>\n",
       "      <td>335058.555141</td>\n",
       "      <td>358424.809111</td>\n",
       "      <td>343989.812637</td>\n",
       "      <td>398683.705141</td>\n",
       "    </tr>\n",
       "    <tr>\n",
       "      <th>636654</th>\n",
       "      <td>257421</td>\n",
       "      <td>371820.832623</td>\n",
       "      <td>359654.923895</td>\n",
       "      <td>353774.926408</td>\n",
       "      <td>334162.511635</td>\n",
       "      <td>366862.828145</td>\n",
       "      <td>352612.260367</td>\n",
       "      <td>398683.705141</td>\n",
       "    </tr>\n",
       "  </tbody>\n",
       "</table>\n",
       "</div>"
      ],
      "text/plain": [
       "         actual      simple_lm   multiple_rfe  polynomial degree 2  \\\n",
       "1253014   37842  331238.589470  343826.628139        242092.197467   \n",
       "174727    66105  333018.512416  187094.295577        241911.641425   \n",
       "1872959   47575  336756.350601  345978.720983        242653.886203   \n",
       "1921652  412296  364167.163958  356669.762853        305999.876445   \n",
       "636654   257421  371820.832623  359654.923895        353774.926408   \n",
       "\n",
       "         polynomial only interaction     lasso_lars            glm  \\\n",
       "1253014                303907.790102  345226.714232  343813.031423   \n",
       "174727                 238715.716224  201509.188903  237868.250053   \n",
       "1872959                283810.063700  324162.613859  337422.771320   \n",
       "1921652                335058.555141  358424.809111  343989.812637   \n",
       "636654                 334162.511635  366862.828145  352612.260367   \n",
       "\n",
       "              baseline  \n",
       "1253014  398683.705141  \n",
       "174727   398683.705141  \n",
       "1872959  398683.705141  \n",
       "1921652  398683.705141  \n",
       "636654   398683.705141  "
      ]
     },
     "execution_count": 96,
     "metadata": {},
     "output_type": "execute_result"
    }
   ],
   "source": [
    "# 2. Use the transformed x in our model\n",
    "lm.fit(x_train_scaled_rfe, y_train)\n",
    "\n",
    "# 3. Make predictions\n",
    "X_validate_scaled_rfe = rfe.transform(x_validate_scaled)\n",
    "predictions['multiple_rfe'] = lm.predict(X_validate_scaled_rfe)\n",
    "\n",
    "predictions.head()"
   ]
  },
  {
   "cell_type": "code",
   "execution_count": 62,
   "id": "a9544a01",
   "metadata": {},
   "outputs": [
    {
     "data": {
      "text/plain": [
       "Index(['bathroomcnt_scaled', 'square_feet_scaled'], dtype='object')"
      ]
     },
     "execution_count": 62,
     "metadata": {},
     "output_type": "execute_result"
    }
   ],
   "source": [
    "# Examine the Model\n",
    "\n",
    "x_train_scaled.columns[rfe.support_]"
   ]
  },
  {
   "cell_type": "code",
   "execution_count": 63,
   "id": "f3cafe40",
   "metadata": {},
   "outputs": [
    {
     "data": {
      "text/plain": [
       "(array([  944559.33636094, 33064997.43216699]), -7091.394703968894)"
      ]
     },
     "execution_count": 63,
     "metadata": {},
     "output_type": "execute_result"
    }
   ],
   "source": [
    "lm.coef_, lm.intercept_"
   ]
  },
  {
   "cell_type": "code",
   "execution_count": 64,
   "id": "b44bedfa",
   "metadata": {},
   "outputs": [
    {
     "name": "stdout",
     "output_type": "stream",
     "text": [
      "house_value = 944559.34 x bathroomcnt + 33064997.43 x square_feet + -7091.39\n"
     ]
    }
   ],
   "source": [
    "print(f'house_value = {lm.coef_[0]:.2f} x bathroomcnt + {lm.coef_[1]:.2f} x square_feet + {lm.intercept_:.2f}')"
   ]
  },
  {
   "cell_type": "markdown",
   "id": "27db4a40",
   "metadata": {},
   "source": [
    "## Polynomial Features"
   ]
  },
  {
   "cell_type": "code",
   "execution_count": 75,
   "id": "f59ea12e",
   "metadata": {},
   "outputs": [
    {
     "data": {
      "text/html": [
       "<div>\n",
       "<style scoped>\n",
       "    .dataframe tbody tr th:only-of-type {\n",
       "        vertical-align: middle;\n",
       "    }\n",
       "\n",
       "    .dataframe tbody tr th {\n",
       "        vertical-align: top;\n",
       "    }\n",
       "\n",
       "    .dataframe thead th {\n",
       "        text-align: right;\n",
       "    }\n",
       "</style>\n",
       "<table border=\"1\" class=\"dataframe\">\n",
       "  <thead>\n",
       "    <tr style=\"text-align: right;\">\n",
       "      <th></th>\n",
       "      <th>bedroomcnt_scaled</th>\n",
       "      <th>bathroomcnt_scaled</th>\n",
       "      <th>square_feet_scaled</th>\n",
       "      <th>yearbuilt_scaled</th>\n",
       "      <th>fips_scaled</th>\n",
       "      <th>bedroomcnt_scaled^2</th>\n",
       "      <th>bedroomcnt_scaled bathroomcnt_scaled</th>\n",
       "      <th>bedroomcnt_scaled square_feet_scaled</th>\n",
       "      <th>bedroomcnt_scaled yearbuilt_scaled</th>\n",
       "      <th>bedroomcnt_scaled fips_scaled</th>\n",
       "      <th>bathroomcnt_scaled^2</th>\n",
       "      <th>bathroomcnt_scaled square_feet_scaled</th>\n",
       "      <th>bathroomcnt_scaled yearbuilt_scaled</th>\n",
       "      <th>bathroomcnt_scaled fips_scaled</th>\n",
       "      <th>square_feet_scaled^2</th>\n",
       "      <th>square_feet_scaled yearbuilt_scaled</th>\n",
       "      <th>square_feet_scaled fips_scaled</th>\n",
       "      <th>yearbuilt_scaled^2</th>\n",
       "      <th>yearbuilt_scaled fips_scaled</th>\n",
       "      <th>fips_scaled^2</th>\n",
       "    </tr>\n",
       "  </thead>\n",
       "  <tbody>\n",
       "    <tr>\n",
       "      <th>176880</th>\n",
       "      <td>0.500000</td>\n",
       "      <td>0.333333</td>\n",
       "      <td>0.001798</td>\n",
       "      <td>0.800000</td>\n",
       "      <td>0.297297</td>\n",
       "      <td>0.250000</td>\n",
       "      <td>0.166667</td>\n",
       "      <td>0.000899</td>\n",
       "      <td>0.400000</td>\n",
       "      <td>0.148649</td>\n",
       "      <td>0.111111</td>\n",
       "      <td>0.000599</td>\n",
       "      <td>0.266667</td>\n",
       "      <td>0.099099</td>\n",
       "      <td>0.000003</td>\n",
       "      <td>0.001439</td>\n",
       "      <td>0.000535</td>\n",
       "      <td>0.640000</td>\n",
       "      <td>0.237838</td>\n",
       "      <td>0.088386</td>\n",
       "    </tr>\n",
       "    <tr>\n",
       "      <th>331975</th>\n",
       "      <td>0.500000</td>\n",
       "      <td>0.500000</td>\n",
       "      <td>0.001954</td>\n",
       "      <td>0.730233</td>\n",
       "      <td>0.297297</td>\n",
       "      <td>0.250000</td>\n",
       "      <td>0.250000</td>\n",
       "      <td>0.000977</td>\n",
       "      <td>0.365116</td>\n",
       "      <td>0.148649</td>\n",
       "      <td>0.250000</td>\n",
       "      <td>0.000977</td>\n",
       "      <td>0.365116</td>\n",
       "      <td>0.148649</td>\n",
       "      <td>0.000004</td>\n",
       "      <td>0.001427</td>\n",
       "      <td>0.000581</td>\n",
       "      <td>0.533240</td>\n",
       "      <td>0.217096</td>\n",
       "      <td>0.088386</td>\n",
       "    </tr>\n",
       "    <tr>\n",
       "      <th>1753349</th>\n",
       "      <td>0.833333</td>\n",
       "      <td>0.833333</td>\n",
       "      <td>0.004155</td>\n",
       "      <td>0.706977</td>\n",
       "      <td>0.000000</td>\n",
       "      <td>0.694444</td>\n",
       "      <td>0.694444</td>\n",
       "      <td>0.003463</td>\n",
       "      <td>0.589147</td>\n",
       "      <td>0.000000</td>\n",
       "      <td>0.694444</td>\n",
       "      <td>0.003463</td>\n",
       "      <td>0.589147</td>\n",
       "      <td>0.000000</td>\n",
       "      <td>0.000017</td>\n",
       "      <td>0.002938</td>\n",
       "      <td>0.000000</td>\n",
       "      <td>0.499816</td>\n",
       "      <td>0.000000</td>\n",
       "      <td>0.000000</td>\n",
       "    </tr>\n",
       "    <tr>\n",
       "      <th>120218</th>\n",
       "      <td>0.500000</td>\n",
       "      <td>0.500000</td>\n",
       "      <td>0.002204</td>\n",
       "      <td>0.748837</td>\n",
       "      <td>0.000000</td>\n",
       "      <td>0.250000</td>\n",
       "      <td>0.250000</td>\n",
       "      <td>0.001102</td>\n",
       "      <td>0.374419</td>\n",
       "      <td>0.000000</td>\n",
       "      <td>0.250000</td>\n",
       "      <td>0.001102</td>\n",
       "      <td>0.374419</td>\n",
       "      <td>0.000000</td>\n",
       "      <td>0.000005</td>\n",
       "      <td>0.001650</td>\n",
       "      <td>0.000000</td>\n",
       "      <td>0.560757</td>\n",
       "      <td>0.000000</td>\n",
       "      <td>0.000000</td>\n",
       "    </tr>\n",
       "    <tr>\n",
       "      <th>1991743</th>\n",
       "      <td>0.666667</td>\n",
       "      <td>0.333333</td>\n",
       "      <td>0.002050</td>\n",
       "      <td>0.832558</td>\n",
       "      <td>0.000000</td>\n",
       "      <td>0.444444</td>\n",
       "      <td>0.222222</td>\n",
       "      <td>0.001367</td>\n",
       "      <td>0.555039</td>\n",
       "      <td>0.000000</td>\n",
       "      <td>0.111111</td>\n",
       "      <td>0.000683</td>\n",
       "      <td>0.277519</td>\n",
       "      <td>0.000000</td>\n",
       "      <td>0.000004</td>\n",
       "      <td>0.001707</td>\n",
       "      <td>0.000000</td>\n",
       "      <td>0.693153</td>\n",
       "      <td>0.000000</td>\n",
       "      <td>0.000000</td>\n",
       "    </tr>\n",
       "  </tbody>\n",
       "</table>\n",
       "</div>"
      ],
      "text/plain": [
       "         bedroomcnt_scaled  bathroomcnt_scaled  square_feet_scaled  \\\n",
       "176880            0.500000            0.333333            0.001798   \n",
       "331975            0.500000            0.500000            0.001954   \n",
       "1753349           0.833333            0.833333            0.004155   \n",
       "120218            0.500000            0.500000            0.002204   \n",
       "1991743           0.666667            0.333333            0.002050   \n",
       "\n",
       "         yearbuilt_scaled  fips_scaled  bedroomcnt_scaled^2  \\\n",
       "176880           0.800000     0.297297             0.250000   \n",
       "331975           0.730233     0.297297             0.250000   \n",
       "1753349          0.706977     0.000000             0.694444   \n",
       "120218           0.748837     0.000000             0.250000   \n",
       "1991743          0.832558     0.000000             0.444444   \n",
       "\n",
       "         bedroomcnt_scaled bathroomcnt_scaled  \\\n",
       "176880                               0.166667   \n",
       "331975                               0.250000   \n",
       "1753349                              0.694444   \n",
       "120218                               0.250000   \n",
       "1991743                              0.222222   \n",
       "\n",
       "         bedroomcnt_scaled square_feet_scaled  \\\n",
       "176880                               0.000899   \n",
       "331975                               0.000977   \n",
       "1753349                              0.003463   \n",
       "120218                               0.001102   \n",
       "1991743                              0.001367   \n",
       "\n",
       "         bedroomcnt_scaled yearbuilt_scaled  bedroomcnt_scaled fips_scaled  \\\n",
       "176880                             0.400000                       0.148649   \n",
       "331975                             0.365116                       0.148649   \n",
       "1753349                            0.589147                       0.000000   \n",
       "120218                             0.374419                       0.000000   \n",
       "1991743                            0.555039                       0.000000   \n",
       "\n",
       "         bathroomcnt_scaled^2  bathroomcnt_scaled square_feet_scaled  \\\n",
       "176880               0.111111                               0.000599   \n",
       "331975               0.250000                               0.000977   \n",
       "1753349              0.694444                               0.003463   \n",
       "120218               0.250000                               0.001102   \n",
       "1991743              0.111111                               0.000683   \n",
       "\n",
       "         bathroomcnt_scaled yearbuilt_scaled  bathroomcnt_scaled fips_scaled  \\\n",
       "176880                              0.266667                        0.099099   \n",
       "331975                              0.365116                        0.148649   \n",
       "1753349                             0.589147                        0.000000   \n",
       "120218                              0.374419                        0.000000   \n",
       "1991743                             0.277519                        0.000000   \n",
       "\n",
       "         square_feet_scaled^2  square_feet_scaled yearbuilt_scaled  \\\n",
       "176880               0.000003                             0.001439   \n",
       "331975               0.000004                             0.001427   \n",
       "1753349              0.000017                             0.002938   \n",
       "120218               0.000005                             0.001650   \n",
       "1991743              0.000004                             0.001707   \n",
       "\n",
       "         square_feet_scaled fips_scaled  yearbuilt_scaled^2  \\\n",
       "176880                         0.000535            0.640000   \n",
       "331975                         0.000581            0.533240   \n",
       "1753349                        0.000000            0.499816   \n",
       "120218                         0.000000            0.560757   \n",
       "1991743                        0.000000            0.693153   \n",
       "\n",
       "         yearbuilt_scaled fips_scaled  fips_scaled^2  \n",
       "176880                       0.237838       0.088386  \n",
       "331975                       0.217096       0.088386  \n",
       "1753349                      0.000000       0.000000  \n",
       "120218                       0.000000       0.000000  \n",
       "1991743                      0.000000       0.000000  "
      ]
     },
     "execution_count": 75,
     "metadata": {},
     "output_type": "execute_result"
    }
   ],
   "source": [
    "from sklearn.preprocessing import PolynomialFeatures\n",
    "\n",
    "# 1. Generate Polynomial Features\n",
    "poly = PolynomialFeatures(degree=2, include_bias=False, interaction_only=False)\n",
    "\n",
    "poly.fit(x_train_scaled)\n",
    "x_train_scaled_poly = pd.DataFrame(poly.transform(x_train_scaled),\n",
    "                                   columns=poly.get_feature_names(x_train_scaled.columns),index=train.index,)\n",
    "x_train_scaled_poly.head()"
   ]
  },
  {
   "cell_type": "code",
   "execution_count": 76,
   "id": "2e1b5098",
   "metadata": {},
   "outputs": [
    {
     "data": {
      "text/html": [
       "<div>\n",
       "<style scoped>\n",
       "    .dataframe tbody tr th:only-of-type {\n",
       "        vertical-align: middle;\n",
       "    }\n",
       "\n",
       "    .dataframe tbody tr th {\n",
       "        vertical-align: top;\n",
       "    }\n",
       "\n",
       "    .dataframe thead th {\n",
       "        text-align: right;\n",
       "    }\n",
       "</style>\n",
       "<table border=\"1\" class=\"dataframe\">\n",
       "  <thead>\n",
       "    <tr style=\"text-align: right;\">\n",
       "      <th></th>\n",
       "      <th>actual</th>\n",
       "      <th>simple_lm</th>\n",
       "      <th>multiple_rfe</th>\n",
       "      <th>polynomial degree 2</th>\n",
       "      <th>polynomial only interaction</th>\n",
       "    </tr>\n",
       "  </thead>\n",
       "  <tbody>\n",
       "    <tr>\n",
       "      <th>1253014</th>\n",
       "      <td>37842</td>\n",
       "      <td>331238.589470</td>\n",
       "      <td>343826.628139</td>\n",
       "      <td>242092.197467</td>\n",
       "      <td>303907.790102</td>\n",
       "    </tr>\n",
       "    <tr>\n",
       "      <th>174727</th>\n",
       "      <td>66105</td>\n",
       "      <td>333018.512416</td>\n",
       "      <td>187094.295577</td>\n",
       "      <td>241911.641425</td>\n",
       "      <td>238715.716224</td>\n",
       "    </tr>\n",
       "    <tr>\n",
       "      <th>1872959</th>\n",
       "      <td>47575</td>\n",
       "      <td>336756.350601</td>\n",
       "      <td>345978.720983</td>\n",
       "      <td>242653.886203</td>\n",
       "      <td>283810.063700</td>\n",
       "    </tr>\n",
       "    <tr>\n",
       "      <th>1921652</th>\n",
       "      <td>412296</td>\n",
       "      <td>364167.163958</td>\n",
       "      <td>356669.762853</td>\n",
       "      <td>305999.876445</td>\n",
       "      <td>335058.555141</td>\n",
       "    </tr>\n",
       "    <tr>\n",
       "      <th>636654</th>\n",
       "      <td>257421</td>\n",
       "      <td>371820.832623</td>\n",
       "      <td>359654.923895</td>\n",
       "      <td>353774.926408</td>\n",
       "      <td>334162.511635</td>\n",
       "    </tr>\n",
       "  </tbody>\n",
       "</table>\n",
       "</div>"
      ],
      "text/plain": [
       "         actual      simple_lm   multiple_rfe  polynomial degree 2  \\\n",
       "1253014   37842  331238.589470  343826.628139        242092.197467   \n",
       "174727    66105  333018.512416  187094.295577        241911.641425   \n",
       "1872959   47575  336756.350601  345978.720983        242653.886203   \n",
       "1921652  412296  364167.163958  356669.762853        305999.876445   \n",
       "636654   257421  371820.832623  359654.923895        353774.926408   \n",
       "\n",
       "         polynomial only interaction  \n",
       "1253014                303907.790102  \n",
       "174727                 238715.716224  \n",
       "1872959                283810.063700  \n",
       "1921652                335058.555141  \n",
       "636654                 334162.511635  "
      ]
     },
     "execution_count": 76,
     "metadata": {},
     "output_type": "execute_result"
    }
   ],
   "source": [
    "# 2. Use the features\n",
    "\n",
    "lm = LinearRegression()\n",
    "lm.fit(x_train_scaled_poly, y_train)\n",
    "\n",
    "x_validate_scaled_poly = poly.transform(x_validate_scaled)\n",
    "predictions['polynomial degree 2'] = lm.predict(x_validate_scaled_poly)\n",
    "predictions.head()"
   ]
  },
  {
   "cell_type": "code",
   "execution_count": 77,
   "id": "c51d0fe7",
   "metadata": {},
   "outputs": [
    {
     "data": {
      "text/plain": [
       "square_feet_scaled^2                    -2.066433e+08\n",
       "square_feet_scaled                      -2.738453e+07\n",
       "square_feet_scaled fips_scaled          -1.620424e+07\n",
       "yearbuilt_scaled                        -7.233446e+05\n",
       "bedroomcnt_scaled bathroomcnt_scaled    -7.092438e+05\n",
       "fips_scaled                             -5.190087e+05\n",
       "bedroomcnt_scaled yearbuilt_scaled      -3.586208e+05\n",
       "bathroomcnt_scaled fips_scaled          -2.649579e+05\n",
       "fips_scaled^2                           -2.521200e+05\n",
       "bedroomcnt_scaled^2                     -5.858125e+04\n",
       "bathroomcnt_scaled yearbuilt_scaled      4.786322e+02\n",
       "bedroomcnt_scaled fips_scaled            2.242506e+04\n",
       "bedroomcnt_scaled                        2.183299e+05\n",
       "yearbuilt_scaled^2                       2.429962e+05\n",
       "bathroomcnt_scaled                       3.087244e+05\n",
       "bathroomcnt_scaled^2                     3.911615e+05\n",
       "yearbuilt_scaled fips_scaled             1.133414e+06\n",
       "bedroomcnt_scaled square_feet_scaled     5.464695e+07\n",
       "bathroomcnt_scaled square_feet_scaled    9.951717e+07\n",
       "square_feet_scaled yearbuilt_scaled      1.793667e+08\n",
       "dtype: float64"
      ]
     },
     "execution_count": 77,
     "metadata": {},
     "output_type": "execute_result"
    }
   ],
   "source": [
    "# Examine the coefficients of the resulting model.\n",
    "\n",
    "feature_names = poly.get_feature_names(x_train_scaled.columns)\n",
    "pd.Series(lm.coef_, index=feature_names).sort_values()"
   ]
  },
  {
   "cell_type": "code",
   "execution_count": 74,
   "id": "54c8cb05",
   "metadata": {},
   "outputs": [
    {
     "data": {
      "text/html": [
       "<div>\n",
       "<style scoped>\n",
       "    .dataframe tbody tr th:only-of-type {\n",
       "        vertical-align: middle;\n",
       "    }\n",
       "\n",
       "    .dataframe tbody tr th {\n",
       "        vertical-align: top;\n",
       "    }\n",
       "\n",
       "    .dataframe thead th {\n",
       "        text-align: right;\n",
       "    }\n",
       "</style>\n",
       "<table border=\"1\" class=\"dataframe\">\n",
       "  <thead>\n",
       "    <tr style=\"text-align: right;\">\n",
       "      <th></th>\n",
       "      <th>actual</th>\n",
       "      <th>simple_lm</th>\n",
       "      <th>multiple_rfe</th>\n",
       "      <th>polynomial degree 2</th>\n",
       "      <th>polynomial only interaction</th>\n",
       "    </tr>\n",
       "  </thead>\n",
       "  <tbody>\n",
       "    <tr>\n",
       "      <th>1253014</th>\n",
       "      <td>37842</td>\n",
       "      <td>331238.589470</td>\n",
       "      <td>343826.628139</td>\n",
       "      <td>242092.197467</td>\n",
       "      <td>303907.790102</td>\n",
       "    </tr>\n",
       "    <tr>\n",
       "      <th>174727</th>\n",
       "      <td>66105</td>\n",
       "      <td>333018.512416</td>\n",
       "      <td>187094.295577</td>\n",
       "      <td>241911.641425</td>\n",
       "      <td>238715.716224</td>\n",
       "    </tr>\n",
       "    <tr>\n",
       "      <th>1872959</th>\n",
       "      <td>47575</td>\n",
       "      <td>336756.350601</td>\n",
       "      <td>345978.720983</td>\n",
       "      <td>242653.886203</td>\n",
       "      <td>283810.063700</td>\n",
       "    </tr>\n",
       "    <tr>\n",
       "      <th>1921652</th>\n",
       "      <td>412296</td>\n",
       "      <td>364167.163958</td>\n",
       "      <td>356669.762853</td>\n",
       "      <td>305999.876445</td>\n",
       "      <td>335058.555141</td>\n",
       "    </tr>\n",
       "    <tr>\n",
       "      <th>636654</th>\n",
       "      <td>257421</td>\n",
       "      <td>371820.832623</td>\n",
       "      <td>359654.923895</td>\n",
       "      <td>353774.926408</td>\n",
       "      <td>334162.511635</td>\n",
       "    </tr>\n",
       "  </tbody>\n",
       "</table>\n",
       "</div>"
      ],
      "text/plain": [
       "         actual      simple_lm   multiple_rfe  polynomial degree 2  \\\n",
       "1253014   37842  331238.589470  343826.628139        242092.197467   \n",
       "174727    66105  333018.512416  187094.295577        241911.641425   \n",
       "1872959   47575  336756.350601  345978.720983        242653.886203   \n",
       "1921652  412296  364167.163958  356669.762853        305999.876445   \n",
       "636654   257421  371820.832623  359654.923895        353774.926408   \n",
       "\n",
       "         polynomial only interaction  \n",
       "1253014                303907.790102  \n",
       "174727                 238715.716224  \n",
       "1872959                283810.063700  \n",
       "1921652                335058.555141  \n",
       "636654                 334162.511635  "
      ]
     },
     "execution_count": 74,
     "metadata": {},
     "output_type": "execute_result"
    }
   ],
   "source": [
    "# Another model with only interaction terms\n",
    "\n",
    "poly1 = PolynomialFeatures(degree=2, include_bias=False, interaction_only=True)\n",
    "poly1.fit(x_train_scaled)\n",
    "x_train_scaled_poly1 = pd.DataFrame(poly1.transform(x_train_scaled),\n",
    "                                    columns=poly1.get_feature_names(x_train_scaled.columns),index=train.index,)\n",
    "\n",
    "lm = LinearRegression()\n",
    "lm.fit(X_train_scaled_poly1, y_train)\n",
    "\n",
    "x_validate_scaled_poly1 = poly1.transform(x_validate_scaled)\n",
    "predictions['polynomial only interaction'] = lm.predict(x_validate_scaled_poly1)\n",
    "\n",
    "predictions.head()"
   ]
  },
  {
   "cell_type": "code",
   "execution_count": 86,
   "id": "1dd6249c",
   "metadata": {},
   "outputs": [
    {
     "ename": "ValueError",
     "evalue": "Length of values (20) does not match length of index (15)",
     "output_type": "error",
     "traceback": [
      "\u001b[0;31m---------------------------------------------------------------------------\u001b[0m",
      "\u001b[0;31mValueError\u001b[0m                                Traceback (most recent call last)",
      "Input \u001b[0;32mIn [86]\u001b[0m, in \u001b[0;36m<cell line: 1>\u001b[0;34m()\u001b[0m\n\u001b[0;32m----> 1\u001b[0m \u001b[43mpd\u001b[49m\u001b[38;5;241;43m.\u001b[39;49m\u001b[43mSeries\u001b[49m\u001b[43m(\u001b[49m\u001b[43mlm\u001b[49m\u001b[38;5;241;43m.\u001b[39;49m\u001b[43mcoef_\u001b[49m\u001b[43m,\u001b[49m\u001b[43m \u001b[49m\u001b[43mindex\u001b[49m\u001b[38;5;241;43m=\u001b[39;49m\u001b[43mpoly1\u001b[49m\u001b[38;5;241;43m.\u001b[39;49m\u001b[43mget_feature_names\u001b[49m\u001b[43m(\u001b[49m\u001b[43mx_train_scaled\u001b[49m\u001b[38;5;241;43m.\u001b[39;49m\u001b[43mcolumns\u001b[49m\u001b[43m)\u001b[49m\u001b[43m)\u001b[49m\u001b[38;5;241m.\u001b[39msort_values()\n",
      "File \u001b[0;32m/usr/local/anaconda3/lib/python3.9/site-packages/pandas/core/series.py:442\u001b[0m, in \u001b[0;36mSeries.__init__\u001b[0;34m(self, data, index, dtype, name, copy, fastpath)\u001b[0m\n\u001b[1;32m    440\u001b[0m     index \u001b[38;5;241m=\u001b[39m default_index(\u001b[38;5;28mlen\u001b[39m(data))\n\u001b[1;32m    441\u001b[0m \u001b[38;5;28;01melif\u001b[39;00m is_list_like(data):\n\u001b[0;32m--> 442\u001b[0m     \u001b[43mcom\u001b[49m\u001b[38;5;241;43m.\u001b[39;49m\u001b[43mrequire_length_match\u001b[49m\u001b[43m(\u001b[49m\u001b[43mdata\u001b[49m\u001b[43m,\u001b[49m\u001b[43m \u001b[49m\u001b[43mindex\u001b[49m\u001b[43m)\u001b[49m\n\u001b[1;32m    444\u001b[0m \u001b[38;5;66;03m# create/copy the manager\u001b[39;00m\n\u001b[1;32m    445\u001b[0m \u001b[38;5;28;01mif\u001b[39;00m \u001b[38;5;28misinstance\u001b[39m(data, (SingleBlockManager, SingleArrayManager)):\n",
      "File \u001b[0;32m/usr/local/anaconda3/lib/python3.9/site-packages/pandas/core/common.py:557\u001b[0m, in \u001b[0;36mrequire_length_match\u001b[0;34m(data, index)\u001b[0m\n\u001b[1;32m    553\u001b[0m \u001b[38;5;124;03m\"\"\"\u001b[39;00m\n\u001b[1;32m    554\u001b[0m \u001b[38;5;124;03mCheck the length of data matches the length of the index.\u001b[39;00m\n\u001b[1;32m    555\u001b[0m \u001b[38;5;124;03m\"\"\"\u001b[39;00m\n\u001b[1;32m    556\u001b[0m \u001b[38;5;28;01mif\u001b[39;00m \u001b[38;5;28mlen\u001b[39m(data) \u001b[38;5;241m!=\u001b[39m \u001b[38;5;28mlen\u001b[39m(index):\n\u001b[0;32m--> 557\u001b[0m     \u001b[38;5;28;01mraise\u001b[39;00m \u001b[38;5;167;01mValueError\u001b[39;00m(\n\u001b[1;32m    558\u001b[0m         \u001b[38;5;124m\"\u001b[39m\u001b[38;5;124mLength of values \u001b[39m\u001b[38;5;124m\"\u001b[39m\n\u001b[1;32m    559\u001b[0m         \u001b[38;5;124mf\u001b[39m\u001b[38;5;124m\"\u001b[39m\u001b[38;5;124m(\u001b[39m\u001b[38;5;132;01m{\u001b[39;00m\u001b[38;5;28mlen\u001b[39m(data)\u001b[38;5;132;01m}\u001b[39;00m\u001b[38;5;124m) \u001b[39m\u001b[38;5;124m\"\u001b[39m\n\u001b[1;32m    560\u001b[0m         \u001b[38;5;124m\"\u001b[39m\u001b[38;5;124mdoes not match length of index \u001b[39m\u001b[38;5;124m\"\u001b[39m\n\u001b[1;32m    561\u001b[0m         \u001b[38;5;124mf\u001b[39m\u001b[38;5;124m\"\u001b[39m\u001b[38;5;124m(\u001b[39m\u001b[38;5;132;01m{\u001b[39;00m\u001b[38;5;28mlen\u001b[39m(index)\u001b[38;5;132;01m}\u001b[39;00m\u001b[38;5;124m)\u001b[39m\u001b[38;5;124m\"\u001b[39m\n\u001b[1;32m    562\u001b[0m     )\n",
      "\u001b[0;31mValueError\u001b[0m: Length of values (20) does not match length of index (15)"
     ]
    }
   ],
   "source": [
    "pd.Series(lm.coef_, index=poly1.get_feature_names(x_train_scaled.columns)).sort_values()"
   ]
  },
  {
   "cell_type": "markdown",
   "id": "01b0cfa9",
   "metadata": {},
   "source": [
    "## Lasso-Lars"
   ]
  },
  {
   "cell_type": "code",
   "execution_count": 79,
   "id": "79b04db7",
   "metadata": {},
   "outputs": [
    {
     "data": {
      "text/html": [
       "<div>\n",
       "<style scoped>\n",
       "    .dataframe tbody tr th:only-of-type {\n",
       "        vertical-align: middle;\n",
       "    }\n",
       "\n",
       "    .dataframe tbody tr th {\n",
       "        vertical-align: top;\n",
       "    }\n",
       "\n",
       "    .dataframe thead th {\n",
       "        text-align: right;\n",
       "    }\n",
       "</style>\n",
       "<table border=\"1\" class=\"dataframe\">\n",
       "  <thead>\n",
       "    <tr style=\"text-align: right;\">\n",
       "      <th></th>\n",
       "      <th>actual</th>\n",
       "      <th>simple_lm</th>\n",
       "      <th>multiple_rfe</th>\n",
       "      <th>polynomial degree 2</th>\n",
       "      <th>polynomial only interaction</th>\n",
       "      <th>lasso_lars</th>\n",
       "    </tr>\n",
       "  </thead>\n",
       "  <tbody>\n",
       "    <tr>\n",
       "      <th>1253014</th>\n",
       "      <td>37842</td>\n",
       "      <td>331238.589470</td>\n",
       "      <td>343826.628139</td>\n",
       "      <td>242092.197467</td>\n",
       "      <td>303907.790102</td>\n",
       "      <td>345226.714232</td>\n",
       "    </tr>\n",
       "    <tr>\n",
       "      <th>174727</th>\n",
       "      <td>66105</td>\n",
       "      <td>333018.512416</td>\n",
       "      <td>187094.295577</td>\n",
       "      <td>241911.641425</td>\n",
       "      <td>238715.716224</td>\n",
       "      <td>201509.188903</td>\n",
       "    </tr>\n",
       "    <tr>\n",
       "      <th>1872959</th>\n",
       "      <td>47575</td>\n",
       "      <td>336756.350601</td>\n",
       "      <td>345978.720983</td>\n",
       "      <td>242653.886203</td>\n",
       "      <td>283810.063700</td>\n",
       "      <td>324162.613859</td>\n",
       "    </tr>\n",
       "    <tr>\n",
       "      <th>1921652</th>\n",
       "      <td>412296</td>\n",
       "      <td>364167.163958</td>\n",
       "      <td>356669.762853</td>\n",
       "      <td>305999.876445</td>\n",
       "      <td>335058.555141</td>\n",
       "      <td>358424.809111</td>\n",
       "    </tr>\n",
       "    <tr>\n",
       "      <th>636654</th>\n",
       "      <td>257421</td>\n",
       "      <td>371820.832623</td>\n",
       "      <td>359654.923895</td>\n",
       "      <td>353774.926408</td>\n",
       "      <td>334162.511635</td>\n",
       "      <td>366862.828145</td>\n",
       "    </tr>\n",
       "  </tbody>\n",
       "</table>\n",
       "</div>"
      ],
      "text/plain": [
       "         actual      simple_lm   multiple_rfe  polynomial degree 2  \\\n",
       "1253014   37842  331238.589470  343826.628139        242092.197467   \n",
       "174727    66105  333018.512416  187094.295577        241911.641425   \n",
       "1872959   47575  336756.350601  345978.720983        242653.886203   \n",
       "1921652  412296  364167.163958  356669.762853        305999.876445   \n",
       "636654   257421  371820.832623  359654.923895        353774.926408   \n",
       "\n",
       "         polynomial only interaction     lasso_lars  \n",
       "1253014                303907.790102  345226.714232  \n",
       "174727                 238715.716224  201509.188903  \n",
       "1872959                283810.063700  324162.613859  \n",
       "1921652                335058.555141  358424.809111  \n",
       "636654                 334162.511635  366862.828145  "
      ]
     },
     "execution_count": 79,
     "metadata": {},
     "output_type": "execute_result"
    }
   ],
   "source": [
    "from sklearn.linear_model import LassoLars\n",
    "\n",
    "# create the model object\n",
    "lars = LassoLars(alpha=1)\n",
    "\n",
    "# fit the model to our training data\n",
    "lars.fit(x_train_scaled, y_train)\n",
    "\n",
    "# predict validate\n",
    "x_validate_scaled_pred_lars = lars.predict(x_validate_scaled)\n",
    "\n",
    "# Add lassolars predictions to our predictions DataFrame\n",
    "predictions['lasso_lars'] = x_validate_scaled_pred_lars\n",
    "predictions.head()"
   ]
  },
  {
   "cell_type": "code",
   "execution_count": 83,
   "id": "c38933f3",
   "metadata": {},
   "outputs": [
    {
     "data": {
      "text/plain": [
       "bedroomcnt_scaled    -1.718762e+05\n",
       "yearbuilt_scaled      0.000000e+00\n",
       "fips_scaled           1.806392e+04\n",
       "bathroomcnt_scaled    1.038462e+06\n",
       "square_feet_scaled    3.397885e+07\n",
       "dtype: float64"
      ]
     },
     "execution_count": 83,
     "metadata": {},
     "output_type": "execute_result"
    }
   ],
   "source": [
    "pd.Series(lars.coef_, index=x_train_scaled.columns).sort_values()"
   ]
  },
  {
   "cell_type": "code",
   "execution_count": 84,
   "id": "dfe910cc",
   "metadata": {},
   "outputs": [
    {
     "data": {
      "text/plain": [
       "square_feet_scaled^2                    -2.066433e+08\n",
       "square_feet_scaled                      -2.738453e+07\n",
       "square_feet_scaled fips_scaled          -1.620424e+07\n",
       "yearbuilt_scaled                        -7.233446e+05\n",
       "bedroomcnt_scaled bathroomcnt_scaled    -7.092438e+05\n",
       "fips_scaled                             -5.190087e+05\n",
       "bedroomcnt_scaled yearbuilt_scaled      -3.586208e+05\n",
       "bathroomcnt_scaled fips_scaled          -2.649579e+05\n",
       "fips_scaled^2                           -2.521200e+05\n",
       "bedroomcnt_scaled^2                     -5.858125e+04\n",
       "bathroomcnt_scaled yearbuilt_scaled      4.786322e+02\n",
       "bedroomcnt_scaled fips_scaled            2.242506e+04\n",
       "bedroomcnt_scaled                        2.183299e+05\n",
       "yearbuilt_scaled^2                       2.429962e+05\n",
       "bathroomcnt_scaled                       3.087244e+05\n",
       "bathroomcnt_scaled^2                     3.911615e+05\n",
       "yearbuilt_scaled fips_scaled             1.133414e+06\n",
       "bedroomcnt_scaled square_feet_scaled     5.464695e+07\n",
       "bathroomcnt_scaled square_feet_scaled    9.951717e+07\n",
       "square_feet_scaled yearbuilt_scaled      1.793667e+08\n",
       "dtype: float64"
      ]
     },
     "execution_count": 84,
     "metadata": {},
     "output_type": "execute_result"
    }
   ],
   "source": [
    "pd.Series(lm.coef_, index=poly.get_feature_names(x_train_scaled.columns)).sort_values()"
   ]
  },
  {
   "cell_type": "code",
   "execution_count": null,
   "id": "1763afe8",
   "metadata": {},
   "outputs": [],
   "source": []
  },
  {
   "cell_type": "markdown",
   "id": "aeee58f9",
   "metadata": {},
   "source": [
    "## Generalized Linear Model"
   ]
  },
  {
   "cell_type": "code",
   "execution_count": 80,
   "id": "9eb5bd33",
   "metadata": {},
   "outputs": [
    {
     "data": {
      "text/html": [
       "<div>\n",
       "<style scoped>\n",
       "    .dataframe tbody tr th:only-of-type {\n",
       "        vertical-align: middle;\n",
       "    }\n",
       "\n",
       "    .dataframe tbody tr th {\n",
       "        vertical-align: top;\n",
       "    }\n",
       "\n",
       "    .dataframe thead th {\n",
       "        text-align: right;\n",
       "    }\n",
       "</style>\n",
       "<table border=\"1\" class=\"dataframe\">\n",
       "  <thead>\n",
       "    <tr style=\"text-align: right;\">\n",
       "      <th></th>\n",
       "      <th>actual</th>\n",
       "      <th>simple_lm</th>\n",
       "      <th>multiple_rfe</th>\n",
       "      <th>polynomial degree 2</th>\n",
       "      <th>polynomial only interaction</th>\n",
       "      <th>lasso_lars</th>\n",
       "      <th>glm</th>\n",
       "    </tr>\n",
       "  </thead>\n",
       "  <tbody>\n",
       "    <tr>\n",
       "      <th>1253014</th>\n",
       "      <td>37842</td>\n",
       "      <td>331238.589470</td>\n",
       "      <td>343826.628139</td>\n",
       "      <td>242092.197467</td>\n",
       "      <td>303907.790102</td>\n",
       "      <td>345226.714232</td>\n",
       "      <td>343813.031423</td>\n",
       "    </tr>\n",
       "    <tr>\n",
       "      <th>174727</th>\n",
       "      <td>66105</td>\n",
       "      <td>333018.512416</td>\n",
       "      <td>187094.295577</td>\n",
       "      <td>241911.641425</td>\n",
       "      <td>238715.716224</td>\n",
       "      <td>201509.188903</td>\n",
       "      <td>237868.250053</td>\n",
       "    </tr>\n",
       "    <tr>\n",
       "      <th>1872959</th>\n",
       "      <td>47575</td>\n",
       "      <td>336756.350601</td>\n",
       "      <td>345978.720983</td>\n",
       "      <td>242653.886203</td>\n",
       "      <td>283810.063700</td>\n",
       "      <td>324162.613859</td>\n",
       "      <td>337422.771320</td>\n",
       "    </tr>\n",
       "    <tr>\n",
       "      <th>1921652</th>\n",
       "      <td>412296</td>\n",
       "      <td>364167.163958</td>\n",
       "      <td>356669.762853</td>\n",
       "      <td>305999.876445</td>\n",
       "      <td>335058.555141</td>\n",
       "      <td>358424.809111</td>\n",
       "      <td>343989.812637</td>\n",
       "    </tr>\n",
       "    <tr>\n",
       "      <th>636654</th>\n",
       "      <td>257421</td>\n",
       "      <td>371820.832623</td>\n",
       "      <td>359654.923895</td>\n",
       "      <td>353774.926408</td>\n",
       "      <td>334162.511635</td>\n",
       "      <td>366862.828145</td>\n",
       "      <td>352612.260367</td>\n",
       "    </tr>\n",
       "  </tbody>\n",
       "</table>\n",
       "</div>"
      ],
      "text/plain": [
       "         actual      simple_lm   multiple_rfe  polynomial degree 2  \\\n",
       "1253014   37842  331238.589470  343826.628139        242092.197467   \n",
       "174727    66105  333018.512416  187094.295577        241911.641425   \n",
       "1872959   47575  336756.350601  345978.720983        242653.886203   \n",
       "1921652  412296  364167.163958  356669.762853        305999.876445   \n",
       "636654   257421  371820.832623  359654.923895        353774.926408   \n",
       "\n",
       "         polynomial only interaction     lasso_lars            glm  \n",
       "1253014                303907.790102  345226.714232  343813.031423  \n",
       "174727                 238715.716224  201509.188903  237868.250053  \n",
       "1872959                283810.063700  324162.613859  337422.771320  \n",
       "1921652                335058.555141  358424.809111  343989.812637  \n",
       "636654                 334162.511635  366862.828145  352612.260367  "
      ]
     },
     "execution_count": 80,
     "metadata": {},
     "output_type": "execute_result"
    }
   ],
   "source": [
    "from sklearn.linear_model import TweedieRegressor\n",
    "\n",
    "# create the model object\n",
    "glm = TweedieRegressor(power=1, alpha=0)\n",
    "\n",
    "# fit the model to our training data\n",
    "glm.fit(x_train_scaled, y_train)\n",
    "\n",
    "# predict validate\n",
    "x_validate_scaled_predict_glm = glm.predict(x_validate_scaled)\n",
    "\n",
    "# Add lassolars predictions to our predictions DataFrame\n",
    "predictions['glm'] = x_validate_scaled_predict_glm\n",
    "predictions.head()"
   ]
  },
  {
   "cell_type": "code",
   "execution_count": 81,
   "id": "a6c2725c",
   "metadata": {},
   "outputs": [
    {
     "data": {
      "text/plain": [
       "bedroomcnt_scaled    -0.260485\n",
       "fips_scaled           0.074674\n",
       "yearbuilt_scaled      0.234725\n",
       "bathroomcnt_scaled    2.399237\n",
       "square_feet_scaled    4.134153\n",
       "dtype: float64"
      ]
     },
     "execution_count": 81,
     "metadata": {},
     "output_type": "execute_result"
    }
   ],
   "source": [
    "pd.Series(glm.coef_, index=x_train_scaled.columns).sort_values()"
   ]
  },
  {
   "cell_type": "code",
   "execution_count": 82,
   "id": "513df1a1",
   "metadata": {},
   "outputs": [
    {
     "data": {
      "text/plain": [
       "11.905712159430921"
      ]
     },
     "execution_count": 82,
     "metadata": {},
     "output_type": "execute_result"
    }
   ],
   "source": [
    "glm.intercept_"
   ]
  },
  {
   "cell_type": "markdown",
   "id": "d1b2a69d",
   "metadata": {},
   "source": [
    "## TL;DR"
   ]
  },
  {
   "cell_type": "code",
   "execution_count": 87,
   "id": "cbebedeb",
   "metadata": {},
   "outputs": [
    {
     "data": {
      "text/plain": [
       "(array([323495., 404535., 230449., 107765.,  50108.,  24634.,  15263.,\n",
       "          9997.,   6919.,   5037.]),\n",
       " array([2.2000000e+01, 2.0001930e+05, 4.0001660e+05, 6.0001390e+05,\n",
       "        8.0001120e+05, 1.0000085e+06, 1.2000058e+06, 1.4000031e+06,\n",
       "        1.6000004e+06, 1.7999977e+06, 1.9999950e+06]),\n",
       " <BarContainer object of 10 artists>)"
      ]
     },
     "execution_count": 87,
     "metadata": {},
     "output_type": "execute_result"
    },
    {
     "data": {
      "image/png": "[encoded data removed]",
      "text/plain": [
       "<Figure size 432x288 with 1 Axes>"
      ]
     },
     "metadata": {
      "needs_background": "light"
     },
     "output_type": "display_data"
    }
   ],
   "source": [
    "plt.hist(y_train)"
   ]
  },
  {
   "cell_type": "markdown",
   "id": "3fd6f5fd",
   "metadata": {},
   "source": [
    "## Evaluation"
   ]
  },
  {
   "cell_type": "code",
   "execution_count": 88,
   "id": "da5a5111",
   "metadata": {},
   "outputs": [
    {
     "data": {
      "text/html": [
       "<div>\n",
       "<style scoped>\n",
       "    .dataframe tbody tr th:only-of-type {\n",
       "        vertical-align: middle;\n",
       "    }\n",
       "\n",
       "    .dataframe tbody tr th {\n",
       "        vertical-align: top;\n",
       "    }\n",
       "\n",
       "    .dataframe thead th {\n",
       "        text-align: right;\n",
       "    }\n",
       "</style>\n",
       "<table border=\"1\" class=\"dataframe\">\n",
       "  <thead>\n",
       "    <tr style=\"text-align: right;\">\n",
       "      <th></th>\n",
       "      <th>actual</th>\n",
       "      <th>simple_lm</th>\n",
       "      <th>multiple_rfe</th>\n",
       "      <th>polynomial degree 2</th>\n",
       "      <th>polynomial only interaction</th>\n",
       "      <th>lasso_lars</th>\n",
       "      <th>glm</th>\n",
       "      <th>baseline</th>\n",
       "    </tr>\n",
       "  </thead>\n",
       "  <tbody>\n",
       "    <tr>\n",
       "      <th>1253014</th>\n",
       "      <td>37842</td>\n",
       "      <td>331238.589470</td>\n",
       "      <td>343826.628139</td>\n",
       "      <td>242092.197467</td>\n",
       "      <td>303907.790102</td>\n",
       "      <td>345226.714232</td>\n",
       "      <td>343813.031423</td>\n",
       "      <td>398683.705141</td>\n",
       "    </tr>\n",
       "    <tr>\n",
       "      <th>174727</th>\n",
       "      <td>66105</td>\n",
       "      <td>333018.512416</td>\n",
       "      <td>187094.295577</td>\n",
       "      <td>241911.641425</td>\n",
       "      <td>238715.716224</td>\n",
       "      <td>201509.188903</td>\n",
       "      <td>237868.250053</td>\n",
       "      <td>398683.705141</td>\n",
       "    </tr>\n",
       "    <tr>\n",
       "      <th>1872959</th>\n",
       "      <td>47575</td>\n",
       "      <td>336756.350601</td>\n",
       "      <td>345978.720983</td>\n",
       "      <td>242653.886203</td>\n",
       "      <td>283810.063700</td>\n",
       "      <td>324162.613859</td>\n",
       "      <td>337422.771320</td>\n",
       "      <td>398683.705141</td>\n",
       "    </tr>\n",
       "    <tr>\n",
       "      <th>1921652</th>\n",
       "      <td>412296</td>\n",
       "      <td>364167.163958</td>\n",
       "      <td>356669.762853</td>\n",
       "      <td>305999.876445</td>\n",
       "      <td>335058.555141</td>\n",
       "      <td>358424.809111</td>\n",
       "      <td>343989.812637</td>\n",
       "      <td>398683.705141</td>\n",
       "    </tr>\n",
       "    <tr>\n",
       "      <th>636654</th>\n",
       "      <td>257421</td>\n",
       "      <td>371820.832623</td>\n",
       "      <td>359654.923895</td>\n",
       "      <td>353774.926408</td>\n",
       "      <td>334162.511635</td>\n",
       "      <td>366862.828145</td>\n",
       "      <td>352612.260367</td>\n",
       "      <td>398683.705141</td>\n",
       "    </tr>\n",
       "  </tbody>\n",
       "</table>\n",
       "</div>"
      ],
      "text/plain": [
       "         actual      simple_lm   multiple_rfe  polynomial degree 2  \\\n",
       "1253014   37842  331238.589470  343826.628139        242092.197467   \n",
       "174727    66105  333018.512416  187094.295577        241911.641425   \n",
       "1872959   47575  336756.350601  345978.720983        242653.886203   \n",
       "1921652  412296  364167.163958  356669.762853        305999.876445   \n",
       "636654   257421  371820.832623  359654.923895        353774.926408   \n",
       "\n",
       "         polynomial only interaction     lasso_lars            glm  \\\n",
       "1253014                303907.790102  345226.714232  343813.031423   \n",
       "174727                 238715.716224  201509.188903  237868.250053   \n",
       "1872959                283810.063700  324162.613859  337422.771320   \n",
       "1921652                335058.555141  358424.809111  343989.812637   \n",
       "636654                 334162.511635  366862.828145  352612.260367   \n",
       "\n",
       "              baseline  \n",
       "1253014  398683.705141  \n",
       "174727   398683.705141  \n",
       "1872959  398683.705141  \n",
       "1921652  398683.705141  \n",
       "636654   398683.705141  "
      ]
     },
     "execution_count": 88,
     "metadata": {},
     "output_type": "execute_result"
    }
   ],
   "source": [
    "# add a baseline model\n",
    "\n",
    "predictions['baseline'] = train.house_value.mean()\n",
    "predictions.head()"
   ]
  },
  {
   "cell_type": "code",
   "execution_count": 89,
   "id": "3a5701e6",
   "metadata": {},
   "outputs": [
    {
     "data": {
      "text/plain": [
       "actual                         0.000000e+00\n",
       "polynomial degree 2            6.102737e+10\n",
       "polynomial only interaction    6.596594e+10\n",
       "lasso_lars                     6.938237e+10\n",
       "multiple_rfe                   6.994420e+10\n",
       "glm                            7.002387e+10\n",
       "simple_lm                      7.751365e+10\n",
       "baseline                       9.844317e+10\n",
       "dtype: float64"
      ]
     },
     "execution_count": 89,
     "metadata": {},
     "output_type": "execute_result"
    }
   ],
   "source": [
    "# Calculate mean squared error for every column in the dataframe\n",
    "\n",
    "def calculate_mse(y_predicted):\n",
    "    return mean_squared_error(predictions.actual, y_predicted)\n",
    "\n",
    "predictions.apply(calculate_mse).sort_values()"
   ]
  },
  {
   "cell_type": "markdown",
   "id": "0b54af78",
   "metadata": {},
   "source": [
    "## Evaluate on Test: Best Model (2nd Degree Polynomial)"
   ]
  },
  {
   "cell_type": "code",
   "execution_count": 91,
   "id": "0d30bc77",
   "metadata": {},
   "outputs": [
    {
     "data": {
      "text/plain": [
       "LinearRegression()"
      ]
     },
     "execution_count": 91,
     "metadata": {},
     "output_type": "execute_result"
    }
   ],
   "source": [
    "# re-create our polynomial model\n",
    "poly = PolynomialFeatures(degree=2, include_bias=False, interaction_only=False)\n",
    "poly.fit(x_train_scaled)\n",
    "x_train_scaled_poly = pd.DataFrame(poly.transform(x_train_scaled),\n",
    "                                   columns=poly.get_feature_names(x_train_scaled.columns),index=train.index,)\n",
    "\n",
    "lm = LinearRegression()\n",
    "lm.fit(x_train_scaled_poly, y_train)"
   ]
  },
  {
   "cell_type": "code",
   "execution_count": 92,
   "id": "4aa00276",
   "metadata": {},
   "outputs": [],
   "source": [
    "# any transformations applied to your training data must be applied to the test as well\n",
    "\n",
    "x_test_scaled_poly = poly.transform(x_test_scaled)\n",
    "\n",
    "test_predictions = lm.predict(x_test_scaled_poly)\n",
    "test_actual = test.house_value"
   ]
  },
  {
   "cell_type": "code",
   "execution_count": 93,
   "id": "6f3d6209",
   "metadata": {},
   "outputs": [
    {
     "data": {
      "text/plain": [
       "61046486668.43699"
      ]
     },
     "execution_count": 93,
     "metadata": {},
     "output_type": "execute_result"
    }
   ],
   "source": [
    "mean_squared_error(test_actual, test_predictions)"
   ]
  }
 ],
 "metadata": {
  "kernelspec": {
   "display_name": "Python 3 (ipykernel)",
   "language": "python",
   "name": "python3"
  },
  "language_info": {
   "codemirror_mode": {
    "name": "ipython",
    "version": 3
   },
   "file_extension": ".py",
   "mimetype": "text/x-python",
   "name": "python",
   "nbconvert_exporter": "python",
   "pygments_lexer": "ipython3",
   "version": "3.9.12"
  }
 },
 "nbformat": 4,
 "nbformat_minor": 5
}
