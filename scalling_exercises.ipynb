{
 "cells": [
  {
   "cell_type": "markdown",
   "id": "7bc44b7c",
   "metadata": {},
   "source": [
    "# Exercises\n",
    "\n",
    "### Do your work for these exercises in a jupyter notebook named scaling. Use the zillow dataset you acquired and prepped in previous lesson. Once you are finished, you may wish to repeat the exercises on another dataset for additional practice.\n",
    "\n",
    "1. Apply the scalers we talked about in this lesson to your data and visualize the results for the unscaled and scaled distribution .\n",
    "2. Apply the .inverse_transform method to your scaled data. Is the resulting dataset the exact same as the original data?\n",
    "3. Read the documentation for sklearn's QuantileTransformer. Use normal for the output_distribution and apply this scaler to your data. Visualize the result of your data scaling.\n",
    "4. Use the QuantileTransformer, but omit the output_distribution argument. Visualize your results. What do you notice?\n",
    "5. Based on the work you've done, choose a scaling method for your dataset. Write a function within your prepare.py that accepts as input the train, validate, and test data splits, and returns the scaled versions of each. Be sure to only learn the parameters for scaling from your training data!"
   ]
  },
  {
   "cell_type": "code",
   "execution_count": 5,
   "id": "a165662e",
   "metadata": {},
   "outputs": [],
   "source": [
    "import matplotlib.pyplot as plt\n",
    "import numpy as np\n",
    "import pandas as pd\n",
    "import pydataset\n",
    "import seaborn as sns\n",
    "from sklearn.neighbors import KNeighborsClassifier\n",
    "from sklearn.preprocessing import MinMaxScaler, StandardScaler, RobustScaler"
   ]
  },
  {
   "cell_type": "code",
   "execution_count": 6,
   "id": "62f8f29b",
   "metadata": {},
   "outputs": [
    {
     "data": {
      "text/html": [
       "<div>\n",
       "<style scoped>\n",
       "    .dataframe tbody tr th:only-of-type {\n",
       "        vertical-align: middle;\n",
       "    }\n",
       "\n",
       "    .dataframe tbody tr th {\n",
       "        vertical-align: top;\n",
       "    }\n",
       "\n",
       "    .dataframe thead th {\n",
       "        text-align: right;\n",
       "    }\n",
       "</style>\n",
       "<table border=\"1\" class=\"dataframe\">\n",
       "  <thead>\n",
       "    <tr style=\"text-align: right;\">\n",
       "      <th></th>\n",
       "      <th>bedroomcnt</th>\n",
       "      <th>bathroomcnt</th>\n",
       "      <th>calculatedfinishedsquarefeet</th>\n",
       "      <th>taxvaluedollarcnt</th>\n",
       "      <th>yearbuilt</th>\n",
       "      <th>taxamount</th>\n",
       "      <th>fips</th>\n",
       "    </tr>\n",
       "  </thead>\n",
       "  <tbody>\n",
       "    <tr>\n",
       "      <th>0</th>\n",
       "      <td>4</td>\n",
       "      <td>2.0</td>\n",
       "      <td>3633</td>\n",
       "      <td>296425</td>\n",
       "      <td>2005</td>\n",
       "      <td>6941.39</td>\n",
       "      <td>6037</td>\n",
       "    </tr>\n",
       "    <tr>\n",
       "      <th>1</th>\n",
       "      <td>3</td>\n",
       "      <td>4.0</td>\n",
       "      <td>1620</td>\n",
       "      <td>847770</td>\n",
       "      <td>2011</td>\n",
       "      <td>10244.94</td>\n",
       "      <td>6037</td>\n",
       "    </tr>\n",
       "    <tr>\n",
       "      <th>2</th>\n",
       "      <td>3</td>\n",
       "      <td>2.0</td>\n",
       "      <td>2077</td>\n",
       "      <td>646760</td>\n",
       "      <td>1926</td>\n",
       "      <td>7924.68</td>\n",
       "      <td>6037</td>\n",
       "    </tr>\n",
       "    <tr>\n",
       "      <th>3</th>\n",
       "      <td>0</td>\n",
       "      <td>0.0</td>\n",
       "      <td>1200</td>\n",
       "      <td>5328</td>\n",
       "      <td>1972</td>\n",
       "      <td>91.60</td>\n",
       "      <td>6037</td>\n",
       "    </tr>\n",
       "    <tr>\n",
       "      <th>4</th>\n",
       "      <td>0</td>\n",
       "      <td>0.0</td>\n",
       "      <td>171</td>\n",
       "      <td>6920</td>\n",
       "      <td>1973</td>\n",
       "      <td>255.17</td>\n",
       "      <td>6037</td>\n",
       "    </tr>\n",
       "  </tbody>\n",
       "</table>\n",
       "</div>"
      ],
      "text/plain": [
       "   bedroomcnt  bathroomcnt  calculatedfinishedsquarefeet  taxvaluedollarcnt  \\\n",
       "0           4          2.0                          3633             296425   \n",
       "1           3          4.0                          1620             847770   \n",
       "2           3          2.0                          2077             646760   \n",
       "3           0          0.0                          1200               5328   \n",
       "4           0          0.0                           171               6920   \n",
       "\n",
       "   yearbuilt  taxamount  fips  \n",
       "0       2005    6941.39  6037  \n",
       "1       2011   10244.94  6037  \n",
       "2       1926    7924.68  6037  \n",
       "3       1972      91.60  6037  \n",
       "4       1973     255.17  6037  "
      ]
     },
     "execution_count": 6,
     "metadata": {},
     "output_type": "execute_result"
    }
   ],
   "source": [
    "from wrangle import wrangle_zillow\n",
    "df_zillow = wrangle_zillow()\n",
    "df_zillow.head()"
   ]
  },
  {
   "cell_type": "code",
   "execution_count": 21,
   "id": "0b4b930b",
   "metadata": {},
   "outputs": [
    {
     "data": {
      "text/plain": [
       "6037    1393369\n",
       "6059     539747\n",
       "6111     161467\n",
       "Name: fips, dtype: int64"
      ]
     },
     "execution_count": 21,
     "metadata": {},
     "output_type": "execute_result"
    }
   ],
   "source": [
    "df_zillow.fips.value_counts()"
   ]
  },
  {
   "cell_type": "code",
   "execution_count": 7,
   "id": "6b79ad30",
   "metadata": {
    "scrolled": true
   },
   "outputs": [
    {
     "name": "stdout",
     "output_type": "stream",
     "text": [
      "bedroomcnt\n"
     ]
    },
    {
     "data": {
      "image/png": "[encoded data removed]",
      "text/plain": [
       "<Figure size 432x288 with 1 Axes>"
      ]
     },
     "metadata": {
      "needs_background": "light"
     },
     "output_type": "display_data"
    },
    {
     "name": "stdout",
     "output_type": "stream",
     "text": [
      "bathroomcnt\n"
     ]
    },
    {
     "data": {
      "image/png": "[encoded data removed]",
      "text/plain": [
       "<Figure size 432x288 with 1 Axes>"
      ]
     },
     "metadata": {
      "needs_background": "light"
     },
     "output_type": "display_data"
    },
    {
     "name": "stdout",
     "output_type": "stream",
     "text": [
      "calculatedfinishedsquarefeet\n"
     ]
    },
    {
     "data": {
      "image/png": "[encoded data removed]",
      "text/plain": [
       "<Figure size 432x288 with 1 Axes>"
      ]
     },
     "metadata": {
      "needs_background": "light"
     },
     "output_type": "display_data"
    },
    {
     "name": "stdout",
     "output_type": "stream",
     "text": [
      "taxvaluedollarcnt\n"
     ]
    },
    {
     "data": {
      "image/png": "[encoded data removed]",
      "text/plain": [
       "<Figure size 432x288 with 1 Axes>"
      ]
     },
     "metadata": {
      "needs_background": "light"
     },
     "output_type": "display_data"
    },
    {
     "name": "stdout",
     "output_type": "stream",
     "text": [
      "yearbuilt\n"
     ]
    },
    {
     "data": {
      "image/png": "[encoded data removed]",
      "text/plain": [
       "<Figure size 432x288 with 1 Axes>"
      ]
     },
     "metadata": {
      "needs_background": "light"
     },
     "output_type": "display_data"
    },
    {
     "name": "stdout",
     "output_type": "stream",
     "text": [
      "taxamount\n"
     ]
    },
    {
     "data": {
      "image/png": "[encoded data removed]",
      "text/plain": [
       "<Figure size 432x288 with 1 Axes>"
      ]
     },
     "metadata": {
      "needs_background": "light"
     },
     "output_type": "display_data"
    },
    {
     "name": "stdout",
     "output_type": "stream",
     "text": [
      "fips\n"
     ]
    },
    {
     "data": {
      "image/png": "[encoded data removed]",
      "text/plain": [
       "<Figure size 432x288 with 1 Axes>"
      ]
     },
     "metadata": {
      "needs_background": "light"
     },
     "output_type": "display_data"
    }
   ],
   "source": [
    "import seaborn as sns\n",
    "import matplotlib.pyplot as plt\n",
    "\n",
    "for col in df_zillow.columns:\n",
    "    print(col)\n",
    "    df_zillow[col].hist(bins=20)\n",
    "    plt.show()"
   ]
  },
  {
   "cell_type": "code",
   "execution_count": 8,
   "id": "eef54227",
   "metadata": {},
   "outputs": [],
   "source": [
    "from sklearn.model_selection import train_test_split\n",
    "\n",
    "# split data into train 56%, validate 24%, test 20%\n",
    "train_and_validate, test = train_test_split(df_zillow, random_state=123)\n",
    "train, validate = train_test_split(train_and_validate, random_state=123)"
   ]
  },
  {
   "cell_type": "code",
   "execution_count": 18,
   "id": "a0d2684f",
   "metadata": {},
   "outputs": [
    {
     "data": {
      "text/html": [
       "<div>\n",
       "<style scoped>\n",
       "    .dataframe tbody tr th:only-of-type {\n",
       "        vertical-align: middle;\n",
       "    }\n",
       "\n",
       "    .dataframe tbody tr th {\n",
       "        vertical-align: top;\n",
       "    }\n",
       "\n",
       "    .dataframe thead th {\n",
       "        text-align: right;\n",
       "    }\n",
       "</style>\n",
       "<table border=\"1\" class=\"dataframe\">\n",
       "  <thead>\n",
       "    <tr style=\"text-align: right;\">\n",
       "      <th></th>\n",
       "      <th>bedroomcnt</th>\n",
       "      <th>bathroomcnt</th>\n",
       "      <th>calculatedfinishedsquarefeet</th>\n",
       "      <th>taxvaluedollarcnt</th>\n",
       "      <th>yearbuilt</th>\n",
       "      <th>taxamount</th>\n",
       "      <th>fips</th>\n",
       "    </tr>\n",
       "  </thead>\n",
       "  <tbody>\n",
       "    <tr>\n",
       "      <th>176880</th>\n",
       "      <td>3</td>\n",
       "      <td>2.0</td>\n",
       "      <td>1714</td>\n",
       "      <td>115157</td>\n",
       "      <td>1973</td>\n",
       "      <td>1282.32</td>\n",
       "      <td>6059</td>\n",
       "    </tr>\n",
       "    <tr>\n",
       "      <th>331975</th>\n",
       "      <td>3</td>\n",
       "      <td>3.0</td>\n",
       "      <td>1862</td>\n",
       "      <td>345618</td>\n",
       "      <td>1958</td>\n",
       "      <td>5530.82</td>\n",
       "      <td>6059</td>\n",
       "    </tr>\n",
       "    <tr>\n",
       "      <th>1753349</th>\n",
       "      <td>5</td>\n",
       "      <td>5.0</td>\n",
       "      <td>3959</td>\n",
       "      <td>1451000</td>\n",
       "      <td>1953</td>\n",
       "      <td>15884.95</td>\n",
       "      <td>6037</td>\n",
       "    </tr>\n",
       "    <tr>\n",
       "      <th>120218</th>\n",
       "      <td>3</td>\n",
       "      <td>3.0</td>\n",
       "      <td>2100</td>\n",
       "      <td>459187</td>\n",
       "      <td>1962</td>\n",
       "      <td>5619.06</td>\n",
       "      <td>6037</td>\n",
       "    </tr>\n",
       "    <tr>\n",
       "      <th>1991743</th>\n",
       "      <td>4</td>\n",
       "      <td>2.0</td>\n",
       "      <td>1954</td>\n",
       "      <td>403193</td>\n",
       "      <td>1980</td>\n",
       "      <td>5047.67</td>\n",
       "      <td>6037</td>\n",
       "    </tr>\n",
       "  </tbody>\n",
       "</table>\n",
       "</div>"
      ],
      "text/plain": [
       "         bedroomcnt  bathroomcnt  calculatedfinishedsquarefeet  \\\n",
       "176880            3          2.0                          1714   \n",
       "331975            3          3.0                          1862   \n",
       "1753349           5          5.0                          3959   \n",
       "120218            3          3.0                          2100   \n",
       "1991743           4          2.0                          1954   \n",
       "\n",
       "         taxvaluedollarcnt  yearbuilt  taxamount  fips  \n",
       "176880              115157       1973    1282.32  6059  \n",
       "331975              345618       1958    5530.82  6059  \n",
       "1753349            1451000       1953   15884.95  6037  \n",
       "120218              459187       1962    5619.06  6037  \n",
       "1991743             403193       1980    5047.67  6037  "
      ]
     },
     "execution_count": 18,
     "metadata": {},
     "output_type": "execute_result"
    }
   ],
   "source": [
    "train.head()"
   ]
  },
  {
   "cell_type": "code",
   "execution_count": 9,
   "id": "87470120",
   "metadata": {},
   "outputs": [],
   "source": [
    "# use min-max scalling to create the object\n",
    "import sklearn.preprocessing\n",
    "\n",
    "scaler = sklearn.preprocessing.MinMaxScaler()\n",
    "\n",
    "cols_to_scale = ['calculatedfinishedsquarefeet', 'taxvaluedollarcnt']\n",
    "\n",
    "scaler.fit(train[cols_to_scale])\n",
    "\n",
    "train_scaled = scaler.transform(train[cols_to_scale])\n",
    "validate_scaled = scaler.transform(validate[cols_to_scale])\n",
    "test_scaled = scaler.transform(test[cols_to_scale])"
   ]
  },
  {
   "cell_type": "code",
   "execution_count": 10,
   "id": "c7609b96",
   "metadata": {},
   "outputs": [
    {
     "data": {
      "text/plain": [
       "array([[0.00179828, 0.05756828],\n",
       "       [0.00195365, 0.17280033],\n",
       "       [0.00415505, 0.72549879],\n",
       "       ...,\n",
       "       [0.00135737, 0.04893866],\n",
       "       [0.00133638, 0.18069844],\n",
       "       [0.00138047, 0.09735881]])"
      ]
     },
     "execution_count": 10,
     "metadata": {},
     "output_type": "execute_result"
    }
   ],
   "source": [
    "train_scaled"
   ]
  },
  {
   "cell_type": "code",
   "execution_count": 11,
   "id": "3eb8772e",
   "metadata": {},
   "outputs": [
    {
     "data": {
      "text/html": [
       "<div>\n",
       "<style scoped>\n",
       "    .dataframe tbody tr th:only-of-type {\n",
       "        vertical-align: middle;\n",
       "    }\n",
       "\n",
       "    .dataframe tbody tr th {\n",
       "        vertical-align: top;\n",
       "    }\n",
       "\n",
       "    .dataframe thead th {\n",
       "        text-align: right;\n",
       "    }\n",
       "</style>\n",
       "<table border=\"1\" class=\"dataframe\">\n",
       "  <thead>\n",
       "    <tr style=\"text-align: right;\">\n",
       "      <th></th>\n",
       "      <th>squarefeet_scaled</th>\n",
       "      <th>taxvalue_scaled</th>\n",
       "    </tr>\n",
       "  </thead>\n",
       "  <tbody>\n",
       "    <tr>\n",
       "      <th>0</th>\n",
       "      <td>0.001798</td>\n",
       "      <td>0.057568</td>\n",
       "    </tr>\n",
       "    <tr>\n",
       "      <th>1</th>\n",
       "      <td>0.001954</td>\n",
       "      <td>0.172800</td>\n",
       "    </tr>\n",
       "    <tr>\n",
       "      <th>2</th>\n",
       "      <td>0.004155</td>\n",
       "      <td>0.725499</td>\n",
       "    </tr>\n",
       "    <tr>\n",
       "      <th>3</th>\n",
       "      <td>0.002204</td>\n",
       "      <td>0.229586</td>\n",
       "    </tr>\n",
       "    <tr>\n",
       "      <th>4</th>\n",
       "      <td>0.002050</td>\n",
       "      <td>0.201588</td>\n",
       "    </tr>\n",
       "  </tbody>\n",
       "</table>\n",
       "</div>"
      ],
      "text/plain": [
       "   squarefeet_scaled  taxvalue_scaled\n",
       "0           0.001798         0.057568\n",
       "1           0.001954         0.172800\n",
       "2           0.004155         0.725499\n",
       "3           0.002204         0.229586\n",
       "4           0.002050         0.201588"
      ]
     },
     "execution_count": 11,
     "metadata": {},
     "output_type": "execute_result"
    }
   ],
   "source": [
    "train_scaled = pd.DataFrame(train_scaled)\n",
    "train_scaled = train_scaled.rename(columns = {0 :'squarefeet_scaled',1 :'taxvalue_scaled'})\n",
    "train_scaled.head()"
   ]
  },
  {
   "cell_type": "code",
   "execution_count": 12,
   "id": "98f66a66",
   "metadata": {},
   "outputs": [
    {
     "data": {
      "text/plain": [
       "Text(0.5, 1.0, 'Scaled')"
      ]
     },
     "execution_count": 12,
     "metadata": {},
     "output_type": "execute_result"
    },
    {
     "data": {
      "image/png": "[encoded data removed]",
      "text/plain": [
       "<Figure size 936x432 with 4 Axes>"
      ]
     },
     "metadata": {
      "needs_background": "light"
     },
     "output_type": "display_data"
    }
   ],
   "source": [
    "plt.figure(figsize=(13, 6))\n",
    "plt.subplot(221)\n",
    "plt.hist(train.calculatedfinishedsquarefeet, bins=10, ec='black')\n",
    "plt.title('Original')\n",
    "plt.subplot(222)\n",
    "plt.hist(train_scaled.squarefeet_scaled, bins=10, ec='black')\n",
    "plt.title('Scaled')\n",
    "\n",
    "plt.subplot(223)\n",
    "plt.hist(train.taxvaluedollarcnt, bins=10, ec='black')\n",
    "plt.title('Original')\n",
    "plt.subplot(224)\n",
    "plt.hist(train_scaled.taxvalue_scaled, bins=10, ec='black')\n",
    "plt.title('Scaled')"
   ]
  },
  {
   "cell_type": "code",
   "execution_count": 13,
   "id": "a487704e",
   "metadata": {},
   "outputs": [
    {
     "data": {
      "text/plain": [
       "Text(0.5, 1.0, 'Scaled_ss')"
      ]
     },
     "execution_count": 13,
     "metadata": {},
     "output_type": "execute_result"
    },
    {
     "data": {
      "image/png": "[encoded data removed]",
      "text/plain": [
       "<Figure size 936x432 with 4 Axes>"
      ]
     },
     "metadata": {
      "needs_background": "light"
     },
     "output_type": "display_data"
    }
   ],
   "source": [
    "# StandardScaler\n",
    "\n",
    "ss = sklearn.preprocessing.StandardScaler()\n",
    "\n",
    "cols_to_scale = ['calculatedfinishedsquarefeet', 'taxvaluedollarcnt']\n",
    "\n",
    "ss.fit(train[cols_to_scale])\n",
    "\n",
    "train_scaled_ss = ss.transform(train[cols_to_scale])\n",
    "\n",
    "train_scaled_ss = pd.DataFrame(train_scaled_ss)\n",
    "train_scaled_ss = train_scaled_ss.rename(columns = {0 :'squarefeet_scaled',1 :'taxvalue_scaled'})\n",
    "\n",
    "plt.figure(figsize=(13, 6))\n",
    "plt.subplot(221)\n",
    "plt.hist(train.calculatedfinishedsquarefeet, bins=10, ec='black')\n",
    "plt.title('Original')\n",
    "plt.subplot(222)\n",
    "plt.hist(train_scaled_ss.squarefeet_scaled, bins=10, ec='black')\n",
    "plt.title('Scaled_ss')\n",
    "\n",
    "plt.subplot(223)\n",
    "plt.hist(train.taxvaluedollarcnt, bins=10, ec='black')\n",
    "plt.title('Original')\n",
    "plt.subplot(224)\n",
    "plt.hist(train_scaled_ss.taxvalue_scaled, bins=10, ec='black')\n",
    "plt.title('Scaled_ss')"
   ]
  },
  {
   "cell_type": "code",
   "execution_count": 14,
   "id": "1b0a8d24",
   "metadata": {},
   "outputs": [
    {
     "data": {
      "text/plain": [
       "Text(0.5, 1.0, 'Scaled_ss')"
      ]
     },
     "execution_count": 14,
     "metadata": {},
     "output_type": "execute_result"
    },
    {
     "data": {
      "image/png": "[encoded data removed]",
      "text/plain": [
       "<Figure size 936x432 with 4 Axes>"
      ]
     },
     "metadata": {
      "needs_background": "light"
     },
     "output_type": "display_data"
    }
   ],
   "source": [
    "# RobustScaler\n",
    "\n",
    "rs = sklearn.preprocessing.RobustScaler()\n",
    "\n",
    "cols_to_scale = ['calculatedfinishedsquarefeet', 'taxvaluedollarcnt']\n",
    "\n",
    "rs.fit(train[cols_to_scale])\n",
    "\n",
    "train_scaled_rs = rs.transform(train[cols_to_scale])\n",
    "\n",
    "train_scaled_rs = pd.DataFrame(train_scaled_rs)\n",
    "train_scaled_rs = train_scaled_rs.rename(columns = {0 :'squarefeet_scaled',1 :'taxvalue_scaled'})\n",
    "\n",
    "plt.figure(figsize=(13, 6))\n",
    "plt.subplot(221)\n",
    "plt.hist(train.calculatedfinishedsquarefeet, bins=10, ec='black')\n",
    "plt.title('Original')\n",
    "plt.subplot(222)\n",
    "plt.hist(train_scaled_rs.squarefeet_scaled, bins=10, ec='black')\n",
    "plt.title('Scaled_ss')\n",
    "\n",
    "plt.subplot(223)\n",
    "plt.hist(train.taxvaluedollarcnt, bins=10, ec='black')\n",
    "plt.title('Original')\n",
    "plt.subplot(224)\n",
    "plt.hist(train_scaled_rs.taxvalue_scaled, bins=10, ec='black')\n",
    "plt.title('Scaled_ss')"
   ]
  },
  {
   "cell_type": "markdown",
   "id": "bf3b5d4b",
   "metadata": {},
   "source": [
    "### 2. Apply the .inverse_transform method to your scaled data. Is the resulting dataset the exact same as the original data?"
   ]
  },
  {
   "cell_type": "code",
   "execution_count": 27,
   "id": "056e60b1",
   "metadata": {},
   "outputs": [
    {
     "data": {
      "text/plain": [
       "Text(0.5, 1.0, 'inverse')"
      ]
     },
     "execution_count": 27,
     "metadata": {},
     "output_type": "execute_result"
    },
    {
     "data": {
      "image/png": "[encoded data removed]",
      "text/plain": [
       "<Figure size 936x432 with 4 Axes>"
      ]
     },
     "metadata": {
      "needs_background": "light"
     },
     "output_type": "display_data"
    }
   ],
   "source": [
    "train_scaled_inverse = scaler.inverse_transform(train_scaled)\n",
    "\n",
    "train_scaled_inverse = pd.DataFrame(train_scaled_inverse)\n",
    "train_scaled_inverse = train_scaled_inverse.rename(columns = {0 :'squarefeet_scaled',1 :'taxvalue_scaled'})\n",
    "\n",
    "plt.figure(figsize=(13, 6))\n",
    "plt.subplot(221)\n",
    "plt.hist(train.calculatedfinishedsquarefeet, bins=10, ec='black')\n",
    "plt.title('Original')\n",
    "plt.subplot(222)\n",
    "plt.hist(train_scaled_inverse.squarefeet_scaled, bins=10, ec='black')\n",
    "plt.title('inverse')\n",
    "\n",
    "plt.subplot(223)\n",
    "plt.hist(train.taxvaluedollarcnt, bins=10, ec='black')\n",
    "plt.title('Original')\n",
    "plt.subplot(224)\n",
    "plt.hist(train_scaled_inverse.taxvalue_scaled, bins=10, ec='black')\n",
    "plt.title('inverse')"
   ]
  },
  {
   "cell_type": "markdown",
   "id": "0e100b30",
   "metadata": {},
   "source": [
    "### 3. Read the documentation for sklearn's QuantileTransformer. Use normal for the output_distribution and apply this scaler to your data. Visualize the result of your data scaling."
   ]
  },
  {
   "cell_type": "code",
   "execution_count": 28,
   "id": "4b493935",
   "metadata": {},
   "outputs": [],
   "source": [
    "from sklearn.preprocessing import QuantileTransformer\n",
    "\n",
    "qt = QuantileTransformer(output_distribution='normal')\n",
    "\n",
    "cols_to_scale = ['calculatedfinishedsquarefeet', 'taxvaluedollarcnt']\n",
    "\n",
    "qt.fit(train[cols_to_scale])\n",
    "\n",
    "train_qt = qt.transform(train[cols_to_scale])\n",
    "validate_qt = qt.transform(validate[cols_to_scale])\n",
    "test_qt = qt.transform(test[cols_to_scale])"
   ]
  },
  {
   "cell_type": "code",
   "execution_count": 29,
   "id": "f8d82131",
   "metadata": {},
   "outputs": [
    {
     "data": {
      "text/html": [
       "<div>\n",
       "<style scoped>\n",
       "    .dataframe tbody tr th:only-of-type {\n",
       "        vertical-align: middle;\n",
       "    }\n",
       "\n",
       "    .dataframe tbody tr th {\n",
       "        vertical-align: top;\n",
       "    }\n",
       "\n",
       "    .dataframe thead th {\n",
       "        text-align: right;\n",
       "    }\n",
       "</style>\n",
       "<table border=\"1\" class=\"dataframe\">\n",
       "  <thead>\n",
       "    <tr style=\"text-align: right;\">\n",
       "      <th></th>\n",
       "      <th>squarefeet_qt_scaled</th>\n",
       "      <th>taxvalue_qt_scaled</th>\n",
       "    </tr>\n",
       "  </thead>\n",
       "  <tbody>\n",
       "    <tr>\n",
       "      <th>0</th>\n",
       "      <td>0.161281</td>\n",
       "      <td>-1.075566</td>\n",
       "    </tr>\n",
       "    <tr>\n",
       "      <th>1</th>\n",
       "      <td>0.353041</td>\n",
       "      <td>0.092410</td>\n",
       "    </tr>\n",
       "    <tr>\n",
       "      <th>2</th>\n",
       "      <td>2.040550</td>\n",
       "      <td>2.135574</td>\n",
       "    </tr>\n",
       "    <tr>\n",
       "      <th>3</th>\n",
       "      <td>0.619072</td>\n",
       "      <td>0.498746</td>\n",
       "    </tr>\n",
       "    <tr>\n",
       "      <th>4</th>\n",
       "      <td>0.461215</td>\n",
       "      <td>0.306102</td>\n",
       "    </tr>\n",
       "    <tr>\n",
       "      <th>...</th>\n",
       "      <td>...</td>\n",
       "      <td>...</td>\n",
       "    </tr>\n",
       "    <tr>\n",
       "      <th>1178197</th>\n",
       "      <td>1.664082</td>\n",
       "      <td>0.719072</td>\n",
       "    </tr>\n",
       "    <tr>\n",
       "      <th>1178198</th>\n",
       "      <td>0.165095</td>\n",
       "      <td>-0.362864</td>\n",
       "    </tr>\n",
       "    <tr>\n",
       "      <th>1178199</th>\n",
       "      <td>-0.576075</td>\n",
       "      <td>-1.194641</td>\n",
       "    </tr>\n",
       "    <tr>\n",
       "      <th>1178200</th>\n",
       "      <td>-0.621099</td>\n",
       "      <td>0.154120</td>\n",
       "    </tr>\n",
       "    <tr>\n",
       "      <th>1178201</th>\n",
       "      <td>-0.526417</td>\n",
       "      <td>-0.632838</td>\n",
       "    </tr>\n",
       "  </tbody>\n",
       "</table>\n",
       "<p>1178202 rows × 2 columns</p>\n",
       "</div>"
      ],
      "text/plain": [
       "         squarefeet_qt_scaled  taxvalue_qt_scaled\n",
       "0                    0.161281           -1.075566\n",
       "1                    0.353041            0.092410\n",
       "2                    2.040550            2.135574\n",
       "3                    0.619072            0.498746\n",
       "4                    0.461215            0.306102\n",
       "...                       ...                 ...\n",
       "1178197              1.664082            0.719072\n",
       "1178198              0.165095           -0.362864\n",
       "1178199             -0.576075           -1.194641\n",
       "1178200             -0.621099            0.154120\n",
       "1178201             -0.526417           -0.632838\n",
       "\n",
       "[1178202 rows x 2 columns]"
      ]
     },
     "execution_count": 29,
     "metadata": {},
     "output_type": "execute_result"
    }
   ],
   "source": [
    "train_qt = pd.DataFrame(train_qt)\n",
    "train_qt = train_qt.rename(columns = {0 :'squarefeet_qt_scaled',1 :'taxvalue_qt_scaled'})\n",
    "train_qt"
   ]
  },
  {
   "cell_type": "code",
   "execution_count": 30,
   "id": "49aecb77",
   "metadata": {},
   "outputs": [
    {
     "data": {
      "text/plain": [
       "Text(0.5, 1.0, 'QT Scaled')"
      ]
     },
     "execution_count": 30,
     "metadata": {},
     "output_type": "execute_result"
    },
    {
     "data": {
      "image/png": "[encoded data removed]",
      "text/plain": [
       "<Figure size 936x432 with 4 Axes>"
      ]
     },
     "metadata": {
      "needs_background": "light"
     },
     "output_type": "display_data"
    }
   ],
   "source": [
    "plt.figure(figsize=(13, 6))\n",
    "plt.subplot(221)\n",
    "plt.hist(train.calculatedfinishedsquarefeet, bins=10, ec='black')\n",
    "plt.title('Original')\n",
    "plt.subplot(222)\n",
    "plt.hist(train_qt.squarefeet_qt_scaled, bins=10, ec='black')\n",
    "plt.title('QT Scaled')\n",
    "\n",
    "plt.subplot(223)\n",
    "plt.hist(train.taxvaluedollarcnt, bins=10, ec='black')\n",
    "plt.title('Original')\n",
    "plt.subplot(224)\n",
    "plt.hist(train_qt.taxvalue_qt_scaled, bins=10, ec='black')\n",
    "plt.title('QT Scaled')"
   ]
  },
  {
   "cell_type": "markdown",
   "id": "d37824d0",
   "metadata": {},
   "source": [
    "### 4. Use the QuantileTransformer, but omit the output_distribution argument. Visualize your results. What do you notice?"
   ]
  },
  {
   "cell_type": "code",
   "execution_count": 31,
   "id": "bf556327",
   "metadata": {},
   "outputs": [
    {
     "data": {
      "text/plain": [
       "Text(0.5, 1.0, 'QT1 Scaled')"
      ]
     },
     "execution_count": 31,
     "metadata": {},
     "output_type": "execute_result"
    },
    {
     "data": {
      "image/png": "[encoded data removed]",
      "text/plain": [
       "<Figure size 936x432 with 4 Axes>"
      ]
     },
     "metadata": {
      "needs_background": "light"
     },
     "output_type": "display_data"
    }
   ],
   "source": [
    "qt1 = QuantileTransformer()\n",
    "\n",
    "cols_to_scale = ['calculatedfinishedsquarefeet', 'taxvaluedollarcnt']\n",
    "\n",
    "qt1.fit(train[cols_to_scale])\n",
    "\n",
    "train_qt1 = qt1.transform(train[cols_to_scale])\n",
    "\n",
    "train_qt1 = pd.DataFrame(train_qt1)\n",
    "train_qt1 = train_qt1.rename(columns = {0 :'squarefeet_qt_scaled',1 :'taxvalue_qt_scaled'})\n",
    "\n",
    "plt.figure(figsize=(13, 6))\n",
    "plt.subplot(221)\n",
    "plt.hist(train.calculatedfinishedsquarefeet, bins=10, ec='black')\n",
    "plt.title('Original')\n",
    "plt.subplot(222)\n",
    "plt.hist(train_qt1.squarefeet_qt_scaled, bins=10, ec='black')\n",
    "plt.title('QT1 Scaled')\n",
    "\n",
    "plt.subplot(223)\n",
    "plt.hist(train.taxvaluedollarcnt, bins=10, ec='black')\n",
    "plt.title('Original')\n",
    "plt.subplot(224)\n",
    "plt.hist(train_qt1.taxvalue_qt_scaled, bins=10, ec='black')\n",
    "plt.title('QT1 Scaled')"
   ]
  },
  {
   "cell_type": "markdown",
   "id": "f287077a",
   "metadata": {},
   "source": [
    "### 5. Based on the work you've done, choose a scaling method for your dataset. Write a function within your prepare.py that accepts as input the train, validate, and test data splits, and returns the scaled versions of each. Be sure to only learn the parameters for scaling from your training data!\n",
    "\n",
    "The scale method I will choose is the 'MinMaxScaler'"
   ]
  },
  {
   "cell_type": "code",
   "execution_count": 32,
   "id": "5bdd4a62",
   "metadata": {},
   "outputs": [
    {
     "data": {
      "text/html": [
       "<div>\n",
       "<style scoped>\n",
       "    .dataframe tbody tr th:only-of-type {\n",
       "        vertical-align: middle;\n",
       "    }\n",
       "\n",
       "    .dataframe tbody tr th {\n",
       "        vertical-align: top;\n",
       "    }\n",
       "\n",
       "    .dataframe thead th {\n",
       "        text-align: right;\n",
       "    }\n",
       "</style>\n",
       "<table border=\"1\" class=\"dataframe\">\n",
       "  <thead>\n",
       "    <tr style=\"text-align: right;\">\n",
       "      <th></th>\n",
       "      <th>bedroomcnt</th>\n",
       "      <th>bathroomcnt</th>\n",
       "      <th>calculatedfinishedsquarefeet</th>\n",
       "      <th>taxvaluedollarcnt</th>\n",
       "      <th>yearbuilt</th>\n",
       "      <th>taxamount</th>\n",
       "      <th>fips</th>\n",
       "    </tr>\n",
       "  </thead>\n",
       "  <tbody>\n",
       "    <tr>\n",
       "      <th>176880</th>\n",
       "      <td>3</td>\n",
       "      <td>2.0</td>\n",
       "      <td>1714</td>\n",
       "      <td>115157</td>\n",
       "      <td>1973</td>\n",
       "      <td>1282.32</td>\n",
       "      <td>6059</td>\n",
       "    </tr>\n",
       "    <tr>\n",
       "      <th>331975</th>\n",
       "      <td>3</td>\n",
       "      <td>3.0</td>\n",
       "      <td>1862</td>\n",
       "      <td>345618</td>\n",
       "      <td>1958</td>\n",
       "      <td>5530.82</td>\n",
       "      <td>6059</td>\n",
       "    </tr>\n",
       "    <tr>\n",
       "      <th>1753349</th>\n",
       "      <td>5</td>\n",
       "      <td>5.0</td>\n",
       "      <td>3959</td>\n",
       "      <td>1451000</td>\n",
       "      <td>1953</td>\n",
       "      <td>15884.95</td>\n",
       "      <td>6037</td>\n",
       "    </tr>\n",
       "    <tr>\n",
       "      <th>120218</th>\n",
       "      <td>3</td>\n",
       "      <td>3.0</td>\n",
       "      <td>2100</td>\n",
       "      <td>459187</td>\n",
       "      <td>1962</td>\n",
       "      <td>5619.06</td>\n",
       "      <td>6037</td>\n",
       "    </tr>\n",
       "    <tr>\n",
       "      <th>1991743</th>\n",
       "      <td>4</td>\n",
       "      <td>2.0</td>\n",
       "      <td>1954</td>\n",
       "      <td>403193</td>\n",
       "      <td>1980</td>\n",
       "      <td>5047.67</td>\n",
       "      <td>6037</td>\n",
       "    </tr>\n",
       "  </tbody>\n",
       "</table>\n",
       "</div>"
      ],
      "text/plain": [
       "         bedroomcnt  bathroomcnt  calculatedfinishedsquarefeet  \\\n",
       "176880            3          2.0                          1714   \n",
       "331975            3          3.0                          1862   \n",
       "1753349           5          5.0                          3959   \n",
       "120218            3          3.0                          2100   \n",
       "1991743           4          2.0                          1954   \n",
       "\n",
       "         taxvaluedollarcnt  yearbuilt  taxamount  fips  \n",
       "176880              115157       1973    1282.32  6059  \n",
       "331975              345618       1958    5530.82  6059  \n",
       "1753349            1451000       1953   15884.95  6037  \n",
       "120218              459187       1962    5619.06  6037  \n",
       "1991743             403193       1980    5047.67  6037  "
      ]
     },
     "execution_count": 32,
     "metadata": {},
     "output_type": "execute_result"
    }
   ],
   "source": [
    "train.head()"
   ]
  },
  {
   "cell_type": "code",
   "execution_count": 33,
   "id": "88f6dcee",
   "metadata": {},
   "outputs": [],
   "source": [
    "train_scaled = train_scaled.set_index([train.index.values])"
   ]
  },
  {
   "cell_type": "code",
   "execution_count": 34,
   "id": "c4ef4ba8",
   "metadata": {},
   "outputs": [],
   "source": [
    "train['squarefeet_scaled'] = train_scaled['squarefeet_scaled']\n",
    "train['taxvalue_scaled'] = train_scaled['taxvalue_scaled']"
   ]
  },
  {
   "cell_type": "code",
   "execution_count": 35,
   "id": "a3c045cc",
   "metadata": {},
   "outputs": [
    {
     "data": {
      "text/html": [
       "<div>\n",
       "<style scoped>\n",
       "    .dataframe tbody tr th:only-of-type {\n",
       "        vertical-align: middle;\n",
       "    }\n",
       "\n",
       "    .dataframe tbody tr th {\n",
       "        vertical-align: top;\n",
       "    }\n",
       "\n",
       "    .dataframe thead th {\n",
       "        text-align: right;\n",
       "    }\n",
       "</style>\n",
       "<table border=\"1\" class=\"dataframe\">\n",
       "  <thead>\n",
       "    <tr style=\"text-align: right;\">\n",
       "      <th></th>\n",
       "      <th>bedroomcnt</th>\n",
       "      <th>bathroomcnt</th>\n",
       "      <th>calculatedfinishedsquarefeet</th>\n",
       "      <th>taxvaluedollarcnt</th>\n",
       "      <th>yearbuilt</th>\n",
       "      <th>taxamount</th>\n",
       "      <th>fips</th>\n",
       "      <th>squarefeet_scaled</th>\n",
       "      <th>taxvalue_scaled</th>\n",
       "    </tr>\n",
       "  </thead>\n",
       "  <tbody>\n",
       "    <tr>\n",
       "      <th>176880</th>\n",
       "      <td>3</td>\n",
       "      <td>2.0</td>\n",
       "      <td>1714</td>\n",
       "      <td>115157</td>\n",
       "      <td>1973</td>\n",
       "      <td>1282.32</td>\n",
       "      <td>6059</td>\n",
       "      <td>0.001798</td>\n",
       "      <td>0.057568</td>\n",
       "    </tr>\n",
       "    <tr>\n",
       "      <th>331975</th>\n",
       "      <td>3</td>\n",
       "      <td>3.0</td>\n",
       "      <td>1862</td>\n",
       "      <td>345618</td>\n",
       "      <td>1958</td>\n",
       "      <td>5530.82</td>\n",
       "      <td>6059</td>\n",
       "      <td>0.001954</td>\n",
       "      <td>0.172800</td>\n",
       "    </tr>\n",
       "    <tr>\n",
       "      <th>1753349</th>\n",
       "      <td>5</td>\n",
       "      <td>5.0</td>\n",
       "      <td>3959</td>\n",
       "      <td>1451000</td>\n",
       "      <td>1953</td>\n",
       "      <td>15884.95</td>\n",
       "      <td>6037</td>\n",
       "      <td>0.004155</td>\n",
       "      <td>0.725499</td>\n",
       "    </tr>\n",
       "    <tr>\n",
       "      <th>120218</th>\n",
       "      <td>3</td>\n",
       "      <td>3.0</td>\n",
       "      <td>2100</td>\n",
       "      <td>459187</td>\n",
       "      <td>1962</td>\n",
       "      <td>5619.06</td>\n",
       "      <td>6037</td>\n",
       "      <td>0.002204</td>\n",
       "      <td>0.229586</td>\n",
       "    </tr>\n",
       "    <tr>\n",
       "      <th>1991743</th>\n",
       "      <td>4</td>\n",
       "      <td>2.0</td>\n",
       "      <td>1954</td>\n",
       "      <td>403193</td>\n",
       "      <td>1980</td>\n",
       "      <td>5047.67</td>\n",
       "      <td>6037</td>\n",
       "      <td>0.002050</td>\n",
       "      <td>0.201588</td>\n",
       "    </tr>\n",
       "  </tbody>\n",
       "</table>\n",
       "</div>"
      ],
      "text/plain": [
       "         bedroomcnt  bathroomcnt  calculatedfinishedsquarefeet  \\\n",
       "176880            3          2.0                          1714   \n",
       "331975            3          3.0                          1862   \n",
       "1753349           5          5.0                          3959   \n",
       "120218            3          3.0                          2100   \n",
       "1991743           4          2.0                          1954   \n",
       "\n",
       "         taxvaluedollarcnt  yearbuilt  taxamount  fips  squarefeet_scaled  \\\n",
       "176880              115157       1973    1282.32  6059           0.001798   \n",
       "331975              345618       1958    5530.82  6059           0.001954   \n",
       "1753349            1451000       1953   15884.95  6037           0.004155   \n",
       "120218              459187       1962    5619.06  6037           0.002204   \n",
       "1991743             403193       1980    5047.67  6037           0.002050   \n",
       "\n",
       "         taxvalue_scaled  \n",
       "176880          0.057568  \n",
       "331975          0.172800  \n",
       "1753349         0.725499  \n",
       "120218          0.229586  \n",
       "1991743         0.201588  "
      ]
     },
     "execution_count": 35,
     "metadata": {},
     "output_type": "execute_result"
    }
   ],
   "source": [
    "train.head()"
   ]
  },
  {
   "cell_type": "code",
   "execution_count": 39,
   "id": "5ff76612",
   "metadata": {},
   "outputs": [
    {
     "data": {
      "text/html": [
       "<div>\n",
       "<style scoped>\n",
       "    .dataframe tbody tr th:only-of-type {\n",
       "        vertical-align: middle;\n",
       "    }\n",
       "\n",
       "    .dataframe tbody tr th {\n",
       "        vertical-align: top;\n",
       "    }\n",
       "\n",
       "    .dataframe thead th {\n",
       "        text-align: right;\n",
       "    }\n",
       "</style>\n",
       "<table border=\"1\" class=\"dataframe\">\n",
       "  <thead>\n",
       "    <tr style=\"text-align: right;\">\n",
       "      <th></th>\n",
       "      <th>bedroomcnt</th>\n",
       "      <th>bathroomcnt</th>\n",
       "      <th>calculatedfinishedsquarefeet</th>\n",
       "      <th>taxvaluedollarcnt</th>\n",
       "      <th>yearbuilt</th>\n",
       "      <th>taxamount</th>\n",
       "      <th>fips</th>\n",
       "    </tr>\n",
       "  </thead>\n",
       "  <tbody>\n",
       "    <tr>\n",
       "      <th>0</th>\n",
       "      <td>4</td>\n",
       "      <td>2.0</td>\n",
       "      <td>3633</td>\n",
       "      <td>296425</td>\n",
       "      <td>2005</td>\n",
       "      <td>6941.39</td>\n",
       "      <td>6037</td>\n",
       "    </tr>\n",
       "    <tr>\n",
       "      <th>1</th>\n",
       "      <td>3</td>\n",
       "      <td>4.0</td>\n",
       "      <td>1620</td>\n",
       "      <td>847770</td>\n",
       "      <td>2011</td>\n",
       "      <td>10244.94</td>\n",
       "      <td>6037</td>\n",
       "    </tr>\n",
       "    <tr>\n",
       "      <th>2</th>\n",
       "      <td>3</td>\n",
       "      <td>2.0</td>\n",
       "      <td>2077</td>\n",
       "      <td>646760</td>\n",
       "      <td>1926</td>\n",
       "      <td>7924.68</td>\n",
       "      <td>6037</td>\n",
       "    </tr>\n",
       "    <tr>\n",
       "      <th>3</th>\n",
       "      <td>0</td>\n",
       "      <td>0.0</td>\n",
       "      <td>1200</td>\n",
       "      <td>5328</td>\n",
       "      <td>1972</td>\n",
       "      <td>91.60</td>\n",
       "      <td>6037</td>\n",
       "    </tr>\n",
       "    <tr>\n",
       "      <th>4</th>\n",
       "      <td>0</td>\n",
       "      <td>0.0</td>\n",
       "      <td>171</td>\n",
       "      <td>6920</td>\n",
       "      <td>1973</td>\n",
       "      <td>255.17</td>\n",
       "      <td>6037</td>\n",
       "    </tr>\n",
       "  </tbody>\n",
       "</table>\n",
       "</div>"
      ],
      "text/plain": [
       "   bedroomcnt  bathroomcnt  calculatedfinishedsquarefeet  taxvaluedollarcnt  \\\n",
       "0           4          2.0                          3633             296425   \n",
       "1           3          4.0                          1620             847770   \n",
       "2           3          2.0                          2077             646760   \n",
       "3           0          0.0                          1200               5328   \n",
       "4           0          0.0                           171               6920   \n",
       "\n",
       "   yearbuilt  taxamount  fips  \n",
       "0       2005    6941.39  6037  \n",
       "1       2011   10244.94  6037  \n",
       "2       1926    7924.68  6037  \n",
       "3       1972      91.60  6037  \n",
       "4       1973     255.17  6037  "
      ]
     },
     "execution_count": 39,
     "metadata": {},
     "output_type": "execute_result"
    }
   ],
   "source": [
    "df_zillow.head()"
   ]
  },
  {
   "cell_type": "code",
   "execution_count": 37,
   "id": "254593de",
   "metadata": {},
   "outputs": [
    {
     "data": {
      "text/html": [
       "<div>\n",
       "<style scoped>\n",
       "    .dataframe tbody tr th:only-of-type {\n",
       "        vertical-align: middle;\n",
       "    }\n",
       "\n",
       "    .dataframe tbody tr th {\n",
       "        vertical-align: top;\n",
       "    }\n",
       "\n",
       "    .dataframe thead th {\n",
       "        text-align: right;\n",
       "    }\n",
       "</style>\n",
       "<table border=\"1\" class=\"dataframe\">\n",
       "  <thead>\n",
       "    <tr style=\"text-align: right;\">\n",
       "      <th></th>\n",
       "      <th>bedroomcnt</th>\n",
       "      <th>bathroomcnt</th>\n",
       "      <th>calculatedfinishedsquarefeet</th>\n",
       "      <th>taxvaluedollarcnt</th>\n",
       "      <th>yearbuilt</th>\n",
       "      <th>taxamount</th>\n",
       "      <th>fips</th>\n",
       "    </tr>\n",
       "  </thead>\n",
       "  <tbody>\n",
       "    <tr>\n",
       "      <th>176880</th>\n",
       "      <td>3</td>\n",
       "      <td>2.0</td>\n",
       "      <td>1714</td>\n",
       "      <td>115157</td>\n",
       "      <td>1973</td>\n",
       "      <td>1282.32</td>\n",
       "      <td>6059</td>\n",
       "    </tr>\n",
       "    <tr>\n",
       "      <th>331975</th>\n",
       "      <td>3</td>\n",
       "      <td>3.0</td>\n",
       "      <td>1862</td>\n",
       "      <td>345618</td>\n",
       "      <td>1958</td>\n",
       "      <td>5530.82</td>\n",
       "      <td>6059</td>\n",
       "    </tr>\n",
       "    <tr>\n",
       "      <th>1753349</th>\n",
       "      <td>5</td>\n",
       "      <td>5.0</td>\n",
       "      <td>3959</td>\n",
       "      <td>1451000</td>\n",
       "      <td>1953</td>\n",
       "      <td>15884.95</td>\n",
       "      <td>6037</td>\n",
       "    </tr>\n",
       "    <tr>\n",
       "      <th>120218</th>\n",
       "      <td>3</td>\n",
       "      <td>3.0</td>\n",
       "      <td>2100</td>\n",
       "      <td>459187</td>\n",
       "      <td>1962</td>\n",
       "      <td>5619.06</td>\n",
       "      <td>6037</td>\n",
       "    </tr>\n",
       "    <tr>\n",
       "      <th>1991743</th>\n",
       "      <td>4</td>\n",
       "      <td>2.0</td>\n",
       "      <td>1954</td>\n",
       "      <td>403193</td>\n",
       "      <td>1980</td>\n",
       "      <td>5047.67</td>\n",
       "      <td>6037</td>\n",
       "    </tr>\n",
       "  </tbody>\n",
       "</table>\n",
       "</div>"
      ],
      "text/plain": [
       "         bedroomcnt  bathroomcnt  calculatedfinishedsquarefeet  \\\n",
       "176880            3          2.0                          1714   \n",
       "331975            3          3.0                          1862   \n",
       "1753349           5          5.0                          3959   \n",
       "120218            3          3.0                          2100   \n",
       "1991743           4          2.0                          1954   \n",
       "\n",
       "         taxvaluedollarcnt  yearbuilt  taxamount  fips  \n",
       "176880              115157       1973    1282.32  6059  \n",
       "331975              345618       1958    5530.82  6059  \n",
       "1753349            1451000       1953   15884.95  6037  \n",
       "120218              459187       1962    5619.06  6037  \n",
       "1991743             403193       1980    5047.67  6037  "
      ]
     },
     "execution_count": 37,
     "metadata": {},
     "output_type": "execute_result"
    }
   ],
   "source": [
    "from sklearn.model_selection import train_test_split\n",
    "\n",
    "train_and_validate, test = train_test_split(df_zillow, random_state=123)\n",
    "train, validate = train_test_split(train_and_validate, random_state=123)\n",
    "train.head()"
   ]
  },
  {
   "cell_type": "code",
   "execution_count": 5,
   "id": "8db42a69",
   "metadata": {},
   "outputs": [],
   "source": [
    "from sklearn.model_selection import train_test_split\n",
    "\n",
    "def split_zillow(df):\n",
    "    \n",
    "    train_and_validate, test = train_test_split(df, random_state=123)\n",
    "    train, validate = train_test_split(train_and_validate, random_state=123)\n",
    "    \n",
    "    return train, validate, test"
   ]
  },
  {
   "cell_type": "code",
   "execution_count": 42,
   "id": "20565fe5",
   "metadata": {},
   "outputs": [
    {
     "data": {
      "text/html": [
       "<div>\n",
       "<style scoped>\n",
       "    .dataframe tbody tr th:only-of-type {\n",
       "        vertical-align: middle;\n",
       "    }\n",
       "\n",
       "    .dataframe tbody tr th {\n",
       "        vertical-align: top;\n",
       "    }\n",
       "\n",
       "    .dataframe thead th {\n",
       "        text-align: right;\n",
       "    }\n",
       "</style>\n",
       "<table border=\"1\" class=\"dataframe\">\n",
       "  <thead>\n",
       "    <tr style=\"text-align: right;\">\n",
       "      <th></th>\n",
       "      <th>bedroomcnt</th>\n",
       "      <th>bathroomcnt</th>\n",
       "      <th>calculatedfinishedsquarefeet</th>\n",
       "      <th>taxvaluedollarcnt</th>\n",
       "      <th>yearbuilt</th>\n",
       "      <th>taxamount</th>\n",
       "      <th>fips</th>\n",
       "    </tr>\n",
       "  </thead>\n",
       "  <tbody>\n",
       "    <tr>\n",
       "      <th>176880</th>\n",
       "      <td>3</td>\n",
       "      <td>2.0</td>\n",
       "      <td>1714</td>\n",
       "      <td>115157</td>\n",
       "      <td>1973</td>\n",
       "      <td>1282.32</td>\n",
       "      <td>6059</td>\n",
       "    </tr>\n",
       "    <tr>\n",
       "      <th>331975</th>\n",
       "      <td>3</td>\n",
       "      <td>3.0</td>\n",
       "      <td>1862</td>\n",
       "      <td>345618</td>\n",
       "      <td>1958</td>\n",
       "      <td>5530.82</td>\n",
       "      <td>6059</td>\n",
       "    </tr>\n",
       "    <tr>\n",
       "      <th>1753349</th>\n",
       "      <td>5</td>\n",
       "      <td>5.0</td>\n",
       "      <td>3959</td>\n",
       "      <td>1451000</td>\n",
       "      <td>1953</td>\n",
       "      <td>15884.95</td>\n",
       "      <td>6037</td>\n",
       "    </tr>\n",
       "    <tr>\n",
       "      <th>120218</th>\n",
       "      <td>3</td>\n",
       "      <td>3.0</td>\n",
       "      <td>2100</td>\n",
       "      <td>459187</td>\n",
       "      <td>1962</td>\n",
       "      <td>5619.06</td>\n",
       "      <td>6037</td>\n",
       "    </tr>\n",
       "    <tr>\n",
       "      <th>1991743</th>\n",
       "      <td>4</td>\n",
       "      <td>2.0</td>\n",
       "      <td>1954</td>\n",
       "      <td>403193</td>\n",
       "      <td>1980</td>\n",
       "      <td>5047.67</td>\n",
       "      <td>6037</td>\n",
       "    </tr>\n",
       "  </tbody>\n",
       "</table>\n",
       "</div>"
      ],
      "text/plain": [
       "         bedroomcnt  bathroomcnt  calculatedfinishedsquarefeet  \\\n",
       "176880            3          2.0                          1714   \n",
       "331975            3          3.0                          1862   \n",
       "1753349           5          5.0                          3959   \n",
       "120218            3          3.0                          2100   \n",
       "1991743           4          2.0                          1954   \n",
       "\n",
       "         taxvaluedollarcnt  yearbuilt  taxamount  fips  \n",
       "176880              115157       1973    1282.32  6059  \n",
       "331975              345618       1958    5530.82  6059  \n",
       "1753349            1451000       1953   15884.95  6037  \n",
       "120218              459187       1962    5619.06  6037  \n",
       "1991743             403193       1980    5047.67  6037  "
      ]
     },
     "execution_count": 42,
     "metadata": {},
     "output_type": "execute_result"
    }
   ],
   "source": [
    "# test split function\n",
    "train, validate, test = split_zillow(df_zillow)\n",
    "train.head()"
   ]
  },
  {
   "cell_type": "code",
   "execution_count": 7,
   "id": "1438924c",
   "metadata": {},
   "outputs": [],
   "source": [
    "# function for getting scaled data sets\n",
    "\n",
    "from sklearn.preprocessing import MinMaxScaler\n",
    "import sklearn.preprocessing\n",
    "import numpy as np\n",
    "import pandas as pd\n",
    "\n",
    "def scale_zillow(df):\n",
    "    train, validate, test = split_zillow(df)\n",
    "    \n",
    "    scaler = sklearn.preprocessing.MinMaxScaler()\n",
    "    cols_to_scale = ['calculatedfinishedsquarefeet', 'taxvaluedollarcnt']\n",
    "    scaler.fit(train[cols_to_scale])\n",
    "\n",
    "    train_scaled = scaler.transform(train[cols_to_scale])\n",
    "    validate_scaled = scaler.transform(validate[cols_to_scale])\n",
    "    test_scaled = scaler.transform(test[cols_to_scale])\n",
    "    \n",
    "    train_scaled = pd.DataFrame(train_scaled)\n",
    "    train_scaled = train_scaled.rename(columns = {0 :'squarefeet_scaled',1 :'taxvalue_scaled'})\n",
    "    train_scaled = train_scaled.set_index([train.index.values])\n",
    "    train['squarefeet_scaled'] = train_scaled['squarefeet_scaled']\n",
    "    train['taxvalue_scaled'] = train_scaled['taxvalue_scaled']\n",
    "    \n",
    "    validate_scaled = pd.DataFrame(validate_scaled)\n",
    "    validate_scaled = validate_scaled.rename(columns = {0 :'squarefeet_scaled',1 :'taxvalue_scaled'})\n",
    "    validate_scaled = validate_scaled.set_index([validate.index.values])\n",
    "    validate['squarefeet_scaled'] = validate_scaled['squarefeet_scaled']\n",
    "    validate['taxvalue_scaled'] = validate_scaled['taxvalue_scaled']\n",
    "    \n",
    "    test_scaled = pd.DataFrame(test_scaled)\n",
    "    test_scaled = test_scaled.rename(columns = {0 :'squarefeet_scaled',1 :'taxvalue_scaled'})\n",
    "    test_scaled = test_scaled.set_index([test.index.values])\n",
    "    test['squarefeet_scaled'] = test_scaled['squarefeet_scaled']\n",
    "    test['taxvalue_scaled'] = test_scaled['taxvalue_scaled']\n",
    "    \n",
    "    return train, validate, test"
   ]
  },
  {
   "cell_type": "code",
   "execution_count": 45,
   "id": "f118b27a",
   "metadata": {},
   "outputs": [
    {
     "data": {
      "text/html": [
       "<div>\n",
       "<style scoped>\n",
       "    .dataframe tbody tr th:only-of-type {\n",
       "        vertical-align: middle;\n",
       "    }\n",
       "\n",
       "    .dataframe tbody tr th {\n",
       "        vertical-align: top;\n",
       "    }\n",
       "\n",
       "    .dataframe thead th {\n",
       "        text-align: right;\n",
       "    }\n",
       "</style>\n",
       "<table border=\"1\" class=\"dataframe\">\n",
       "  <thead>\n",
       "    <tr style=\"text-align: right;\">\n",
       "      <th></th>\n",
       "      <th>bedroomcnt</th>\n",
       "      <th>bathroomcnt</th>\n",
       "      <th>calculatedfinishedsquarefeet</th>\n",
       "      <th>taxvaluedollarcnt</th>\n",
       "      <th>yearbuilt</th>\n",
       "      <th>taxamount</th>\n",
       "      <th>fips</th>\n",
       "      <th>squarefeet_scaled</th>\n",
       "      <th>taxvalue_scaled</th>\n",
       "    </tr>\n",
       "  </thead>\n",
       "  <tbody>\n",
       "    <tr>\n",
       "      <th>176880</th>\n",
       "      <td>3</td>\n",
       "      <td>2.0</td>\n",
       "      <td>1714</td>\n",
       "      <td>115157</td>\n",
       "      <td>1973</td>\n",
       "      <td>1282.32</td>\n",
       "      <td>6059</td>\n",
       "      <td>0.001798</td>\n",
       "      <td>0.057568</td>\n",
       "    </tr>\n",
       "    <tr>\n",
       "      <th>331975</th>\n",
       "      <td>3</td>\n",
       "      <td>3.0</td>\n",
       "      <td>1862</td>\n",
       "      <td>345618</td>\n",
       "      <td>1958</td>\n",
       "      <td>5530.82</td>\n",
       "      <td>6059</td>\n",
       "      <td>0.001954</td>\n",
       "      <td>0.172800</td>\n",
       "    </tr>\n",
       "    <tr>\n",
       "      <th>1753349</th>\n",
       "      <td>5</td>\n",
       "      <td>5.0</td>\n",
       "      <td>3959</td>\n",
       "      <td>1451000</td>\n",
       "      <td>1953</td>\n",
       "      <td>15884.95</td>\n",
       "      <td>6037</td>\n",
       "      <td>0.004155</td>\n",
       "      <td>0.725499</td>\n",
       "    </tr>\n",
       "    <tr>\n",
       "      <th>120218</th>\n",
       "      <td>3</td>\n",
       "      <td>3.0</td>\n",
       "      <td>2100</td>\n",
       "      <td>459187</td>\n",
       "      <td>1962</td>\n",
       "      <td>5619.06</td>\n",
       "      <td>6037</td>\n",
       "      <td>0.002204</td>\n",
       "      <td>0.229586</td>\n",
       "    </tr>\n",
       "    <tr>\n",
       "      <th>1991743</th>\n",
       "      <td>4</td>\n",
       "      <td>2.0</td>\n",
       "      <td>1954</td>\n",
       "      <td>403193</td>\n",
       "      <td>1980</td>\n",
       "      <td>5047.67</td>\n",
       "      <td>6037</td>\n",
       "      <td>0.002050</td>\n",
       "      <td>0.201588</td>\n",
       "    </tr>\n",
       "  </tbody>\n",
       "</table>\n",
       "</div>"
      ],
      "text/plain": [
       "         bedroomcnt  bathroomcnt  calculatedfinishedsquarefeet  \\\n",
       "176880            3          2.0                          1714   \n",
       "331975            3          3.0                          1862   \n",
       "1753349           5          5.0                          3959   \n",
       "120218            3          3.0                          2100   \n",
       "1991743           4          2.0                          1954   \n",
       "\n",
       "         taxvaluedollarcnt  yearbuilt  taxamount  fips  squarefeet_scaled  \\\n",
       "176880              115157       1973    1282.32  6059           0.001798   \n",
       "331975              345618       1958    5530.82  6059           0.001954   \n",
       "1753349            1451000       1953   15884.95  6037           0.004155   \n",
       "120218              459187       1962    5619.06  6037           0.002204   \n",
       "1991743             403193       1980    5047.67  6037           0.002050   \n",
       "\n",
       "         taxvalue_scaled  \n",
       "176880          0.057568  \n",
       "331975          0.172800  \n",
       "1753349         0.725499  \n",
       "120218          0.229586  \n",
       "1991743         0.201588  "
      ]
     },
     "execution_count": 45,
     "metadata": {},
     "output_type": "execute_result"
    }
   ],
   "source": [
    "# test sclaed function\n",
    "\n",
    "train, validate, test = scale_zillow(df_zillow)\n",
    "train.head()"
   ]
  },
  {
   "cell_type": "code",
   "execution_count": 1,
   "id": "1a377907",
   "metadata": {
    "scrolled": true
   },
   "outputs": [
    {
     "data": {
      "text/html": [
       "<div>\n",
       "<style scoped>\n",
       "    .dataframe tbody tr th:only-of-type {\n",
       "        vertical-align: middle;\n",
       "    }\n",
       "\n",
       "    .dataframe tbody tr th {\n",
       "        vertical-align: top;\n",
       "    }\n",
       "\n",
       "    .dataframe thead th {\n",
       "        text-align: right;\n",
       "    }\n",
       "</style>\n",
       "<table border=\"1\" class=\"dataframe\">\n",
       "  <thead>\n",
       "    <tr style=\"text-align: right;\">\n",
       "      <th></th>\n",
       "      <th>bedroomcnt</th>\n",
       "      <th>bathroomcnt</th>\n",
       "      <th>calculatedfinishedsquarefeet</th>\n",
       "      <th>taxvaluedollarcnt</th>\n",
       "      <th>yearbuilt</th>\n",
       "      <th>taxamount</th>\n",
       "      <th>fips</th>\n",
       "    </tr>\n",
       "  </thead>\n",
       "  <tbody>\n",
       "    <tr>\n",
       "      <th>0</th>\n",
       "      <td>4</td>\n",
       "      <td>2.0</td>\n",
       "      <td>3633</td>\n",
       "      <td>296425</td>\n",
       "      <td>2005</td>\n",
       "      <td>6941.39</td>\n",
       "      <td>6037</td>\n",
       "    </tr>\n",
       "    <tr>\n",
       "      <th>1</th>\n",
       "      <td>3</td>\n",
       "      <td>4.0</td>\n",
       "      <td>1620</td>\n",
       "      <td>847770</td>\n",
       "      <td>2011</td>\n",
       "      <td>10244.94</td>\n",
       "      <td>6037</td>\n",
       "    </tr>\n",
       "    <tr>\n",
       "      <th>2</th>\n",
       "      <td>3</td>\n",
       "      <td>2.0</td>\n",
       "      <td>2077</td>\n",
       "      <td>646760</td>\n",
       "      <td>1926</td>\n",
       "      <td>7924.68</td>\n",
       "      <td>6037</td>\n",
       "    </tr>\n",
       "    <tr>\n",
       "      <th>3</th>\n",
       "      <td>0</td>\n",
       "      <td>0.0</td>\n",
       "      <td>1200</td>\n",
       "      <td>5328</td>\n",
       "      <td>1972</td>\n",
       "      <td>91.60</td>\n",
       "      <td>6037</td>\n",
       "    </tr>\n",
       "    <tr>\n",
       "      <th>4</th>\n",
       "      <td>0</td>\n",
       "      <td>0.0</td>\n",
       "      <td>171</td>\n",
       "      <td>6920</td>\n",
       "      <td>1973</td>\n",
       "      <td>255.17</td>\n",
       "      <td>6037</td>\n",
       "    </tr>\n",
       "  </tbody>\n",
       "</table>\n",
       "</div>"
      ],
      "text/plain": [
       "   bedroomcnt  bathroomcnt  calculatedfinishedsquarefeet  taxvaluedollarcnt  \\\n",
       "0           4          2.0                          3633             296425   \n",
       "1           3          4.0                          1620             847770   \n",
       "2           3          2.0                          2077             646760   \n",
       "3           0          0.0                          1200               5328   \n",
       "4           0          0.0                           171               6920   \n",
       "\n",
       "   yearbuilt  taxamount  fips  \n",
       "0       2005    6941.39  6037  \n",
       "1       2011   10244.94  6037  \n",
       "2       1926    7924.68  6037  \n",
       "3       1972      91.60  6037  \n",
       "4       1973     255.17  6037  "
      ]
     },
     "execution_count": 1,
     "metadata": {},
     "output_type": "execute_result"
    }
   ],
   "source": [
    "# test the function\n",
    "from wrangle import wrangle_zillow, scale_zillow\n",
    "df_zillow = wrangle_zillow()\n",
    "df_zillow.head()"
   ]
  },
  {
   "cell_type": "code",
   "execution_count": 2,
   "id": "203ec2c1",
   "metadata": {},
   "outputs": [
    {
     "data": {
      "text/html": [
       "<div>\n",
       "<style scoped>\n",
       "    .dataframe tbody tr th:only-of-type {\n",
       "        vertical-align: middle;\n",
       "    }\n",
       "\n",
       "    .dataframe tbody tr th {\n",
       "        vertical-align: top;\n",
       "    }\n",
       "\n",
       "    .dataframe thead th {\n",
       "        text-align: right;\n",
       "    }\n",
       "</style>\n",
       "<table border=\"1\" class=\"dataframe\">\n",
       "  <thead>\n",
       "    <tr style=\"text-align: right;\">\n",
       "      <th></th>\n",
       "      <th>bedroomcnt</th>\n",
       "      <th>bathroomcnt</th>\n",
       "      <th>calculatedfinishedsquarefeet</th>\n",
       "      <th>taxvaluedollarcnt</th>\n",
       "      <th>yearbuilt</th>\n",
       "      <th>taxamount</th>\n",
       "      <th>fips</th>\n",
       "      <th>squarefeet_scaled</th>\n",
       "      <th>taxvalue_scaled</th>\n",
       "    </tr>\n",
       "  </thead>\n",
       "  <tbody>\n",
       "    <tr>\n",
       "      <th>176880</th>\n",
       "      <td>3</td>\n",
       "      <td>2.0</td>\n",
       "      <td>1714</td>\n",
       "      <td>115157</td>\n",
       "      <td>1973</td>\n",
       "      <td>1282.32</td>\n",
       "      <td>6059</td>\n",
       "      <td>0.001798</td>\n",
       "      <td>0.057568</td>\n",
       "    </tr>\n",
       "    <tr>\n",
       "      <th>331975</th>\n",
       "      <td>3</td>\n",
       "      <td>3.0</td>\n",
       "      <td>1862</td>\n",
       "      <td>345618</td>\n",
       "      <td>1958</td>\n",
       "      <td>5530.82</td>\n",
       "      <td>6059</td>\n",
       "      <td>0.001954</td>\n",
       "      <td>0.172800</td>\n",
       "    </tr>\n",
       "    <tr>\n",
       "      <th>1753349</th>\n",
       "      <td>5</td>\n",
       "      <td>5.0</td>\n",
       "      <td>3959</td>\n",
       "      <td>1451000</td>\n",
       "      <td>1953</td>\n",
       "      <td>15884.95</td>\n",
       "      <td>6037</td>\n",
       "      <td>0.004155</td>\n",
       "      <td>0.725499</td>\n",
       "    </tr>\n",
       "    <tr>\n",
       "      <th>120218</th>\n",
       "      <td>3</td>\n",
       "      <td>3.0</td>\n",
       "      <td>2100</td>\n",
       "      <td>459187</td>\n",
       "      <td>1962</td>\n",
       "      <td>5619.06</td>\n",
       "      <td>6037</td>\n",
       "      <td>0.002204</td>\n",
       "      <td>0.229586</td>\n",
       "    </tr>\n",
       "    <tr>\n",
       "      <th>1991743</th>\n",
       "      <td>4</td>\n",
       "      <td>2.0</td>\n",
       "      <td>1954</td>\n",
       "      <td>403193</td>\n",
       "      <td>1980</td>\n",
       "      <td>5047.67</td>\n",
       "      <td>6037</td>\n",
       "      <td>0.002050</td>\n",
       "      <td>0.201588</td>\n",
       "    </tr>\n",
       "  </tbody>\n",
       "</table>\n",
       "</div>"
      ],
      "text/plain": [
       "         bedroomcnt  bathroomcnt  calculatedfinishedsquarefeet  \\\n",
       "176880            3          2.0                          1714   \n",
       "331975            3          3.0                          1862   \n",
       "1753349           5          5.0                          3959   \n",
       "120218            3          3.0                          2100   \n",
       "1991743           4          2.0                          1954   \n",
       "\n",
       "         taxvaluedollarcnt  yearbuilt  taxamount  fips  squarefeet_scaled  \\\n",
       "176880              115157       1973    1282.32  6059           0.001798   \n",
       "331975              345618       1958    5530.82  6059           0.001954   \n",
       "1753349            1451000       1953   15884.95  6037           0.004155   \n",
       "120218              459187       1962    5619.06  6037           0.002204   \n",
       "1991743             403193       1980    5047.67  6037           0.002050   \n",
       "\n",
       "         taxvalue_scaled  \n",
       "176880          0.057568  \n",
       "331975          0.172800  \n",
       "1753349         0.725499  \n",
       "120218          0.229586  \n",
       "1991743         0.201588  "
      ]
     },
     "execution_count": 2,
     "metadata": {},
     "output_type": "execute_result"
    }
   ],
   "source": [
    "train, validate, test = scale_zillow(df_zillow)\n",
    "train.head()"
   ]
  },
  {
   "cell_type": "code",
   "execution_count": 15,
   "id": "d1ed61e9",
   "metadata": {},
   "outputs": [
    {
     "data": {
      "text/plain": [
       "3    955909\n",
       "4    621076\n",
       "2    332538\n",
       "5    138255\n",
       "1     22724\n",
       "6     19800\n",
       "0      4281\n",
       "Name: bedroomcnt, dtype: int64"
      ]
     },
     "execution_count": 15,
     "metadata": {},
     "output_type": "execute_result"
    }
   ],
   "source": [
    "df_zillow.bedroomcnt.value_counts()"
   ]
  },
  {
   "cell_type": "code",
   "execution_count": null,
   "id": "c4143cbe",
   "metadata": {},
   "outputs": [],
   "source": []
  },
  {
   "cell_type": "code",
   "execution_count": null,
   "id": "85496540",
   "metadata": {},
   "outputs": [],
   "source": []
  },
  {
   "cell_type": "code",
   "execution_count": null,
   "id": "cdfdfffc",
   "metadata": {},
   "outputs": [],
   "source": []
  },
  {
   "cell_type": "code",
   "execution_count": null,
   "id": "c5e79fcb",
   "metadata": {},
   "outputs": [],
   "source": []
  }
 ],
 "metadata": {
  "kernelspec": {
   "display_name": "Python 3 (ipykernel)",
   "language": "python",
   "name": "python3"
  },
  "language_info": {
   "codemirror_mode": {
    "name": "ipython",
    "version": 3
   },
   "file_extension": ".py",
   "mimetype": "text/x-python",
   "name": "python",
   "nbconvert_exporter": "python",
   "pygments_lexer": "ipython3",
   "version": "3.9.12"
  }
 },
 "nbformat": 4,
 "nbformat_minor": 5
}
