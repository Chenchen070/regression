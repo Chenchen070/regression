{
 "cells": [
  {
   "cell_type": "markdown",
   "id": "2b8f9aff",
   "metadata": {},
   "source": [
    "# Exercises"
   ]
  },
  {
   "cell_type": "markdown",
   "id": "3d1f9ca6",
   "metadata": {},
   "source": [
    "### 1. Load your zillow dataset."
   ]
  },
  {
   "cell_type": "code",
   "execution_count": 119,
   "id": "a7222f45",
   "metadata": {},
   "outputs": [],
   "source": [
    "from wrangle import wrangle_zillow, split_zillow\n",
    "df_zillow = wrangle_zillow()\n",
    "\n",
    "df = df_zillow.copy()\n",
    "\n",
    "train, validate, test = split_zillow(df)"
   ]
  },
  {
   "cell_type": "code",
   "execution_count": 2,
   "id": "0d7d8c9b",
   "metadata": {},
   "outputs": [
    {
     "data": {
      "text/plain": [
       "(1178202, 7)"
      ]
     },
     "execution_count": 2,
     "metadata": {},
     "output_type": "execute_result"
    }
   ],
   "source": [
    "train.shape"
   ]
  },
  {
   "cell_type": "code",
   "execution_count": 24,
   "id": "2f128fce",
   "metadata": {},
   "outputs": [
    {
     "data": {
      "text/plain": [
       "Index(['bedroomcnt', 'bathroomcnt', 'calculatedfinishedsquarefeet',\n",
       "       'taxvaluedollarcnt', 'yearbuilt', 'taxamount', 'fips'],\n",
       "      dtype='object')"
      ]
     },
     "execution_count": 24,
     "metadata": {},
     "output_type": "execute_result"
    }
   ],
   "source": [
    "train.columns"
   ]
  },
  {
   "cell_type": "markdown",
   "id": "033a1d98",
   "metadata": {},
   "source": [
    "### 2. Fit a linear regression model (ordinary least squares) and compute yhat, predictions of taxvaluedollarcnt using only calfulatedfinishedsqft."
   ]
  },
  {
   "cell_type": "code",
   "execution_count": 25,
   "id": "bbd1c6e2",
   "metadata": {},
   "outputs": [],
   "source": [
    "import pandas as pd\n",
    "import numpy as np\n",
    "import matplotlib.pyplot as plt\n",
    "from scipy import stats\n",
    "from sklearn.metrics import mean_squared_error, r2_score\n",
    "\n",
    "from sklearn.linear_model import LinearRegression\n",
    "from sklearn.feature_selection import f_regression \n",
    "from math import sqrt\n",
    "import seaborn as sns\n",
    "import warnings\n",
    "warnings.filterwarnings('ignore')"
   ]
  },
  {
   "cell_type": "code",
   "execution_count": 120,
   "id": "54505917",
   "metadata": {},
   "outputs": [],
   "source": [
    "train = train.rename(columns = {'calculatedfinishedsquarefeet':'square_feet', 'taxvaluedollarcnt': 'house_value'})"
   ]
  },
  {
   "cell_type": "code",
   "execution_count": 27,
   "id": "98ad8372",
   "metadata": {},
   "outputs": [
    {
     "data": {
      "text/html": [
       "<div>\n",
       "<style scoped>\n",
       "    .dataframe tbody tr th:only-of-type {\n",
       "        vertical-align: middle;\n",
       "    }\n",
       "\n",
       "    .dataframe tbody tr th {\n",
       "        vertical-align: top;\n",
       "    }\n",
       "\n",
       "    .dataframe thead th {\n",
       "        text-align: right;\n",
       "    }\n",
       "</style>\n",
       "<table border=\"1\" class=\"dataframe\">\n",
       "  <thead>\n",
       "    <tr style=\"text-align: right;\">\n",
       "      <th></th>\n",
       "      <th>bedroomcnt</th>\n",
       "      <th>bathroomcnt</th>\n",
       "      <th>square_feet</th>\n",
       "      <th>house_value</th>\n",
       "      <th>yearbuilt</th>\n",
       "      <th>taxamount</th>\n",
       "      <th>fips</th>\n",
       "    </tr>\n",
       "  </thead>\n",
       "  <tbody>\n",
       "    <tr>\n",
       "      <th>176880</th>\n",
       "      <td>3</td>\n",
       "      <td>2.0</td>\n",
       "      <td>1714</td>\n",
       "      <td>115157</td>\n",
       "      <td>1973</td>\n",
       "      <td>1282.32</td>\n",
       "      <td>6059</td>\n",
       "    </tr>\n",
       "    <tr>\n",
       "      <th>331975</th>\n",
       "      <td>3</td>\n",
       "      <td>3.0</td>\n",
       "      <td>1862</td>\n",
       "      <td>345618</td>\n",
       "      <td>1958</td>\n",
       "      <td>5530.82</td>\n",
       "      <td>6059</td>\n",
       "    </tr>\n",
       "    <tr>\n",
       "      <th>1753349</th>\n",
       "      <td>5</td>\n",
       "      <td>5.0</td>\n",
       "      <td>3959</td>\n",
       "      <td>1451000</td>\n",
       "      <td>1953</td>\n",
       "      <td>15884.95</td>\n",
       "      <td>6037</td>\n",
       "    </tr>\n",
       "    <tr>\n",
       "      <th>120218</th>\n",
       "      <td>3</td>\n",
       "      <td>3.0</td>\n",
       "      <td>2100</td>\n",
       "      <td>459187</td>\n",
       "      <td>1962</td>\n",
       "      <td>5619.06</td>\n",
       "      <td>6037</td>\n",
       "    </tr>\n",
       "    <tr>\n",
       "      <th>1991743</th>\n",
       "      <td>4</td>\n",
       "      <td>2.0</td>\n",
       "      <td>1954</td>\n",
       "      <td>403193</td>\n",
       "      <td>1980</td>\n",
       "      <td>5047.67</td>\n",
       "      <td>6037</td>\n",
       "    </tr>\n",
       "  </tbody>\n",
       "</table>\n",
       "</div>"
      ],
      "text/plain": [
       "         bedroomcnt  bathroomcnt  square_feet  house_value  yearbuilt  \\\n",
       "176880            3          2.0         1714       115157       1973   \n",
       "331975            3          3.0         1862       345618       1958   \n",
       "1753349           5          5.0         3959      1451000       1953   \n",
       "120218            3          3.0         2100       459187       1962   \n",
       "1991743           4          2.0         1954       403193       1980   \n",
       "\n",
       "         taxamount  fips  \n",
       "176880     1282.32  6059  \n",
       "331975     5530.82  6059  \n",
       "1753349   15884.95  6037  \n",
       "120218     5619.06  6037  \n",
       "1991743    5047.67  6037  "
      ]
     },
     "execution_count": 27,
     "metadata": {},
     "output_type": "execute_result"
    }
   ],
   "source": [
    "train.head()"
   ]
  },
  {
   "cell_type": "code",
   "execution_count": 122,
   "id": "5c1c3c85",
   "metadata": {},
   "outputs": [],
   "source": [
    "x_train = train[['square_feet']]\n",
    "y_train = train[['house_value']]"
   ]
  },
  {
   "cell_type": "code",
   "execution_count": 54,
   "id": "86cc71c0",
   "metadata": {},
   "outputs": [
    {
     "data": {
      "text/plain": [
       "398683.7051405447"
      ]
     },
     "execution_count": 54,
     "metadata": {},
     "output_type": "execute_result"
    }
   ],
   "source": [
    "# set a baseline\n",
    "\n",
    "baseline = train.house_value.mean()\n",
    "baseline"
   ]
  },
  {
   "cell_type": "code",
   "execution_count": 121,
   "id": "5c7455dc",
   "metadata": {},
   "outputs": [
    {
     "data": {
      "text/html": [
       "<div>\n",
       "<style scoped>\n",
       "    .dataframe tbody tr th:only-of-type {\n",
       "        vertical-align: middle;\n",
       "    }\n",
       "\n",
       "    .dataframe tbody tr th {\n",
       "        vertical-align: top;\n",
       "    }\n",
       "\n",
       "    .dataframe thead th {\n",
       "        text-align: right;\n",
       "    }\n",
       "</style>\n",
       "<table border=\"1\" class=\"dataframe\">\n",
       "  <thead>\n",
       "    <tr style=\"text-align: right;\">\n",
       "      <th></th>\n",
       "      <th>bedroomcnt</th>\n",
       "      <th>bathroomcnt</th>\n",
       "      <th>square_feet</th>\n",
       "      <th>house_value</th>\n",
       "      <th>yearbuilt</th>\n",
       "      <th>taxamount</th>\n",
       "      <th>fips</th>\n",
       "      <th>baseline</th>\n",
       "    </tr>\n",
       "  </thead>\n",
       "  <tbody>\n",
       "    <tr>\n",
       "      <th>176880</th>\n",
       "      <td>3</td>\n",
       "      <td>2.0</td>\n",
       "      <td>1714</td>\n",
       "      <td>115157</td>\n",
       "      <td>1973</td>\n",
       "      <td>1282.32</td>\n",
       "      <td>6059</td>\n",
       "      <td>398683.705141</td>\n",
       "    </tr>\n",
       "    <tr>\n",
       "      <th>331975</th>\n",
       "      <td>3</td>\n",
       "      <td>3.0</td>\n",
       "      <td>1862</td>\n",
       "      <td>345618</td>\n",
       "      <td>1958</td>\n",
       "      <td>5530.82</td>\n",
       "      <td>6059</td>\n",
       "      <td>398683.705141</td>\n",
       "    </tr>\n",
       "    <tr>\n",
       "      <th>1753349</th>\n",
       "      <td>5</td>\n",
       "      <td>5.0</td>\n",
       "      <td>3959</td>\n",
       "      <td>1451000</td>\n",
       "      <td>1953</td>\n",
       "      <td>15884.95</td>\n",
       "      <td>6037</td>\n",
       "      <td>398683.705141</td>\n",
       "    </tr>\n",
       "    <tr>\n",
       "      <th>120218</th>\n",
       "      <td>3</td>\n",
       "      <td>3.0</td>\n",
       "      <td>2100</td>\n",
       "      <td>459187</td>\n",
       "      <td>1962</td>\n",
       "      <td>5619.06</td>\n",
       "      <td>6037</td>\n",
       "      <td>398683.705141</td>\n",
       "    </tr>\n",
       "    <tr>\n",
       "      <th>1991743</th>\n",
       "      <td>4</td>\n",
       "      <td>2.0</td>\n",
       "      <td>1954</td>\n",
       "      <td>403193</td>\n",
       "      <td>1980</td>\n",
       "      <td>5047.67</td>\n",
       "      <td>6037</td>\n",
       "      <td>398683.705141</td>\n",
       "    </tr>\n",
       "  </tbody>\n",
       "</table>\n",
       "</div>"
      ],
      "text/plain": [
       "         bedroomcnt  bathroomcnt  square_feet  house_value  yearbuilt  \\\n",
       "176880            3          2.0         1714       115157       1973   \n",
       "331975            3          3.0         1862       345618       1958   \n",
       "1753349           5          5.0         3959      1451000       1953   \n",
       "120218            3          3.0         2100       459187       1962   \n",
       "1991743           4          2.0         1954       403193       1980   \n",
       "\n",
       "         taxamount  fips       baseline  \n",
       "176880     1282.32  6059  398683.705141  \n",
       "331975     5530.82  6059  398683.705141  \n",
       "1753349   15884.95  6037  398683.705141  \n",
       "120218     5619.06  6037  398683.705141  \n",
       "1991743    5047.67  6037  398683.705141  "
      ]
     },
     "execution_count": 121,
     "metadata": {},
     "output_type": "execute_result"
    }
   ],
   "source": [
    "train['baseline'] = train.house_value.mean()\n",
    "train.head()"
   ]
  },
  {
   "cell_type": "code",
   "execution_count": 123,
   "id": "dc60b1f6",
   "metadata": {},
   "outputs": [
    {
     "data": {
      "image/png": "[encoded data removed]",
      "text/plain": [
       "<Figure size 720x504 with 1 Axes>"
      ]
     },
     "metadata": {
      "needs_background": "light"
     },
     "output_type": "display_data"
    }
   ],
   "source": [
    "# plot data with baseline:\n",
    "plt.figure(figsize = (10,7))\n",
    "\n",
    "plt.scatter(x_train.sample(100000, random_state=123), y_train.sample(100000, random_state=123))\n",
    "plt.axhline(train.house_value.mean(), ls = ':', color = 'red')\n",
    "plt.xlabel('x = square_feet')\n",
    "plt.ylabel('y = house_value')\n",
    "plt.title('Baseline model');"
   ]
  },
  {
   "cell_type": "code",
   "execution_count": 125,
   "id": "f87fa0ba",
   "metadata": {},
   "outputs": [
    {
     "data": {
      "text/html": [
       "<div>\n",
       "<style scoped>\n",
       "    .dataframe tbody tr th:only-of-type {\n",
       "        vertical-align: middle;\n",
       "    }\n",
       "\n",
       "    .dataframe tbody tr th {\n",
       "        vertical-align: top;\n",
       "    }\n",
       "\n",
       "    .dataframe thead th {\n",
       "        text-align: right;\n",
       "    }\n",
       "</style>\n",
       "<table border=\"1\" class=\"dataframe\">\n",
       "  <thead>\n",
       "    <tr style=\"text-align: right;\">\n",
       "      <th></th>\n",
       "      <th>bedroomcnt</th>\n",
       "      <th>bathroomcnt</th>\n",
       "      <th>square_feet</th>\n",
       "      <th>house_value</th>\n",
       "      <th>yearbuilt</th>\n",
       "      <th>taxamount</th>\n",
       "      <th>fips</th>\n",
       "      <th>baseline</th>\n",
       "      <th>yhat</th>\n",
       "    </tr>\n",
       "  </thead>\n",
       "  <tbody>\n",
       "    <tr>\n",
       "      <th>176880</th>\n",
       "      <td>3</td>\n",
       "      <td>2.0</td>\n",
       "      <td>1714</td>\n",
       "      <td>115157</td>\n",
       "      <td>1973</td>\n",
       "      <td>1282.32</td>\n",
       "      <td>6059</td>\n",
       "      <td>398683.705141</td>\n",
       "      <td>391221.992727</td>\n",
       "    </tr>\n",
       "    <tr>\n",
       "      <th>331975</th>\n",
       "      <td>3</td>\n",
       "      <td>3.0</td>\n",
       "      <td>1862</td>\n",
       "      <td>345618</td>\n",
       "      <td>1958</td>\n",
       "      <td>5530.82</td>\n",
       "      <td>6059</td>\n",
       "      <td>398683.705141</td>\n",
       "      <td>404393.422522</td>\n",
       "    </tr>\n",
       "    <tr>\n",
       "      <th>1753349</th>\n",
       "      <td>5</td>\n",
       "      <td>5.0</td>\n",
       "      <td>3959</td>\n",
       "      <td>1451000</td>\n",
       "      <td>1953</td>\n",
       "      <td>15884.95</td>\n",
       "      <td>6037</td>\n",
       "      <td>398683.705141</td>\n",
       "      <td>591018.343337</td>\n",
       "    </tr>\n",
       "    <tr>\n",
       "      <th>120218</th>\n",
       "      <td>3</td>\n",
       "      <td>3.0</td>\n",
       "      <td>2100</td>\n",
       "      <td>459187</td>\n",
       "      <td>1962</td>\n",
       "      <td>5619.06</td>\n",
       "      <td>6037</td>\n",
       "      <td>398683.705141</td>\n",
       "      <td>425574.505571</td>\n",
       "    </tr>\n",
       "    <tr>\n",
       "      <th>1991743</th>\n",
       "      <td>4</td>\n",
       "      <td>2.0</td>\n",
       "      <td>1954</td>\n",
       "      <td>403193</td>\n",
       "      <td>1980</td>\n",
       "      <td>5047.67</td>\n",
       "      <td>6037</td>\n",
       "      <td>398683.705141</td>\n",
       "      <td>412581.068071</td>\n",
       "    </tr>\n",
       "  </tbody>\n",
       "</table>\n",
       "</div>"
      ],
      "text/plain": [
       "         bedroomcnt  bathroomcnt  square_feet  house_value  yearbuilt  \\\n",
       "176880            3          2.0         1714       115157       1973   \n",
       "331975            3          3.0         1862       345618       1958   \n",
       "1753349           5          5.0         3959      1451000       1953   \n",
       "120218            3          3.0         2100       459187       1962   \n",
       "1991743           4          2.0         1954       403193       1980   \n",
       "\n",
       "         taxamount  fips       baseline           yhat  \n",
       "176880     1282.32  6059  398683.705141  391221.992727  \n",
       "331975     5530.82  6059  398683.705141  404393.422522  \n",
       "1753349   15884.95  6037  398683.705141  591018.343337  \n",
       "120218     5619.06  6037  398683.705141  425574.505571  \n",
       "1991743    5047.67  6037  398683.705141  412581.068071  "
      ]
     },
     "execution_count": 125,
     "metadata": {},
     "output_type": "execute_result"
    }
   ],
   "source": [
    "# Now we fit a regression model using OLS method.\n",
    "# OLS = ordinary least squares.\n",
    "\n",
    "# create the model object\n",
    "lm = LinearRegression(normalize=True)\n",
    "\n",
    "# fit the model to training data\n",
    "model = lm.fit(x_train, y_train)\n",
    "\n",
    "# make prediction\n",
    "train['yhat'] = lm.predict(x_train)\n",
    "\n",
    "train.head()"
   ]
  },
  {
   "cell_type": "markdown",
   "id": "e4225b56",
   "metadata": {},
   "source": [
    "house_value = Actual target  \n",
    "yhat = OLS model prediction"
   ]
  },
  {
   "cell_type": "code",
   "execution_count": 106,
   "id": "3c8ff401",
   "metadata": {},
   "outputs": [
    {
     "data": {
      "image/png": "[encoded data removed]",
      "text/plain": [
       "<Figure size 720x504 with 1 Axes>"
      ]
     },
     "metadata": {
      "needs_background": "light"
     },
     "output_type": "display_data"
    }
   ],
   "source": [
    "# visualize the line of best fit from OLS linear model\n",
    "plt.figure(figsize = (10,7))\n",
    "\n",
    "plt.scatter(x_train.sample(100000, random_state=123), y_train.sample(100000, random_state=123))\n",
    "plt.plot(train.square_feet.sample(100000, random_state=123), train.yhat.sample(100000, random_state=123), color = 'red')\n",
    "plt.xlabel('x = square_feet')\n",
    "plt.ylabel('y = house_value')\n",
    "plt.title('Baseline model');"
   ]
  },
  {
   "cell_type": "markdown",
   "id": "c04241a8",
   "metadata": {},
   "source": [
    "### 3. Plot the residuals for the linear regression model that you made.\n",
    "\n",
    "#### Residuals (error)\n",
    "    - predicted minus actual"
   ]
  },
  {
   "cell_type": "code",
   "execution_count": 126,
   "id": "d04422f2",
   "metadata": {},
   "outputs": [
    {
     "data": {
      "text/html": [
       "<div>\n",
       "<style scoped>\n",
       "    .dataframe tbody tr th:only-of-type {\n",
       "        vertical-align: middle;\n",
       "    }\n",
       "\n",
       "    .dataframe tbody tr th {\n",
       "        vertical-align: top;\n",
       "    }\n",
       "\n",
       "    .dataframe thead th {\n",
       "        text-align: right;\n",
       "    }\n",
       "</style>\n",
       "<table border=\"1\" class=\"dataframe\">\n",
       "  <thead>\n",
       "    <tr style=\"text-align: right;\">\n",
       "      <th></th>\n",
       "      <th>bedroomcnt</th>\n",
       "      <th>bathroomcnt</th>\n",
       "      <th>square_feet</th>\n",
       "      <th>house_value</th>\n",
       "      <th>yearbuilt</th>\n",
       "      <th>taxamount</th>\n",
       "      <th>fips</th>\n",
       "      <th>baseline</th>\n",
       "      <th>yhat</th>\n",
       "    </tr>\n",
       "  </thead>\n",
       "  <tbody>\n",
       "    <tr>\n",
       "      <th>176880</th>\n",
       "      <td>3</td>\n",
       "      <td>2.0</td>\n",
       "      <td>1714</td>\n",
       "      <td>115157</td>\n",
       "      <td>1973</td>\n",
       "      <td>1282.32</td>\n",
       "      <td>6059</td>\n",
       "      <td>398683.705141</td>\n",
       "      <td>391221.992727</td>\n",
       "    </tr>\n",
       "    <tr>\n",
       "      <th>331975</th>\n",
       "      <td>3</td>\n",
       "      <td>3.0</td>\n",
       "      <td>1862</td>\n",
       "      <td>345618</td>\n",
       "      <td>1958</td>\n",
       "      <td>5530.82</td>\n",
       "      <td>6059</td>\n",
       "      <td>398683.705141</td>\n",
       "      <td>404393.422522</td>\n",
       "    </tr>\n",
       "    <tr>\n",
       "      <th>1753349</th>\n",
       "      <td>5</td>\n",
       "      <td>5.0</td>\n",
       "      <td>3959</td>\n",
       "      <td>1451000</td>\n",
       "      <td>1953</td>\n",
       "      <td>15884.95</td>\n",
       "      <td>6037</td>\n",
       "      <td>398683.705141</td>\n",
       "      <td>591018.343337</td>\n",
       "    </tr>\n",
       "    <tr>\n",
       "      <th>120218</th>\n",
       "      <td>3</td>\n",
       "      <td>3.0</td>\n",
       "      <td>2100</td>\n",
       "      <td>459187</td>\n",
       "      <td>1962</td>\n",
       "      <td>5619.06</td>\n",
       "      <td>6037</td>\n",
       "      <td>398683.705141</td>\n",
       "      <td>425574.505571</td>\n",
       "    </tr>\n",
       "    <tr>\n",
       "      <th>1991743</th>\n",
       "      <td>4</td>\n",
       "      <td>2.0</td>\n",
       "      <td>1954</td>\n",
       "      <td>403193</td>\n",
       "      <td>1980</td>\n",
       "      <td>5047.67</td>\n",
       "      <td>6037</td>\n",
       "      <td>398683.705141</td>\n",
       "      <td>412581.068071</td>\n",
       "    </tr>\n",
       "  </tbody>\n",
       "</table>\n",
       "</div>"
      ],
      "text/plain": [
       "         bedroomcnt  bathroomcnt  square_feet  house_value  yearbuilt  \\\n",
       "176880            3          2.0         1714       115157       1973   \n",
       "331975            3          3.0         1862       345618       1958   \n",
       "1753349           5          5.0         3959      1451000       1953   \n",
       "120218            3          3.0         2100       459187       1962   \n",
       "1991743           4          2.0         1954       403193       1980   \n",
       "\n",
       "         taxamount  fips       baseline           yhat  \n",
       "176880     1282.32  6059  398683.705141  391221.992727  \n",
       "331975     5530.82  6059  398683.705141  404393.422522  \n",
       "1753349   15884.95  6037  398683.705141  591018.343337  \n",
       "120218     5619.06  6037  398683.705141  425574.505571  \n",
       "1991743    5047.67  6037  398683.705141  412581.068071  "
      ]
     },
     "execution_count": 126,
     "metadata": {},
     "output_type": "execute_result"
    }
   ],
   "source": [
    "train.head()"
   ]
  },
  {
   "cell_type": "code",
   "execution_count": 127,
   "id": "a51d9b93",
   "metadata": {},
   "outputs": [],
   "source": [
    "# residual = actual - predicted\n",
    "\n",
    "train['residual'] = train.house_value - train.yhat\n",
    "train['baseline_residual'] = train.house_value - train.baseline"
   ]
  },
  {
   "cell_type": "code",
   "execution_count": 61,
   "id": "cf964dc9",
   "metadata": {},
   "outputs": [
    {
     "data": {
      "text/html": [
       "<div>\n",
       "<style scoped>\n",
       "    .dataframe tbody tr th:only-of-type {\n",
       "        vertical-align: middle;\n",
       "    }\n",
       "\n",
       "    .dataframe tbody tr th {\n",
       "        vertical-align: top;\n",
       "    }\n",
       "\n",
       "    .dataframe thead th {\n",
       "        text-align: right;\n",
       "    }\n",
       "</style>\n",
       "<table border=\"1\" class=\"dataframe\">\n",
       "  <thead>\n",
       "    <tr style=\"text-align: right;\">\n",
       "      <th></th>\n",
       "      <th>bedroomcnt</th>\n",
       "      <th>bathroomcnt</th>\n",
       "      <th>square_feet</th>\n",
       "      <th>house_value</th>\n",
       "      <th>yearbuilt</th>\n",
       "      <th>taxamount</th>\n",
       "      <th>fips</th>\n",
       "      <th>baseline</th>\n",
       "      <th>yhat</th>\n",
       "      <th>residual</th>\n",
       "      <th>baseline_residual</th>\n",
       "    </tr>\n",
       "  </thead>\n",
       "  <tbody>\n",
       "    <tr>\n",
       "      <th>176880</th>\n",
       "      <td>3</td>\n",
       "      <td>2.0</td>\n",
       "      <td>1714</td>\n",
       "      <td>115157</td>\n",
       "      <td>1973</td>\n",
       "      <td>1282.32</td>\n",
       "      <td>6059</td>\n",
       "      <td>398683.705141</td>\n",
       "      <td>391221.992727</td>\n",
       "      <td>-276064.992727</td>\n",
       "      <td>-2.835267e+05</td>\n",
       "    </tr>\n",
       "    <tr>\n",
       "      <th>331975</th>\n",
       "      <td>3</td>\n",
       "      <td>3.0</td>\n",
       "      <td>1862</td>\n",
       "      <td>345618</td>\n",
       "      <td>1958</td>\n",
       "      <td>5530.82</td>\n",
       "      <td>6059</td>\n",
       "      <td>398683.705141</td>\n",
       "      <td>404393.422522</td>\n",
       "      <td>-58775.422522</td>\n",
       "      <td>-5.306571e+04</td>\n",
       "    </tr>\n",
       "    <tr>\n",
       "      <th>1753349</th>\n",
       "      <td>5</td>\n",
       "      <td>5.0</td>\n",
       "      <td>3959</td>\n",
       "      <td>1451000</td>\n",
       "      <td>1953</td>\n",
       "      <td>15884.95</td>\n",
       "      <td>6037</td>\n",
       "      <td>398683.705141</td>\n",
       "      <td>591018.343337</td>\n",
       "      <td>859981.656663</td>\n",
       "      <td>1.052316e+06</td>\n",
       "    </tr>\n",
       "    <tr>\n",
       "      <th>120218</th>\n",
       "      <td>3</td>\n",
       "      <td>3.0</td>\n",
       "      <td>2100</td>\n",
       "      <td>459187</td>\n",
       "      <td>1962</td>\n",
       "      <td>5619.06</td>\n",
       "      <td>6037</td>\n",
       "      <td>398683.705141</td>\n",
       "      <td>425574.505571</td>\n",
       "      <td>33612.494429</td>\n",
       "      <td>6.050329e+04</td>\n",
       "    </tr>\n",
       "    <tr>\n",
       "      <th>1991743</th>\n",
       "      <td>4</td>\n",
       "      <td>2.0</td>\n",
       "      <td>1954</td>\n",
       "      <td>403193</td>\n",
       "      <td>1980</td>\n",
       "      <td>5047.67</td>\n",
       "      <td>6037</td>\n",
       "      <td>398683.705141</td>\n",
       "      <td>412581.068071</td>\n",
       "      <td>-9388.068071</td>\n",
       "      <td>4.509295e+03</td>\n",
       "    </tr>\n",
       "  </tbody>\n",
       "</table>\n",
       "</div>"
      ],
      "text/plain": [
       "         bedroomcnt  bathroomcnt  square_feet  house_value  yearbuilt  \\\n",
       "176880            3          2.0         1714       115157       1973   \n",
       "331975            3          3.0         1862       345618       1958   \n",
       "1753349           5          5.0         3959      1451000       1953   \n",
       "120218            3          3.0         2100       459187       1962   \n",
       "1991743           4          2.0         1954       403193       1980   \n",
       "\n",
       "         taxamount  fips       baseline           yhat       residual  \\\n",
       "176880     1282.32  6059  398683.705141  391221.992727 -276064.992727   \n",
       "331975     5530.82  6059  398683.705141  404393.422522  -58775.422522   \n",
       "1753349   15884.95  6037  398683.705141  591018.343337  859981.656663   \n",
       "120218     5619.06  6037  398683.705141  425574.505571   33612.494429   \n",
       "1991743    5047.67  6037  398683.705141  412581.068071   -9388.068071   \n",
       "\n",
       "         baseline_residual  \n",
       "176880       -2.835267e+05  \n",
       "331975       -5.306571e+04  \n",
       "1753349       1.052316e+06  \n",
       "120218        6.050329e+04  \n",
       "1991743       4.509295e+03  "
      ]
     },
     "execution_count": 61,
     "metadata": {},
     "output_type": "execute_result"
    }
   ],
   "source": [
    "train.head()"
   ]
  },
  {
   "cell_type": "code",
   "execution_count": 62,
   "id": "4fc4a28c",
   "metadata": {},
   "outputs": [
    {
     "data": {
      "text/plain": [
       "-4.480965435504913e-05"
      ]
     },
     "execution_count": 62,
     "metadata": {},
     "output_type": "execute_result"
    }
   ],
   "source": [
    "train.residual.sum()"
   ]
  },
  {
   "cell_type": "code",
   "execution_count": 63,
   "id": "2c134885",
   "metadata": {},
   "outputs": [
    {
     "data": {
      "text/plain": [
       "-5.885958671569824e-06"
      ]
     },
     "execution_count": 63,
     "metadata": {},
     "output_type": "execute_result"
    }
   ],
   "source": [
    "train.baseline_residual.sum()"
   ]
  },
  {
   "cell_type": "code",
   "execution_count": 128,
   "id": "fa879205",
   "metadata": {},
   "outputs": [
    {
     "data": {
      "image/png": "[encoded data removed]",
      "text/plain": [
       "<Figure size 792x360 with 2 Axes>"
      ]
     },
     "metadata": {
      "needs_background": "light"
     },
     "output_type": "display_data"
    }
   ],
   "source": [
    "# residual plots (x vs residual)\n",
    "\n",
    "plt.figure(figsize = (11,5))\n",
    "\n",
    "plt.subplot(121)\n",
    "plt.scatter(train.square_feet.sample(100000, random_state=123), train.baseline_residual.sample(100000, random_state=123))\n",
    "plt.axhline(y = 0, ls = ':', color = 'red')\n",
    "plt.xlabel('x')\n",
    "plt.ylabel('Residual')\n",
    "plt.title('Baseline Residuals')\n",
    "\n",
    "plt.subplot(122)\n",
    "plt.scatter(train.square_feet.sample(100000, random_state=123), train.residual.sample(100000, random_state=123))\n",
    "plt.axhline(y = 0, ls = ':', color = 'red')\n",
    "plt.xlabel('x')\n",
    "plt.ylabel('Residual')\n",
    "plt.title('OLS model residuals');"
   ]
  },
  {
   "cell_type": "code",
   "execution_count": 105,
   "id": "319c3b1b",
   "metadata": {},
   "outputs": [
    {
     "data": {
      "text/plain": [
       "<AxesSubplot:xlabel='square_feet', ylabel='residual'>"
      ]
     },
     "execution_count": 105,
     "metadata": {},
     "output_type": "execute_result"
    },
    {
     "data": {
      "image/png": "[encoded data removed]",
      "text/plain": [
       "<Figure size 432x288 with 1 Axes>"
      ]
     },
     "metadata": {
      "needs_background": "light"
     },
     "output_type": "display_data"
    }
   ],
   "source": [
    "# residual plots (x vs residual)\n",
    "\n",
    "sns.scatterplot(x=\"square_feet\", y=\"residual\", data=train.sample(100000, random_state=123))"
   ]
  },
  {
   "cell_type": "markdown",
   "id": "635750ef",
   "metadata": {},
   "source": [
    "### 4. Calculate the sum of squared errors, explained sum of squares, total sum of squares, mean squared error, and root mean squared error for your model.\n",
    "\n",
    "* SSE (Sum of Squared Errors)  ---   sum the squared of residuals\n",
    "* ESS  ---  explained sum of squares\n",
    "* TSS  ---  total sum of squares\n",
    "* MSE (Mean Squared Error)\n",
    "* RMSE (Root Mean Squared Error)"
   ]
  },
  {
   "cell_type": "code",
   "execution_count": 141,
   "id": "d786ad86",
   "metadata": {},
   "outputs": [
    {
     "name": "stdout",
     "output_type": "stream",
     "text": [
      "SSE = 1.0066504359522392e+17\n",
      "TSS = 1.1587975206566512e+17\n",
      "MSE = 85439545676.56813\n",
      "RMSE = 292300.4373526802\n"
     ]
    }
   ],
   "source": [
    "SSE = mean_squared_error(train.house_value, train.yhat) * len(train)\n",
    "ESS = sum((train.yhat - train.house_value.mean())**2)\n",
    "TSS = ESS + SSE\n",
    "MSE = mean_squared_error(train.house_value, train.yhat)\n",
    "RMSE = sqrt(mean_squared_error(train.house_value, train.yhat))\n",
    "\n",
    "print(f\"SSE = {SSE}\")\n",
    "print(f\"TSS = {TSS}\")\n",
    "print(f\"MSE = {MSE}\")\n",
    "print(f\"RMSE = {RMSE}\")"
   ]
  },
  {
   "cell_type": "code",
   "execution_count": null,
   "id": "6e243522",
   "metadata": {},
   "outputs": [],
   "source": []
  },
  {
   "cell_type": "markdown",
   "id": "6b440237",
   "metadata": {},
   "source": [
    "### 5. Calculate the sum of squared errors, mean squared error, and root mean squared error for the baseline model (i.e. a model that always predicts the average taxvaluedollarcnt amount)."
   ]
  },
  {
   "cell_type": "code",
   "execution_count": 147,
   "id": "217c8414",
   "metadata": {},
   "outputs": [
    {
     "name": "stdout",
     "output_type": "stream",
     "text": [
      "SSE = 1.0066504359522392e+17\n",
      "MSE = 85439545676.56813\n",
      "RMSE = 292300.4373526802\n"
     ]
    }
   ],
   "source": [
    "SSE_bs = mean_squared_error(train.house_value, train.baseline) * len(train)\n",
    "MSE_bs = mean_squared_error(train.house_value, train.baseline)\n",
    "RMSE_bs = sqrt(mean_squared_error(train.house_value, train.baseline))\n",
    "\n",
    "print(f\"SSE = {SSE}\")\n",
    "print(f\"MSE = {MSE}\")\n",
    "print(f\"RMSE = {RMSE}\")"
   ]
  },
  {
   "cell_type": "code",
   "execution_count": 175,
   "id": "b3a7bc9a",
   "metadata": {},
   "outputs": [
    {
     "data": {
      "text/plain": [
       "True"
      ]
     },
     "execution_count": 175,
     "metadata": {},
     "output_type": "execute_result"
    }
   ],
   "source": [
    "RMSE < RMSE_bs"
   ]
  },
  {
   "cell_type": "markdown",
   "id": "ecda77f0",
   "metadata": {},
   "source": [
    "### 6. Write python code that compares the sum of squared errors for your model against the sum of squared errors for the baseline model and outputs whether or not your model performs better than the baseline model."
   ]
  },
  {
   "cell_type": "code",
   "execution_count": 140,
   "id": "41665914",
   "metadata": {},
   "outputs": [
    {
     "name": "stdout",
     "output_type": "stream",
     "text": [
      "Our model is better than the baseline.\n"
     ]
    }
   ],
   "source": [
    "if SSE < SSE_bs:\n",
    "    print('Our model is better than the baseline.')\n",
    "else:\n",
    "    print('Baseline is better than our model.')"
   ]
  },
  {
   "cell_type": "markdown",
   "id": "cd67dbe0",
   "metadata": {},
   "source": [
    "### 7. What is the amount of variance explained in your model?"
   ]
  },
  {
   "cell_type": "code",
   "execution_count": 168,
   "id": "4ac564a2",
   "metadata": {},
   "outputs": [
    {
     "name": "stdout",
     "output_type": "stream",
     "text": [
      "Explained Variance =  0.131\n"
     ]
    }
   ],
   "source": [
    "from sklearn.metrics import mean_squared_error, r2_score, explained_variance_score\n",
    "\n",
    "evs = explained_variance_score(train.house_value, train.yhat)\n",
    "print('Explained Variance = ', round(evs,3))"
   ]
  },
  {
   "cell_type": "code",
   "execution_count": 169,
   "id": "cc7ef968",
   "metadata": {},
   "outputs": [
    {
     "data": {
      "text/plain": [
       "0.13129738542942293"
      ]
     },
     "execution_count": 169,
     "metadata": {},
     "output_type": "execute_result"
    }
   ],
   "source": [
    "from sklearn.metrics import r2_score\n",
    "r2_score(train.house_value, train.yhat)"
   ]
  },
  {
   "cell_type": "markdown",
   "id": "f8f2ddf8",
   "metadata": {},
   "source": [
    "### 8. Is your model better than the baseline model?"
   ]
  },
  {
   "cell_type": "code",
   "execution_count": 174,
   "id": "9cdd6e5c",
   "metadata": {},
   "outputs": [
    {
     "name": "stdout",
     "output_type": "stream",
     "text": [
      "R-squared =  0.131\n",
      "Percent of variance in y explained by x =  13.1 %\n"
     ]
    }
   ],
   "source": [
    "R2 = ESS/TSS\n",
    "print('R-squared = ',round(R2,3))\n",
    "print(\"Percent of variance in y explained by x = \", round(R2*100,1), \"%\")"
   ]
  },
  {
   "cell_type": "code",
   "execution_count": 176,
   "id": "1fe81615",
   "metadata": {},
   "outputs": [
    {
     "name": "stdout",
     "output_type": "stream",
     "text": [
      "Our model is better than the baseline.\n"
     ]
    }
   ],
   "source": [
    "if RMSE < RMSE_bs:\n",
    "    print('Our model is better than the baseline.')\n",
    "else:\n",
    "    print('Baseline is better than our model.')"
   ]
  },
  {
   "cell_type": "markdown",
   "id": "afceaa4b",
   "metadata": {},
   "source": [
    "### 9. Create a file named evaluate.py that contains the following functions.\n",
    "\n",
    "* plot_residuals(y, yhat): creates a residual plot\n",
    "* regression_errors(y, yhat): returns the following values:\n",
    "    * sum of squared errors (SSE)\n",
    "    * explained sum of squares (ESS)\n",
    "    * total sum of squares (TSS)\n",
    "    * mean squared error (MSE)\n",
    "    * root mean squared error (RMSE)\n",
    "* baseline_mean_errors(y): computes the SSE, MSE, and RMSE for the baseline model\n",
    "* better_than_baseline(y, yhat): returns true if your model performs better than the baseline, otherwise false\n"
   ]
  },
  {
   "cell_type": "code",
   "execution_count": 113,
   "id": "d8f24fba",
   "metadata": {},
   "outputs": [],
   "source": [
    "def plot_residuals(x, y, yhat):\n",
    "    plt.scatter(x.sample(100000, random_state=123), (y-yhat).sample(100000, random_state=123))\n",
    "    plt.axhline(y = 0, ls = ':', color = 'red')\n",
    "    plt.xlabel('x')\n",
    "    plt.ylabel('Residual')\n",
    "    plt.title('OLS model residuals');"
   ]
  },
  {
   "cell_type": "code",
   "execution_count": 114,
   "id": "4a6a10e4",
   "metadata": {},
   "outputs": [
    {
     "data": {
      "image/png": "[encoded data removed]",
      "text/plain": [
       "<Figure size 432x288 with 1 Axes>"
      ]
     },
     "metadata": {
      "needs_background": "light"
     },
     "output_type": "display_data"
    }
   ],
   "source": [
    "plot_residuals(train.square_feet, train.house_value, train.yhat)"
   ]
  },
  {
   "cell_type": "code",
   "execution_count": 181,
   "id": "4addff8c",
   "metadata": {},
   "outputs": [],
   "source": [
    "def regression_errors(y, yhat):\n",
    "    \n",
    "    SSE = mean_squared_error(y, yhat) * len(train)\n",
    "    ESS = sum((yhat - y.mean())**2)\n",
    "    TSS = ESS + SSE\n",
    "    MSE = mean_squared_error(y, yhat)\n",
    "    RMSE = sqrt(mean_squared_error(y, yhat))\n",
    "    \n",
    "    ss = pd.DataFrame(np.array([\"SSE\", \"ESS\", \"TSS\", \"MSE\", \"RMSE\"]), columns=[\"metric\"])\n",
    "    ss['model_results'] = np.array([SSE, ESS, TSS, MSE, RMSE])\n",
    "    \n",
    "    return ss"
   ]
  },
  {
   "cell_type": "code",
   "execution_count": 183,
   "id": "95a1fb61",
   "metadata": {},
   "outputs": [
    {
     "data": {
      "text/html": [
       "<div>\n",
       "<style scoped>\n",
       "    .dataframe tbody tr th:only-of-type {\n",
       "        vertical-align: middle;\n",
       "    }\n",
       "\n",
       "    .dataframe tbody tr th {\n",
       "        vertical-align: top;\n",
       "    }\n",
       "\n",
       "    .dataframe thead th {\n",
       "        text-align: right;\n",
       "    }\n",
       "</style>\n",
       "<table border=\"1\" class=\"dataframe\">\n",
       "  <thead>\n",
       "    <tr style=\"text-align: right;\">\n",
       "      <th></th>\n",
       "      <th>metric</th>\n",
       "      <th>model_results</th>\n",
       "    </tr>\n",
       "  </thead>\n",
       "  <tbody>\n",
       "    <tr>\n",
       "      <th>0</th>\n",
       "      <td>SSE</td>\n",
       "      <td>1.006650e+17</td>\n",
       "    </tr>\n",
       "    <tr>\n",
       "      <th>1</th>\n",
       "      <td>ESS</td>\n",
       "      <td>1.521471e+16</td>\n",
       "    </tr>\n",
       "    <tr>\n",
       "      <th>2</th>\n",
       "      <td>TSS</td>\n",
       "      <td>1.158798e+17</td>\n",
       "    </tr>\n",
       "    <tr>\n",
       "      <th>3</th>\n",
       "      <td>MSE</td>\n",
       "      <td>8.543955e+10</td>\n",
       "    </tr>\n",
       "    <tr>\n",
       "      <th>4</th>\n",
       "      <td>RMSE</td>\n",
       "      <td>2.923004e+05</td>\n",
       "    </tr>\n",
       "  </tbody>\n",
       "</table>\n",
       "</div>"
      ],
      "text/plain": [
       "  metric  model_results\n",
       "0    SSE   1.006650e+17\n",
       "1    ESS   1.521471e+16\n",
       "2    TSS   1.158798e+17\n",
       "3    MSE   8.543955e+10\n",
       "4   RMSE   2.923004e+05"
      ]
     },
     "execution_count": 183,
     "metadata": {},
     "output_type": "execute_result"
    }
   ],
   "source": [
    "regression_errors(train.house_value, train.yhat)"
   ]
  },
  {
   "cell_type": "code",
   "execution_count": 182,
   "id": "f28c8f21",
   "metadata": {},
   "outputs": [],
   "source": [
    "def baseline_mean_errors(y, baseline):\n",
    "    \n",
    "    SSE_bs = mean_squared_error(y, baseline) * len(y)\n",
    "    MSE_bs = mean_squared_error(y, baseline)\n",
    "    RMSE_bs = sqrt(mean_squared_error(y, baseline))\n",
    "    \n",
    "    ss_bs = pd.DataFrame(np.array([\"SSE_bs\", \"MSE_bs\", \"RMSE_bs\"]), columns=[\"metric\"])\n",
    "    ss_bs['model_results'] = np.array([SSE_bs, MSE_bs, RMSE_bs])\n",
    "    \n",
    "    return ss_bs"
   ]
  },
  {
   "cell_type": "code",
   "execution_count": 184,
   "id": "ce728289",
   "metadata": {},
   "outputs": [
    {
     "data": {
      "text/html": [
       "<div>\n",
       "<style scoped>\n",
       "    .dataframe tbody tr th:only-of-type {\n",
       "        vertical-align: middle;\n",
       "    }\n",
       "\n",
       "    .dataframe tbody tr th {\n",
       "        vertical-align: top;\n",
       "    }\n",
       "\n",
       "    .dataframe thead th {\n",
       "        text-align: right;\n",
       "    }\n",
       "</style>\n",
       "<table border=\"1\" class=\"dataframe\">\n",
       "  <thead>\n",
       "    <tr style=\"text-align: right;\">\n",
       "      <th></th>\n",
       "      <th>metric</th>\n",
       "      <th>model_results</th>\n",
       "    </tr>\n",
       "  </thead>\n",
       "  <tbody>\n",
       "    <tr>\n",
       "      <th>0</th>\n",
       "      <td>SSE_bs</td>\n",
       "      <td>1.158798e+17</td>\n",
       "    </tr>\n",
       "    <tr>\n",
       "      <th>1</th>\n",
       "      <td>MSE_bs</td>\n",
       "      <td>9.835304e+10</td>\n",
       "    </tr>\n",
       "    <tr>\n",
       "      <th>2</th>\n",
       "      <td>RMSE_bs</td>\n",
       "      <td>3.136129e+05</td>\n",
       "    </tr>\n",
       "  </tbody>\n",
       "</table>\n",
       "</div>"
      ],
      "text/plain": [
       "    metric  model_results\n",
       "0   SSE_bs   1.158798e+17\n",
       "1   MSE_bs   9.835304e+10\n",
       "2  RMSE_bs   3.136129e+05"
      ]
     },
     "execution_count": 184,
     "metadata": {},
     "output_type": "execute_result"
    }
   ],
   "source": [
    "baseline_mean_errors(train.house_value, train.baseline)"
   ]
  },
  {
   "cell_type": "code",
   "execution_count": 179,
   "id": "34d7f9d4",
   "metadata": {},
   "outputs": [],
   "source": [
    "def better_than_baseline(y, yhat,baseline):\n",
    "    RMSE = sqrt(mean_squared_error(y, yhat))\n",
    "    RMSE_bs = sqrt(mean_squared_error(y, baseline))\n",
    "    \n",
    "    if RMSE < RMSE_bs:\n",
    "        return True\n",
    "    else:\n",
    "        return False"
   ]
  },
  {
   "cell_type": "code",
   "execution_count": 180,
   "id": "3194166b",
   "metadata": {},
   "outputs": [
    {
     "data": {
      "text/plain": [
       "True"
      ]
     },
     "execution_count": 180,
     "metadata": {},
     "output_type": "execute_result"
    }
   ],
   "source": [
    "better_than_baseline(train.house_value, train.yhat, train.baseline)"
   ]
  },
  {
   "cell_type": "code",
   "execution_count": null,
   "id": "c78fb281",
   "metadata": {},
   "outputs": [],
   "source": []
  },
  {
   "cell_type": "code",
   "execution_count": null,
   "id": "8939275c",
   "metadata": {},
   "outputs": [],
   "source": []
  }
 ],
 "metadata": {
  "kernelspec": {
   "display_name": "Python 3 (ipykernel)",
   "language": "python",
   "name": "python3"
  },
  "language_info": {
   "codemirror_mode": {
    "name": "ipython",
    "version": 3
   },
   "file_extension": ".py",
   "mimetype": "text/x-python",
   "name": "python",
   "nbconvert_exporter": "python",
   "pygments_lexer": "ipython3",
   "version": "3.9.12"
  }
 },
 "nbformat": 4,
 "nbformat_minor": 5
}
